{
 "cells": [
  {
   "cell_type": "markdown",
   "metadata": {
    "toc-hr-collapsed": true
   },
   "source": [
    "## Context\n",
    "KOV-4206 - Incident Impact - data scale (number of records)\n",
    "\n",
    "- Comparison of the overall distribution from the model with real events\n",
    "- Split by more granular event-types if the data allows"
   ]
  },
  {
   "cell_type": "markdown",
   "metadata": {},
   "source": [
    "## Limitations\n",
    "\n",
    "1. Scope: only covers F1000 companies\n",
    "2. Availabiliy model data: only available for companies where a `financial_quantification_input.json` file is generated (currently 948/1000)\n",
    "3. Data quality - validity of events data around the fields `data_records_impacted` and `compromised_data_types` is unknown\n",
    "4. Missing field in events data - the events data does not have a field that captures the number of data records within an entity rather it only includes the data records impacted by an event. We therefore assume that the difference in the `data_records_impacted` between the events and model data is driven by the field `data_scale` in the model data and try and find an appropriate adjustment.\n",
    "    "
   ]
  },
  {
   "cell_type": "markdown",
   "metadata": {},
   "source": [
    "## Data\n",
    "\n",
    "1. F1000 model data - table - `dna-db.postgres.model_events`\n",
    "    - model version: v2022.2.3 FQ model\n",
    "    - run date: 2022-04-20\n",
    "2. Events data \n",
    "    - table - `dna-db.postgres.data_sources_events`\n",
    "    - table - `dna-db.postgres.data_sources_entities`"
   ]
  },
  {
   "cell_type": "markdown",
   "metadata": {},
   "source": [
    "## Conclusion\n",
    "1. The scale of `data_records_impacted` in the events data is orders of magnitude lower than that in the model \n",
    "2. In trying to compensate for the difference between the `data_records_impacted` between the model and events data, we attempted to rescale the `data_scale` factor in the model data. However, it was difficult to establish the underlying distribution and parameters of this new scaling factor `data_scale_corrected`.\n",
    "3. Similar to the field: `data_records_impacted` the distribution of `compromised_data_types` is a lot more sparse for the events as compared to the model. "
   ]
  },
  {
   "cell_type": "markdown",
   "metadata": {},
   "source": [
    "## Testing Detail"
   ]
  },
  {
   "cell_type": "markdown",
   "metadata": {
    "nteract": {
     "transient": {
      "deleting": false
     }
    }
   },
   "source": [
    "### Data Records Impacted\n",
    "\n"
   ]
  },
  {
   "cell_type": "code",
   "execution_count": 2,
   "metadata": {
    "collapsed": false,
    "gather": {
     "logged": 1652945650975
    },
    "jupyter": {
     "outputs_hidden": false,
     "source_hidden": false
    },
    "nteract": {
     "transient": {
      "deleting": false
     }
    }
   },
   "outputs": [],
   "source": [
    "# builds the connection to azure:\n",
    "%matplotlib inline\n",
    "\n",
    "import os\n",
    "import sys\n",
    "import numpy as np\n",
    "import matplotlib as mpl\n",
    "import seaborn as sns\n",
    "from pandas_profiling import ProfileReport\n",
    "\n",
    "# import custom modules:\n",
    "module_path = os.path.abspath(os.path.join('..'))\n",
    "if module_path not in sys.path:\n",
    "    sys.path.append(module_path)\n",
    "from lib._get_data import *\n",
    "from lib._stats import *\n",
    "#set colour palette for seaborn\n",
    "colors = set_colours()\n",
    "sns.set_palette(sns.color_palette(colors))\n",
    "#get engine for sql queries\n",
    "engine=get_engine()\n"
   ]
  },
  {
   "cell_type": "code",
   "execution_count": 3,
   "metadata": {},
   "outputs": [],
   "source": [
    "pd.set_option('display.precision',3)\n",
    "pd.set_option('display.max_rows',100)\n",
    "pd.set_option('display.max_columns',100)\n",
    "pd.set_option('display.max_info_rows',100)\n",
    "pd.set_option('display.max_info_columns',50)\n",
    "pd.set_option('display.max_colwidth',0)\n",
    "pd.options.display.float_format='{:,.2f}'.format"
   ]
  },
  {
   "cell_type": "code",
   "execution_count": 4,
   "metadata": {
    "gather": {
     "logged": 1652945651174
    }
   },
   "outputs": [
    {
     "data": {
      "text/plain": [
       "'v2022.2.3'"
      ]
     },
     "execution_count": 4,
     "metadata": {},
     "output_type": "execute_result"
    }
   ],
   "source": [
    "# get model_version\n",
    "model_version = pd.read_sql_query('''select value from model_metadata where item = 'model_version' ''', engine)\n",
    "model_version = model_version.iloc[0][0]\n",
    "model_version"
   ]
  },
  {
   "cell_type": "code",
   "execution_count": 5,
   "metadata": {},
   "outputs": [
    {
     "data": {
      "application/vnd.jupyter.widget-view+json": {
       "model_id": "bd404fcae26147beb51c344f0f0530f5",
       "version_major": 2,
       "version_minor": 0
      },
      "text/plain": [
       "Summarize dataset:   0%|          | 0/5 [00:00<?, ?it/s]"
      ]
     },
     "metadata": {},
     "output_type": "display_data"
    },
    {
     "name": "stderr",
     "output_type": "stream",
     "text": [
      "/home/azureuser/virtualenvs/analytics_pipeline_results/lib/python3.8/site-packages/numpy/core/_methods.py:256: RuntimeWarning: invalid value encountered in double_scalars\n",
      "  ret = ret.dtype.type(ret / rcount)\n",
      "/home/azureuser/virtualenvs/analytics_pipeline_results/lib/python3.8/site-packages/numpy/core/_methods.py:264: RuntimeWarning: Degrees of freedom <= 0 for slice\n",
      "  ret = _var(a, axis=axis, dtype=dtype, out=out, ddof=ddof,\n",
      "/home/azureuser/virtualenvs/analytics_pipeline_results/lib/python3.8/site-packages/numpy/core/fromnumeric.py:3757: RuntimeWarning: Degrees of freedom <= 0 for slice\n",
      "  return _methods._var(a, axis=axis, dtype=dtype, out=out, ddof=ddof,\n"
     ]
    },
    {
     "data": {
      "application/vnd.jupyter.widget-view+json": {
       "model_id": "af09c9034460443493b67c61a1e7947b",
       "version_major": 2,
       "version_minor": 0
      },
      "text/plain": [
       "Generate report structure:   0%|          | 0/1 [00:00<?, ?it/s]"
      ]
     },
     "metadata": {},
     "output_type": "display_data"
    },
    {
     "data": {
      "application/vnd.jupyter.widget-view+json": {
       "model_id": "42d07005f6f54badbb49cb942807eb79",
       "version_major": 2,
       "version_minor": 0
      },
      "text/plain": [
       "Render HTML:   0%|          | 0/1 [00:00<?, ?it/s]"
      ]
     },
     "metadata": {},
     "output_type": "display_data"
    },
    {
     "data": {
      "application/vnd.jupyter.widget-view+json": {
       "model_id": "548c8d595d1c404eb4607942c5643051",
       "version_major": 2,
       "version_minor": 0
      },
      "text/plain": [
       "Export report to file:   0%|          | 0/1 [00:00<?, ?it/s]"
      ]
     },
     "metadata": {},
     "output_type": "display_data"
    }
   ],
   "source": [
    "#EDA - F1000 proxy events and entities \n",
    "events = read_f1k_table()\n",
    "profile_events_data = ProfileReport(events, title='model_events_EDA',minimal=True)\n",
    "profile_events_data.to_file('data/model_events_EDA.html')"
   ]
  },
  {
   "cell_type": "markdown",
   "metadata": {
    "nteract": {
     "transient": {
      "deleting": false
     }
    }
   },
   "source": [
    "### Get model data"
   ]
  },
  {
   "cell_type": "code",
   "execution_count": 6,
   "metadata": {
    "collapsed": false,
    "gather": {
     "logged": 1652945677514
    },
    "jupyter": {
     "outputs_hidden": false,
     "source_hidden": false
    },
    "nteract": {
     "transient": {
      "deleting": false
     }
    }
   },
   "outputs": [],
   "source": [
    "# get model_data\n",
    "df_model = pd.read_sql_query('''\n",
    "    select\n",
    "        model_events.run_id::text as entity,\n",
    "        model_entities.number_of_data_records,\n",
    "        model_events.data_scale,\n",
    "        model_entities.data_split_pci,\n",
    "        model_entities.data_split_other,\n",
    "        model_entities.data_split_phi,\n",
    "        model_entities.data_split_pii,\n",
    "        model_entities.number_of_data_records * model_events.data_scale as data_records_impacted,\n",
    "        model_events.event_type as event_type\n",
    "    from\n",
    "        model_events left outer join model_entities on model_events.run_id = model_entities.run_id\n",
    "''', engine)\n",
    "df_model.pop('entity')\n",
    "df_model['source'] = 'model'\n"
   ]
  },
  {
   "cell_type": "code",
   "execution_count": 7,
   "metadata": {},
   "outputs": [
    {
     "data": {
      "application/vnd.jupyter.widget-view+json": {
       "model_id": "1e7bafb529b54130b45f4829b553dff6",
       "version_major": 2,
       "version_minor": 0
      },
      "text/plain": [
       "Summarize dataset:   0%|          | 0/5 [00:00<?, ?it/s]"
      ]
     },
     "metadata": {},
     "output_type": "display_data"
    },
    {
     "data": {
      "application/vnd.jupyter.widget-view+json": {
       "model_id": "04671eecf7704e09812afbefcf8283ec",
       "version_major": 2,
       "version_minor": 0
      },
      "text/plain": [
       "Generate report structure:   0%|          | 0/1 [00:00<?, ?it/s]"
      ]
     },
     "metadata": {},
     "output_type": "display_data"
    },
    {
     "data": {
      "application/vnd.jupyter.widget-view+json": {
       "model_id": "b3fa17628b56447398274e25cb2039fc",
       "version_major": 2,
       "version_minor": 0
      },
      "text/plain": [
       "Render HTML:   0%|          | 0/1 [00:00<?, ?it/s]"
      ]
     },
     "metadata": {},
     "output_type": "display_data"
    },
    {
     "data": {
      "application/vnd.jupyter.widget-view+json": {
       "model_id": "1e91e65884c24fd891fe0e02d5f4fe74",
       "version_major": 2,
       "version_minor": 0
      },
      "text/plain": [
       "Export report to file:   0%|          | 0/1 [00:00<?, ?it/s]"
      ]
     },
     "metadata": {},
     "output_type": "display_data"
    }
   ],
   "source": [
    "#EDA - F1000 model data\n",
    "profile_model_data = ProfileReport(df_model, title='F1000_model_data_EDA',minimal=True)\n",
    "profile_model_data.to_file('data/F1000_model_data.html')"
   ]
  },
  {
   "cell_type": "markdown",
   "metadata": {
    "nteract": {
     "transient": {
      "deleting": false
     }
    }
   },
   "source": [
    "### Get Events data"
   ]
  },
  {
   "cell_type": "code",
   "execution_count": 8,
   "metadata": {
    "collapsed": false,
    "gather": {
     "logged": 1652945678052
    },
    "jupyter": {
     "outputs_hidden": false,
     "source_hidden": false
    },
    "nteract": {
     "transient": {
      "deleting": false
     }
    }
   },
   "outputs": [],
   "source": [
    "df_events = read_f1k_table()[['compromised_data_amount','compromised_data_types','event_type']].rename(columns={'compromised_data_amount':'data_records_impacted'})\n",
    "df_events.loc[:,'source']='events'\n"
   ]
  },
  {
   "cell_type": "markdown",
   "metadata": {
    "nteract": {
     "transient": {
      "deleting": false
     }
    }
   },
   "source": [
    "### Compare data records impacted\n"
   ]
  },
  {
   "cell_type": "code",
   "execution_count": 9,
   "metadata": {},
   "outputs": [
    {
     "name": "stdout",
     "output_type": "stream",
     "text": [
      "0.00% of actual events have no data records impacted populated\n",
      "0.00% of actual events have 0 data records impacted\n",
      "26.95% of actual events have the value 'None' for data records impacted\n"
     ]
    }
   ],
   "source": [
    "#events data quality check\n",
    "print(f\"{df_events['data_records_impacted'].isnull().mean()*100:.02f}% of actual events have no data records impacted populated\")\n",
    "print(f\"{(df_events['data_records_impacted']==0).mean()*100:.02f}% of actual events have 0 data records impacted\")\n",
    "print(f\"{(df_events['data_records_impacted']=='None').mean()*100:.02f}% of actual events have the value 'None' for data records impacted\")"
   ]
  },
  {
   "cell_type": "code",
   "execution_count": 10,
   "metadata": {},
   "outputs": [
    {
     "name": "stdout",
     "output_type": "stream",
     "text": [
      "46.46% of model events have no data records impacted populated\n",
      "0.00% of model events have 0 data records impacted\n",
      "0.00% of model events have the value 'None' for data records impacted\n"
     ]
    }
   ],
   "source": [
    "#model data quality check\n",
    "print(f\"{df_model['data_records_impacted'].isnull().mean()*100:.02f}% of model events have no data records impacted populated\")\n",
    "print(f\"{(df_model['data_records_impacted']==0).mean()*100:.02f}% of model events have 0 data records impacted\")\n",
    "print(f\"{(df_model['data_records_impacted']=='None').mean()*100:.02f}% of model events have the value 'None' for data records impacted\")"
   ]
  },
  {
   "cell_type": "code",
   "execution_count": 11,
   "metadata": {},
   "outputs": [],
   "source": [
    "#Normalize the events data - the fields `data_records_impacted` and `compromised_data_types` are presented as lists in the table\n",
    "df_modified_events = df_events.copy()\n",
    "compromised_data_types_replacements = {'Corporate Digital Assets':'Corporate_Digital_Assets','Corporate Financial Assets':'Corporate_Financial_Assets','Business Interruption':'Business_Interruption'}\n",
    "df_modified_events['data_records_impacted'] = df_modified_events.loc[:,'data_records_impacted'].str.strip('[]')\n",
    "df_modified_events['compromised_data_types'] = df_modified_events.loc[:,'compromised_data_types'].str.strip('[]').replace(compromised_data_types_replacements, regex=True).str.split(' ')\n",
    "df_modified_events = df_modified_events.explode('compromised_data_types')\n",
    "df_modified_events = df_modified_events.explode('data_records_impacted').reset_index()\n",
    "df_modified_events['data_records_impacted'] = df_modified_events['data_records_impacted'].str.strip(' ')\n",
    "df_modified_events['data_records_impacted'].replace(['None','nan', 'nan  0',''],np.nan,inplace=True,regex=True)\n",
    "df_modified_events['data_records_impacted']= pd.to_numeric(df_modified_events['data_records_impacted'], errors='coerce')\n",
    "df_modified_events.dropna(subset='data_records_impacted',inplace=True)\n",
    "df_modified_events.drop_duplicates(keep='first',subset='index',inplace=True)\n",
    "df_modified_events.drop(columns='index',inplace=True)"
   ]
  },
  {
   "cell_type": "code",
   "execution_count": 12,
   "metadata": {},
   "outputs": [],
   "source": [
    "#create plot data\n",
    "events_data = df_modified_events[['data_records_impacted','source']]\n",
    "model_data = df_model[['number_of_data_records','data_scale','data_records_impacted','source']]\n",
    "plot_data = pd.concat([model_data, events_data],ignore_index=True)"
   ]
  },
  {
   "cell_type": "code",
   "execution_count": 13,
   "metadata": {},
   "outputs": [
    {
     "data": {
      "text/plain": [
       "count   2,691.00      \n",
       "mean    1,759,767.06  \n",
       "std     14,525,361.06 \n",
       "min     0.00          \n",
       "25%     1.00          \n",
       "50%     1.00          \n",
       "75%     952.50        \n",
       "max     319,000,000.00\n",
       "Name: data_records_impacted, dtype: float64"
      ]
     },
     "execution_count": 13,
     "metadata": {},
     "output_type": "execute_result"
    }
   ],
   "source": [
    "events_data['data_records_impacted'].describe()"
   ]
  },
  {
   "cell_type": "code",
   "execution_count": 14,
   "metadata": {},
   "outputs": [
    {
     "data": {
      "text/plain": [
       "count   3,048,392.00    \n",
       "mean    23,255,628.13   \n",
       "std     55,530,174.19   \n",
       "min     7,280.68        \n",
       "25%     1,911,643.72    \n",
       "50%     5,435,435.52    \n",
       "75%     18,340,163.78   \n",
       "max     1,044,210,194.63\n",
       "Name: data_records_impacted, dtype: float64"
      ]
     },
     "execution_count": 14,
     "metadata": {},
     "output_type": "execute_result"
    }
   ],
   "source": [
    "model_data['data_records_impacted'].describe()"
   ]
  },
  {
   "cell_type": "markdown",
   "metadata": {},
   "source": [
    "### Plots before normalization"
   ]
  },
  {
   "cell_type": "code",
   "execution_count": 15,
   "metadata": {},
   "outputs": [
    {
     "data": {
      "text/plain": [
       "Text(0.5, 0, 'data records impacted')"
      ]
     },
     "execution_count": 15,
     "metadata": {},
     "output_type": "execute_result"
    },
    {
     "data": {
      "image/png": "[encoded data removed]",
      "text/plain": [
       "<Figure size 576x360 with 1 Axes>"
      ]
     },
     "metadata": {
      "needs_background": "light"
     },
     "output_type": "display_data"
    }
   ],
   "source": [
    "# plot data\n",
    "fig, ax = plt.subplots(1, 1, figsize=(8, 5))\n",
    "sns.boxplot(data=plot_data, x=\"data_records_impacted\", y=\"source\", orient=\"h\", ax=ax)\n",
    "ax.set_xlabel(\"data records impacted\")"
   ]
  },
  {
   "cell_type": "code",
   "execution_count": 16,
   "metadata": {},
   "outputs": [
    {
     "data": {
      "text/plain": [
       "Text(0, 0.5, 'probability')"
      ]
     },
     "execution_count": 16,
     "metadata": {},
     "output_type": "execute_result"
    },
    {
     "data": {
      "image/png": "[encoded data removed]",
      "text/plain": [
       "<Figure size 576x360 with 1 Axes>"
      ]
     },
     "metadata": {
      "needs_background": "light"
     },
     "output_type": "display_data"
    }
   ],
   "source": [
    "fig, ax = plt.subplots(1, 1, figsize=(8, 5))\n",
    "sns.ecdfplot(\n",
    "    data=plot_data, x=\"data_records_impacted\", hue=\"source\", stat=\"proportion\", ax=ax\n",
    ")\n",
    "ax.xaxis.set_major_formatter(mpl.ticker.StrMethodFormatter(\"{x:,.0f}\"))\n",
    "ax.set_xlabel(\"data records impacted\")\n",
    "ax.set_ylabel(\"probability\")"
   ]
  },
  {
   "cell_type": "markdown",
   "metadata": {},
   "source": [
    "### Rescale data records impacted in the model to fit the distribution of that in events\n",
    "- If we assume the `number_of_data_records` given in the model is correct, the difference in distribution of the `data_records_impacted` is likely driven by the scaling factor `data_scale` applied in the model.\n",
    "- The analysis below attempts to rescale the `data_records_impacted` in the model data to match that in the events data.\n",
    "- By rescaling the `data_records_impacted` in the model data, we can calculate a new data scale factor, `data_scale_corrected`.\n",
    "- We can attempt to try and identify the underlying distribution for the new field `data_scale_corrected`"
   ]
  },
  {
   "cell_type": "code",
   "execution_count": 17,
   "metadata": {},
   "outputs": [
    {
     "name": "stderr",
     "output_type": "stream",
     "text": [
      "/tmp/ipykernel_9471/2287943889.py:1: SettingWithCopyWarning: \n",
      "A value is trying to be set on a copy of a slice from a DataFrame.\n",
      "Try using .loc[row_indexer,col_indexer] = value instead\n",
      "\n",
      "See the caveats in the documentation: https://pandas.pydata.org/pandas-docs/stable/user_guide/indexing.html#returning-a-view-versus-a-copy\n",
      "  events_data[\"data_records_impacted_quartile\"] = pd.cut(\n",
      "/tmp/ipykernel_9471/2287943889.py:11: SettingWithCopyWarning: \n",
      "A value is trying to be set on a copy of a slice from a DataFrame.\n",
      "Try using .loc[row_indexer,col_indexer] = value instead\n",
      "\n",
      "See the caveats in the documentation: https://pandas.pydata.org/pandas-docs/stable/user_guide/indexing.html#returning-a-view-versus-a-copy\n",
      "  model_data[\"data_records_impacted_quartile\"] = pd.cut(\n"
     ]
    }
   ],
   "source": [
    "events_data[\"data_records_impacted_quartile\"] = pd.cut(\n",
    "    events_data[\"data_records_impacted\"], bins=100, labels=False\n",
    ")\n",
    "events_quartiles = (\n",
    "    events_data.groupby(\"data_records_impacted_quartile\", as_index=False)\n",
    "    .agg(median_event_quartile_value=(\"data_records_impacted\", \"median\"))\n",
    "    .drop(columns=\"data_records_impacted_quartile\")\n",
    "    .reset_index()\n",
    "    .rename(columns={\"index\": \"data_records_impacted_quartile\"})\n",
    ")\n",
    "model_data[\"data_records_impacted_quartile\"] = pd.cut(\n",
    "    model_data[\"data_records_impacted\"], bins=events_quartiles.shape[0], labels=False\n",
    ")\n",
    "joined_model_event_quartiles = model_data.merge(\n",
    "    events_quartiles,\n",
    "    how=\"left\",\n",
    "    left_on=\"data_records_impacted_quartile\",\n",
    "    right_on=\"data_records_impacted_quartile\",\n",
    ")\n",
    "#create a new column that describes the new scaling factor\n",
    "joined_model_event_quartiles[\"data_scale_corrected\"] = (\n",
    "    joined_model_event_quartiles[\"median_event_quartile_value\"]\n",
    "    / joined_model_event_quartiles[\"number_of_data_records\"]\n",
    ")"
   ]
  },
  {
   "cell_type": "code",
   "execution_count": 18,
   "metadata": {},
   "outputs": [],
   "source": [
    "plot_data = pd.concat(\n",
    "    [\n",
    "        events_data[[\"data_records_impacted\", \"source\"]],\n",
    "        joined_model_event_quartiles[[\"median_event_quartile_value\", \"source\"]].rename(\n",
    "            columns={\"median_event_quartile_value\": \"data_records_impacted\"}\n",
    "        ),\n",
    "    ],\n",
    "    ignore_index=True,\n",
    ")"
   ]
  },
  {
   "cell_type": "markdown",
   "metadata": {},
   "source": [
    "### Plots after percentile normalization"
   ]
  },
  {
   "cell_type": "code",
   "execution_count": 19,
   "metadata": {},
   "outputs": [
    {
     "data": {
      "text/plain": [
       "Text(0.5, 0, 'data records impacted')"
      ]
     },
     "execution_count": 19,
     "metadata": {},
     "output_type": "execute_result"
    },
    {
     "data": {
      "image/png": "[encoded data removed]",
      "text/plain": [
       "<Figure size 576x360 with 1 Axes>"
      ]
     },
     "metadata": {
      "needs_background": "light"
     },
     "output_type": "display_data"
    }
   ],
   "source": [
    "# plot data\n",
    "fig, ax = plt.subplots(1, 1, figsize=(8, 5))\n",
    "sns.boxplot(data=plot_data, x=\"data_records_impacted\", y=\"source\", orient=\"h\", ax=ax)\n",
    "ax.set_xlabel(\"data records impacted\")"
   ]
  },
  {
   "cell_type": "code",
   "execution_count": 20,
   "metadata": {},
   "outputs": [
    {
     "data": {
      "image/png": "[encoded data removed]",
      "text/plain": [
       "<Figure size 864x720 with 1 Axes>"
      ]
     },
     "metadata": {
      "needs_background": "light"
     },
     "output_type": "display_data"
    }
   ],
   "source": [
    "fig, ax = plt.subplots(1, 1, figsize=(12, 10))\n",
    "sns.histplot(\n",
    "    data=plot_data,\n",
    "    x=\"data_records_impacted\",\n",
    "    hue=\"source\",\n",
    "    stat=\"probability\",\n",
    "    alpha=0.2,\n",
    "    common_norm=False,\n",
    "    ax=ax,\n",
    ")\n",
    "ax.set_xlabel(\"data records impacted\")\n",
    "ax.xaxis.set_major_formatter(mpl.ticker.StrMethodFormatter(\"{x:,.0f}\"))"
   ]
  },
  {
   "cell_type": "code",
   "execution_count": 21,
   "metadata": {},
   "outputs": [
    {
     "data": {
      "text/plain": [
       "Text(0, 0.5, 'probability')"
      ]
     },
     "execution_count": 21,
     "metadata": {},
     "output_type": "execute_result"
    },
    {
     "data": {
      "image/png": "[encoded data removed]",
      "text/plain": [
       "<Figure size 576x360 with 1 Axes>"
      ]
     },
     "metadata": {
      "needs_background": "light"
     },
     "output_type": "display_data"
    }
   ],
   "source": [
    "fig, ax = plt.subplots(1, 1, figsize=(8, 5))\n",
    "sns.ecdfplot(\n",
    "    data=plot_data, x=\"data_records_impacted\", hue=\"source\", stat=\"proportion\", ax=ax\n",
    ")\n",
    "ax.xaxis.set_major_formatter(mpl.ticker.StrMethodFormatter(\"{x:,.0f}\"))\n",
    "ax.set_xlabel(\"data records impacted\")\n",
    "ax.set_ylabel(\"probability\")"
   ]
  },
  {
   "cell_type": "markdown",
   "metadata": {},
   "source": [
    "### Plot of the data-scale parameter using values before normalization and after normalization"
   ]
  },
  {
   "cell_type": "code",
   "execution_count": 22,
   "metadata": {},
   "outputs": [
    {
     "data": {
      "text/plain": [
       "Text(0, 0.5, 'probability')"
      ]
     },
     "execution_count": 22,
     "metadata": {},
     "output_type": "execute_result"
    },
    {
     "data": {
      "image/png": "[encoded data removed]",
      "text/plain": [
       "<Figure size 576x360 with 1 Axes>"
      ]
     },
     "metadata": {
      "needs_background": "light"
     },
     "output_type": "display_data"
    }
   ],
   "source": [
    "# plot data scale distributions\n",
    "plot_data = joined_model_event_quartiles[[\"data_scale\", \"data_scale_corrected\"]].melt(value_vars=['data_scale','data_scale_corrected'])\n",
    "fig, ax = plt.subplots(1, 1, figsize=(8, 5))\n",
    "sns.ecdfplot(\n",
    "    data=plot_data, x=\"value\", hue=\"variable\", stat=\"proportion\", ax=ax\n",
    ")\n",
    "ax.set_xlabel(\"data scale\")\n",
    "ax.set_ylabel(\"probability\")"
   ]
  },
  {
   "cell_type": "markdown",
   "metadata": {},
   "source": [
    "### Identify the corresponding distributions and parameter values for data_scale and data_scale_corrected "
   ]
  },
  {
   "cell_type": "code",
   "execution_count": 24,
   "metadata": {},
   "outputs": [
    {
     "name": "stderr",
     "output_type": "stream",
     "text": [
      "/home/azureuser/virtualenvs/analytics_pipeline_results/lib/python3.8/site-packages/scipy/stats/_distn_infrastructure.py:2640: RuntimeWarning: invalid value encountered in double_scalars\n",
      "  Lhat = muhat - Shat*mu\n"
     ]
    }
   ],
   "source": [
    "df_filtered = joined_model_event_quartiles[\n",
    "    (joined_model_event_quartiles[\"data_scale\"].notnull())\n",
    "    & (joined_model_event_quartiles[\"data_scale_corrected\"].notnull())\n",
    "]\n",
    "results_data_scale = dist_chi_square_fit_tests(\n",
    "    df=df_filtered,\n",
    "    column=\"data_scale\",\n",
    "    distribution_names=[\n",
    "        \"weibull_min\",\n",
    "        \"norm\",\n",
    "        \"f\",\n",
    "        \"beta\",\n",
    "        \"invgauss\",\n",
    "        \"chi2\",\n",
    "        \"gamma\",\n",
    "        \"expon\",\n",
    "        \"lognorm\",\n",
    "        \"pearson3\",\n",
    "        \"triang\",\n",
    "    ],\n",
    ")"
   ]
  },
  {
   "cell_type": "code",
   "execution_count": 25,
   "metadata": {},
   "outputs": [
    {
     "data": {
      "text/html": [
       "<div>\n",
       "<style scoped>\n",
       "    .dataframe tbody tr th:only-of-type {\n",
       "        vertical-align: middle;\n",
       "    }\n",
       "\n",
       "    .dataframe tbody tr th {\n",
       "        vertical-align: top;\n",
       "    }\n",
       "\n",
       "    .dataframe thead th {\n",
       "        text-align: right;\n",
       "    }\n",
       "</style>\n",
       "<table border=\"1\" class=\"dataframe\">\n",
       "  <thead>\n",
       "    <tr style=\"text-align: right;\">\n",
       "      <th></th>\n",
       "      <th>distribution</th>\n",
       "      <th>chi_square</th>\n",
       "      <th>parameters</th>\n",
       "    </tr>\n",
       "  </thead>\n",
       "  <tbody>\n",
       "    <tr>\n",
       "      <th>3</th>\n",
       "      <td>beta</td>\n",
       "      <td>314.16</td>\n",
       "      <td>(3.4002249673590983, 4.4386774190753435, -0.02705151428896332, 0.9869278726618229)</td>\n",
       "    </tr>\n",
       "    <tr>\n",
       "      <th>0</th>\n",
       "      <td>weibull_min</td>\n",
       "      <td>4,428.54</td>\n",
       "      <td>(2.8290788170889454, -0.025522136883380606, 0.47909567939894815)</td>\n",
       "    </tr>\n",
       "    <tr>\n",
       "      <th>5</th>\n",
       "      <td>chi2</td>\n",
       "      <td>18,174.04</td>\n",
       "      <td>(43.416843135486985, -0.3849324180475442, 0.01808480647172768)</td>\n",
       "    </tr>\n",
       "    <tr>\n",
       "      <th>4</th>\n",
       "      <td>invgauss</td>\n",
       "      <td>24,527.60</td>\n",
       "      <td>(0.020515693120484152, -0.7671872840998637, 56.860576002976636)</td>\n",
       "    </tr>\n",
       "    <tr>\n",
       "      <th>2</th>\n",
       "      <td>f</td>\n",
       "      <td>25,634.34</td>\n",
       "      <td>(199.820430001947, 897.2518464702171, -1.0881867566739687, 1.4853653182964281)</td>\n",
       "    </tr>\n",
       "    <tr>\n",
       "      <th>6</th>\n",
       "      <td>gamma</td>\n",
       "      <td>27,569.84</td>\n",
       "      <td>(57.46429252157631, -0.8473425690332186, 0.021723446294853746)</td>\n",
       "    </tr>\n",
       "    <tr>\n",
       "      <th>9</th>\n",
       "      <td>pearson3</td>\n",
       "      <td>27,821.24</td>\n",
       "      <td>(0.2662380162748146, 0.40105789948888415, 0.16468424733096132)</td>\n",
       "    </tr>\n",
       "    <tr>\n",
       "      <th>8</th>\n",
       "      <td>lognorm</td>\n",
       "      <td>30,730.58</td>\n",
       "      <td>(0.07990129816085081, -1.655190553537592, 2.0497003065120145)</td>\n",
       "    </tr>\n",
       "    <tr>\n",
       "      <th>10</th>\n",
       "      <td>triang</td>\n",
       "      <td>61,499.82</td>\n",
       "      <td>(0.36497562586836063, 0.00914782963396607, 0.8922572698760276)</td>\n",
       "    </tr>\n",
       "    <tr>\n",
       "      <th>1</th>\n",
       "      <td>norm</td>\n",
       "      <td>63,544.08</td>\n",
       "      <td>(0.4010586540051275, 0.16430751260853257)</td>\n",
       "    </tr>\n",
       "    <tr>\n",
       "      <th>7</th>\n",
       "      <td>expon</td>\n",
       "      <td>9,729,976.36</td>\n",
       "      <td>(0.011, 0.3900586540051275)</td>\n",
       "    </tr>\n",
       "  </tbody>\n",
       "</table>\n",
       "</div>"
      ],
      "text/plain": [
       "   distribution   chi_square  \\\n",
       "3   beta        314.16         \n",
       "0   weibull_min 4,428.54       \n",
       "5   chi2        18,174.04      \n",
       "4   invgauss    24,527.60      \n",
       "2   f           25,634.34      \n",
       "6   gamma       27,569.84      \n",
       "9   pearson3    27,821.24      \n",
       "8   lognorm     30,730.58      \n",
       "10  triang      61,499.82      \n",
       "1   norm        63,544.08      \n",
       "7   expon       9,729,976.36   \n",
       "\n",
       "                                                                            parameters  \n",
       "3   (3.4002249673590983, 4.4386774190753435, -0.02705151428896332, 0.9869278726618229)  \n",
       "0   (2.8290788170889454, -0.025522136883380606, 0.47909567939894815)                    \n",
       "5   (43.416843135486985, -0.3849324180475442, 0.01808480647172768)                      \n",
       "4   (0.020515693120484152, -0.7671872840998637, 56.860576002976636)                     \n",
       "2   (199.820430001947, 897.2518464702171, -1.0881867566739687, 1.4853653182964281)      \n",
       "6   (57.46429252157631, -0.8473425690332186, 0.021723446294853746)                      \n",
       "9   (0.2662380162748146, 0.40105789948888415, 0.16468424733096132)                      \n",
       "8   (0.07990129816085081, -1.655190553537592, 2.0497003065120145)                       \n",
       "10  (0.36497562586836063, 0.00914782963396607, 0.8922572698760276)                      \n",
       "1   (0.4010586540051275, 0.16430751260853257)                                           \n",
       "7   (0.011, 0.3900586540051275)                                                         "
      ]
     },
     "execution_count": 25,
     "metadata": {},
     "output_type": "execute_result"
    }
   ],
   "source": [
    "results_data_scale"
   ]
  },
  {
   "cell_type": "code",
   "execution_count": 26,
   "metadata": {},
   "outputs": [],
   "source": [
    "ks_test_data_scale = ks_goodness_of_fit(\n",
    "    df=df_filtered,\n",
    "    column=\"data_scale\",\n",
    "    distribution_names=[\n",
    "        \"beta\",\n",
    "        \"weibull_min\",\n",
    "        \"chi2\"\n",
    "    ],\n",
    ")"
   ]
  },
  {
   "cell_type": "code",
   "execution_count": 27,
   "metadata": {},
   "outputs": [
    {
     "data": {
      "text/html": [
       "<div>\n",
       "<style scoped>\n",
       "    .dataframe tbody tr th:only-of-type {\n",
       "        vertical-align: middle;\n",
       "    }\n",
       "\n",
       "    .dataframe tbody tr th {\n",
       "        vertical-align: top;\n",
       "    }\n",
       "\n",
       "    .dataframe thead th {\n",
       "        text-align: right;\n",
       "    }\n",
       "</style>\n",
       "<table border=\"1\" class=\"dataframe\">\n",
       "  <thead>\n",
       "    <tr style=\"text-align: right;\">\n",
       "      <th></th>\n",
       "      <th>distribution</th>\n",
       "      <th>ks_statistic</th>\n",
       "      <th>p_value</th>\n",
       "      <th>parameters</th>\n",
       "    </tr>\n",
       "  </thead>\n",
       "  <tbody>\n",
       "    <tr>\n",
       "      <th>0</th>\n",
       "      <td>beta</td>\n",
       "      <td>0.00</td>\n",
       "      <td>0.00</td>\n",
       "      <td>(3.4002249673590983, 4.4386774190753435, -0.02705151428896332, 0.9869278726618229)</td>\n",
       "    </tr>\n",
       "    <tr>\n",
       "      <th>1</th>\n",
       "      <td>weibull_min</td>\n",
       "      <td>0.01</td>\n",
       "      <td>0.00</td>\n",
       "      <td>(2.8290788170889454, -0.025522136883380606, 0.47909567939894815)</td>\n",
       "    </tr>\n",
       "    <tr>\n",
       "      <th>2</th>\n",
       "      <td>chi2</td>\n",
       "      <td>0.02</td>\n",
       "      <td>0.00</td>\n",
       "      <td>(43.416843135486985, -0.3849324180475442, 0.01808480647172768)</td>\n",
       "    </tr>\n",
       "  </tbody>\n",
       "</table>\n",
       "</div>"
      ],
      "text/plain": [
       "  distribution  ks_statistic  p_value  \\\n",
       "0  beta        0.00          0.00       \n",
       "1  weibull_min 0.01          0.00       \n",
       "2  chi2        0.02          0.00       \n",
       "\n",
       "                                                                           parameters  \n",
       "0  (3.4002249673590983, 4.4386774190753435, -0.02705151428896332, 0.9869278726618229)  \n",
       "1  (2.8290788170889454, -0.025522136883380606, 0.47909567939894815)                    \n",
       "2  (43.416843135486985, -0.3849324180475442, 0.01808480647172768)                      "
      ]
     },
     "execution_count": 27,
     "metadata": {},
     "output_type": "execute_result"
    }
   ],
   "source": [
    "ks_test_data_scale"
   ]
  },
  {
   "cell_type": "code",
   "execution_count": 28,
   "metadata": {},
   "outputs": [
    {
     "name": "stderr",
     "output_type": "stream",
     "text": [
      "/home/azureuser/virtualenvs/analytics_pipeline_results/lib/python3.8/site-packages/scipy/stats/_distn_infrastructure.py:2640: RuntimeWarning: invalid value encountered in double_scalars\n",
      "  Lhat = muhat - Shat*mu\n",
      "/home/azureuser/virtualenvs/analytics_pipeline_results/lib/python3.8/site-packages/scipy/stats/_continuous_distns.py:647: RuntimeWarning: invalid value encountered in sqrt\n",
      "  sk = 2*(b-a)*np.sqrt(a + b + 1) / (a + b + 2) / np.sqrt(a*b)\n",
      "/home/azureuser/virtualenvs/analytics_pipeline_results/lib/python3.8/site-packages/scipy/optimize/_minpack_py.py:175: RuntimeWarning: The iteration is not making good progress, as measured by the \n",
      "  improvement from the last ten iterations.\n",
      "  warnings.warn(msg, RuntimeWarning)\n"
     ]
    }
   ],
   "source": [
    "results_data_scale_corrected = dist_chi_square_fit_tests(\n",
    "    df=df_filtered,\n",
    "    column=\"data_scale_corrected\",\n",
    "    distribution_names=[\n",
    "        \"weibull_min\",\n",
    "        \"norm\",\n",
    "        \"f\",\n",
    "        \"beta\",\n",
    "        \"invgauss\",\n",
    "        \"chi2\",\n",
    "        \"gamma\",\n",
    "        \"expon\",\n",
    "        \"lognorm\",\n",
    "        \"pearson3\",\n",
    "        \"triang\",\n",
    "    ],\n",
    ")"
   ]
  },
  {
   "cell_type": "code",
   "execution_count": 29,
   "metadata": {},
   "outputs": [
    {
     "data": {
      "text/html": [
       "<div>\n",
       "<style scoped>\n",
       "    .dataframe tbody tr th:only-of-type {\n",
       "        vertical-align: middle;\n",
       "    }\n",
       "\n",
       "    .dataframe tbody tr th {\n",
       "        vertical-align: top;\n",
       "    }\n",
       "\n",
       "    .dataframe thead th {\n",
       "        text-align: right;\n",
       "    }\n",
       "</style>\n",
       "<table border=\"1\" class=\"dataframe\">\n",
       "  <thead>\n",
       "    <tr style=\"text-align: right;\">\n",
       "      <th></th>\n",
       "      <th>distribution</th>\n",
       "      <th>chi_square</th>\n",
       "      <th>parameters</th>\n",
       "    </tr>\n",
       "  </thead>\n",
       "  <tbody>\n",
       "    <tr>\n",
       "      <th>4</th>\n",
       "      <td>invgauss</td>\n",
       "      <td>125,913.18</td>\n",
       "      <td>(86861.85273165902, -1.0804574417007197e-09, 5.262752937413906e-08)</td>\n",
       "    </tr>\n",
       "    <tr>\n",
       "      <th>8</th>\n",
       "      <td>lognorm</td>\n",
       "      <td>2,857,431.08</td>\n",
       "      <td>(2.957111647133601, 8.627200886638089e-10, 4.334625787503394e-07)</td>\n",
       "    </tr>\n",
       "    <tr>\n",
       "      <th>3</th>\n",
       "      <td>beta</td>\n",
       "      <td>7,055,853.21</td>\n",
       "      <td>(0.11720776949709462, 220.66450301536693, 8.62853096657929e-10, 0.6935065601022095)</td>\n",
       "    </tr>\n",
       "    <tr>\n",
       "      <th>6</th>\n",
       "      <td>gamma</td>\n",
       "      <td>7,666,813.64</td>\n",
       "      <td>(0.08837961037140926, 8.628530966578968e-10, 0.05568277848697997)</td>\n",
       "    </tr>\n",
       "    <tr>\n",
       "      <th>0</th>\n",
       "      <td>weibull_min</td>\n",
       "      <td>7,696,164.91</td>\n",
       "      <td>(0.1421562897072577, 8.62853096657929e-10, 0.0008550090623532045)</td>\n",
       "    </tr>\n",
       "    <tr>\n",
       "      <th>5</th>\n",
       "      <td>chi2</td>\n",
       "      <td>7,753,268.37</td>\n",
       "      <td>(0.1774550054830693, 8.62853096657929e-10, 0.02575434923223868)</td>\n",
       "    </tr>\n",
       "    <tr>\n",
       "      <th>2</th>\n",
       "      <td>f</td>\n",
       "      <td>10,588,326.07</td>\n",
       "      <td>(0.43906429431809213, 1.0008798916736525, 8.62853096657929e-10, 2.0924020235010246e-07)</td>\n",
       "    </tr>\n",
       "    <tr>\n",
       "      <th>9</th>\n",
       "      <td>pearson3</td>\n",
       "      <td>21,754,392.71</td>\n",
       "      <td>(2.404618413916608, 0.0029650452481769307, 0.003564900193157629)</td>\n",
       "    </tr>\n",
       "    <tr>\n",
       "      <th>7</th>\n",
       "      <td>expon</td>\n",
       "      <td>21,828,402.85</td>\n",
       "      <td>(8.628530966579291e-10, 0.004571423684712511)</td>\n",
       "    </tr>\n",
       "    <tr>\n",
       "      <th>1</th>\n",
       "      <td>norm</td>\n",
       "      <td>22,913,395.23</td>\n",
       "      <td>(0.004571424547565608, 0.013046025362843569)</td>\n",
       "    </tr>\n",
       "    <tr>\n",
       "      <th>10</th>\n",
       "      <td>triang</td>\n",
       "      <td>25,565,483.07</td>\n",
       "      <td>(0.13838561358807933, -0.04420880927479455, 0.31946119266401307)</td>\n",
       "    </tr>\n",
       "  </tbody>\n",
       "</table>\n",
       "</div>"
      ],
      "text/plain": [
       "   distribution    chi_square  \\\n",
       "4   invgauss    125,913.18      \n",
       "8   lognorm     2,857,431.08    \n",
       "3   beta        7,055,853.21    \n",
       "6   gamma       7,666,813.64    \n",
       "0   weibull_min 7,696,164.91    \n",
       "5   chi2        7,753,268.37    \n",
       "2   f           10,588,326.07   \n",
       "9   pearson3    21,754,392.71   \n",
       "7   expon       21,828,402.85   \n",
       "1   norm        22,913,395.23   \n",
       "10  triang      25,565,483.07   \n",
       "\n",
       "                                                                                 parameters  \n",
       "4   (86861.85273165902, -1.0804574417007197e-09, 5.262752937413906e-08)                      \n",
       "8   (2.957111647133601, 8.627200886638089e-10, 4.334625787503394e-07)                        \n",
       "3   (0.11720776949709462, 220.66450301536693, 8.62853096657929e-10, 0.6935065601022095)      \n",
       "6   (0.08837961037140926, 8.628530966578968e-10, 0.05568277848697997)                        \n",
       "0   (0.1421562897072577, 8.62853096657929e-10, 0.0008550090623532045)                        \n",
       "5   (0.1774550054830693, 8.62853096657929e-10, 0.02575434923223868)                          \n",
       "2   (0.43906429431809213, 1.0008798916736525, 8.62853096657929e-10, 2.0924020235010246e-07)  \n",
       "9   (2.404618413916608, 0.0029650452481769307, 0.003564900193157629)                         \n",
       "7   (8.628530966579291e-10, 0.004571423684712511)                                            \n",
       "1   (0.004571424547565608, 0.013046025362843569)                                             \n",
       "10  (0.13838561358807933, -0.04420880927479455, 0.31946119266401307)                         "
      ]
     },
     "execution_count": 29,
     "metadata": {},
     "output_type": "execute_result"
    }
   ],
   "source": [
    "results_data_scale_corrected"
   ]
  },
  {
   "cell_type": "code",
   "execution_count": 30,
   "metadata": {},
   "outputs": [
    {
     "name": "stderr",
     "output_type": "stream",
     "text": [
      "/home/azureuser/virtualenvs/analytics_pipeline_results/lib/python3.8/site-packages/scipy/stats/_continuous_distns.py:647: RuntimeWarning: invalid value encountered in sqrt\n",
      "  sk = 2*(b-a)*np.sqrt(a + b + 1) / (a + b + 2) / np.sqrt(a*b)\n",
      "/home/azureuser/virtualenvs/analytics_pipeline_results/lib/python3.8/site-packages/scipy/optimize/_minpack_py.py:175: RuntimeWarning: The iteration is not making good progress, as measured by the \n",
      "  improvement from the last ten iterations.\n",
      "  warnings.warn(msg, RuntimeWarning)\n"
     ]
    }
   ],
   "source": [
    "ks_test_data_scale_corrected = ks_goodness_of_fit(\n",
    "    df=df_filtered,\n",
    "    column=\"data_scale_corrected\",\n",
    "    distribution_names=[\n",
    "        \"beta\",\n",
    "        \"weibull_min\",\n",
    "        \"chi2\"\n",
    "    ],\n",
    ")"
   ]
  },
  {
   "cell_type": "code",
   "execution_count": 31,
   "metadata": {},
   "outputs": [
    {
     "data": {
      "text/html": [
       "<div>\n",
       "<style scoped>\n",
       "    .dataframe tbody tr th:only-of-type {\n",
       "        vertical-align: middle;\n",
       "    }\n",
       "\n",
       "    .dataframe tbody tr th {\n",
       "        vertical-align: top;\n",
       "    }\n",
       "\n",
       "    .dataframe thead th {\n",
       "        text-align: right;\n",
       "    }\n",
       "</style>\n",
       "<table border=\"1\" class=\"dataframe\">\n",
       "  <thead>\n",
       "    <tr style=\"text-align: right;\">\n",
       "      <th></th>\n",
       "      <th>distribution</th>\n",
       "      <th>ks_statistic</th>\n",
       "      <th>p_value</th>\n",
       "      <th>parameters</th>\n",
       "    </tr>\n",
       "  </thead>\n",
       "  <tbody>\n",
       "    <tr>\n",
       "      <th>0</th>\n",
       "      <td>beta</td>\n",
       "      <td>0.46</td>\n",
       "      <td>0.00</td>\n",
       "      <td>(0.11720776949709462, 220.66450301536693, 8.62853096657929e-10, 0.6935065601022095)</td>\n",
       "    </tr>\n",
       "    <tr>\n",
       "      <th>1</th>\n",
       "      <td>weibull_min</td>\n",
       "      <td>0.55</td>\n",
       "      <td>0.00</td>\n",
       "      <td>(0.1421562897072577, 8.62853096657929e-10, 0.0008550090623532045)</td>\n",
       "    </tr>\n",
       "    <tr>\n",
       "      <th>2</th>\n",
       "      <td>chi2</td>\n",
       "      <td>0.47</td>\n",
       "      <td>0.00</td>\n",
       "      <td>(0.1774550054830693, 8.62853096657929e-10, 0.02575434923223868)</td>\n",
       "    </tr>\n",
       "  </tbody>\n",
       "</table>\n",
       "</div>"
      ],
      "text/plain": [
       "  distribution  ks_statistic  p_value  \\\n",
       "0  beta        0.46          0.00       \n",
       "1  weibull_min 0.55          0.00       \n",
       "2  chi2        0.47          0.00       \n",
       "\n",
       "                                                                            parameters  \n",
       "0  (0.11720776949709462, 220.66450301536693, 8.62853096657929e-10, 0.6935065601022095)  \n",
       "1  (0.1421562897072577, 8.62853096657929e-10, 0.0008550090623532045)                    \n",
       "2  (0.1774550054830693, 8.62853096657929e-10, 0.02575434923223868)                      "
      ]
     },
     "execution_count": 31,
     "metadata": {},
     "output_type": "execute_result"
    }
   ],
   "source": [
    "ks_test_data_scale_corrected"
   ]
  },
  {
   "cell_type": "markdown",
   "metadata": {},
   "source": [
    "### Identifying the differences in compromised data types between the events and model data"
   ]
  },
  {
   "cell_type": "code",
   "execution_count": 23,
   "metadata": {},
   "outputs": [],
   "source": [
    "#group data records impacted to match the definition in df_model\n",
    "data_type_map = {\"'Business_Interruption'\":'OTHER', \"'Corporate_Digital_Assets'\":'OTHER', \"'Corporate_Financial_Assets'\":'OTHER', \"'Unknown'\":'OTHER', 'None': 'OTHER', \"'PFI'\":'PCI', \"'PHI'\":'PHI',\"'PII'\":'PII'}\n",
    "df_modified_events['mapped_compromised_data_types'] = df_modified_events['compromised_data_types'].map(data_type_map)"
   ]
  },
  {
   "cell_type": "code",
   "execution_count": 24,
   "metadata": {},
   "outputs": [],
   "source": [
    "#calculate the number of data records impacted by type - assumes data records in model will be impacted based on data type split\n",
    "data_types = ['PCI','PHI','PII','OTHER']\n",
    "columns = ['data_split_pci','data_split_phi','data_split_pii','data_split_other']\n",
    "for data_type,column in zip(data_types,columns):\n",
    "    df_model[f'{data_type}'] = df_model['data_records_impacted'] * df_model[column]"
   ]
  },
  {
   "cell_type": "code",
   "execution_count": 25,
   "metadata": {},
   "outputs": [],
   "source": [
    "#data to be plotted\n",
    "data_types = ['PCI','PHI', 'PII', 'OTHER']\n",
    "compromised_events = df_modified_events[['data_records_impacted','mapped_compromised_data_types','source']].rename(columns={'mapped_compromised_data_types':'compromised_data_types'})\n",
    "compromised_model = df_model[['PCI','PHI', 'PII', 'OTHER','source']].melt(id_vars='source',value_vars=data_types,var_name='compromised_data_types',value_name='data_records_impacted')\n",
    "plot_data = pd.concat([compromised_events, compromised_model], ignore_index=True)"
   ]
  },
  {
   "cell_type": "code",
   "execution_count": 26,
   "metadata": {},
   "outputs": [
    {
     "data": {
      "image/png": "[encoded data removed]",
      "text/plain": [
       "<Figure size 1440x576 with 4 Axes>"
      ]
     },
     "metadata": {
      "needs_background": "light"
     },
     "output_type": "display_data"
    }
   ],
   "source": [
    "#comparison of distribution of compromised data types between events and model\n",
    "data_types = ['PCI','PHI','PII','OTHER']\n",
    "fig, ax = plt.subplots(1, 4, figsize=(20, 8), sharey = True)\n",
    "for i, data_type in enumerate(data_types):\n",
    "    subset_plot_data = plot_data[plot_data['compromised_data_types']==data_type]\n",
    "    plot = sns.boxplot(data=subset_plot_data, x=\"data_records_impacted\", y=\"source\", orient=\"h\", ax=ax[i])\n",
    "    plot.set(ylabel=None)\n",
    "    ax[i].set_xlabel(f\"{data_type} data records impacted\")"
   ]
  },
  {
   "cell_type": "code",
   "execution_count": 33,
   "metadata": {},
   "outputs": [
    {
     "data": {
      "image/png": "[encoded data removed]",
      "text/plain": [
       "<Figure size 1440x576 with 4 Axes>"
      ]
     },
     "metadata": {
      "needs_background": "light"
     },
     "output_type": "display_data"
    }
   ],
   "source": [
    "#comparison of distribution of compromised data types between events and model\n",
    "data_types = ['PCI','PHI','PII','OTHER']\n",
    "fig, ax = plt.subplots(1, 4, figsize=(20, 8), sharey = True)\n",
    "for i, data_type in enumerate(data_types):\n",
    "    subset_plot_data = plot_data[plot_data['compromised_data_types']==data_type]\n",
    "    plot = sns.kdeplot(data=subset_plot_data,x=\"data_records_impacted\", hue=\"source\",fill=True,alpha=0.2,common_norm=False,ax=ax[i])\n",
    "    ax[i].set_xlabel(f\"{data_type} data records impacted\")"
   ]
  }
 ],
 "metadata": {
  "interpreter": {
   "hash": "a7fdb59529bf9513c90480c893080bc664f77d140d7aa50da3567b9bf13732f6"
  },
  "kernel_info": {
   "name": "python3-azureml"
  },
  "kernelspec": {
   "display_name": "Python 3 (ipykernel)",
   "language": "python",
   "name": "python3"
  },
  "language_info": {
   "codemirror_mode": {
    "name": "ipython",
    "version": 3
   },
   "file_extension": ".py",
   "mimetype": "text/x-python",
   "name": "python",
   "nbconvert_exporter": "python",
   "pygments_lexer": "ipython3",
   "version": "3.10.2"
  },
  "microsoft": {
   "host": {
    "AzureML": {
     "notebookHasBeenCompleted": true
    }
   }
  },
  "nteract": {
   "version": "nteract-front-end@1.0.0"
  }
 },
 "nbformat": 4,
 "nbformat_minor": 4
}
