{
 "cells": [
  {
   "cell_type": "markdown",
   "metadata": {
    "toc-hr-collapsed": true
   },
   "source": [
    "## Context\n",
    "KOV-4206 - Incident Impact - data scale (number of records)\n",
    "\n",
    "- Comparison of the overall distribution from the model with real events\n",
    "- Split by more granular event-types if the data allows"
   ]
  },
  {
   "cell_type": "markdown",
   "metadata": {},
   "source": [
    "## Limitations\n",
    "\n",
    "1. Scope: only covers F1000 companies\n",
    "2. Availabiliy model data: only available for companies where a `financial_quantification_input.json` file is generated (currently 948/1000)\n",
    "3. Data quality - validity of events data around the fields `data_records_impacted` and `compromised_data_types` is unknown\n",
    "4. Missing field in events data - the events data does not have a field that captures the number of data records within an entity rather it only includes the data records impacted by an event. We therefore assume that the difference in the `data_records_impacted` between the events and model data is driven by the field `data_scale` in the model data and try and find an appropriate adjustment.\n",
    "    "
   ]
  },
  {
   "cell_type": "markdown",
   "metadata": {},
   "source": [
    "## Data\n",
    "\n",
    "1. F1000 model data - table - `dna-db.postgres.model_events`\n",
    "    - model version: v2022.2.3 FQ model\n",
    "    - run date: 2022-04-20\n",
    "2. Events data \n",
    "    - table - `dna-db.postgres.data_sources_events`\n",
    "    - table - `dna-db.postgres.data_sources_entities`"
   ]
  },
  {
   "cell_type": "markdown",
   "metadata": {},
   "source": [
    "## Conclusion\n",
    "1. The scale of `data_records_impacted` in the events data is orders of magnitude lower than that in the model \n",
    "2. In trying to compensate for the difference between the `data_records_impacted` between the model and events data, we attempted to rescale the `data_scale` factor in the model data. However, it was difficult to establish the underlying distribution and parameters of this new scaling factor `data_scale_corrected`.\n",
    "3. Similar to the field: `data_records_impacted` the distribution of `compromised_data_types` is a lot more sparse for the events as compared to the model. "
   ]
  },
  {
   "cell_type": "markdown",
   "metadata": {},
   "source": [
    "## Testing Detail"
   ]
  },
  {
   "cell_type": "markdown",
   "metadata": {
    "nteract": {
     "transient": {
      "deleting": false
     }
    }
   },
   "source": [
    "### Data Records Impacted\n",
    "\n"
   ]
  },
  {
   "cell_type": "code",
   "execution_count": 16,
   "metadata": {
    "collapsed": false,
    "gather": {
     "logged": 1652945650975
    },
    "jupyter": {
     "outputs_hidden": false,
     "source_hidden": false
    },
    "nteract": {
     "transient": {
      "deleting": false
     }
    }
   },
   "outputs": [
    {
     "name": "stdout",
     "output_type": "stream",
     "text": [
      "server connected\n"
     ]
    }
   ],
   "source": [
    "# builds the connection to azure:\n",
    "#%matplotlib inline\n",
    "\n",
    "import os\n",
    "import sys\n",
    "import numpy as np\n",
    "import matplotlib as mpl\n",
    "#import matplotlib.pyplot as plt\n",
    "import seaborn as sns\n",
    "import panel as pn\n",
    "from pandas_profiling import ProfileReport\n",
    "from matplotlib.figure import Figure\n",
    "\n",
    "# import custom modules:\n",
    "module_path = os.path.abspath(os.path.join('..'))\n",
    "if module_path not in sys.path:\n",
    "    sys.path.append(module_path)\n",
    "from lib._get_data import *\n",
    "from lib._stats import *\n",
    "#set colour palette for seaborn\n",
    "colors = set_colours()\n",
    "sns.set_palette(sns.color_palette(colors))\n",
    "#get engine for sql queries\n",
    "engine=get_engine()\n"
   ]
  },
  {
   "cell_type": "code",
   "execution_count": 2,
   "metadata": {},
   "outputs": [],
   "source": [
    "pd.set_option('display.precision',3)\n",
    "pd.set_option('display.max_rows',100)\n",
    "pd.set_option('display.max_columns',100)\n",
    "pd.set_option('display.max_info_rows',100)\n",
    "pd.set_option('display.max_info_columns',50)\n",
    "pd.set_option('display.max_colwidth',0)\n",
    "pd.options.display.float_format='{:,.2f}'.format"
   ]
  },
  {
   "cell_type": "code",
   "execution_count": 19,
   "metadata": {},
   "outputs": [
    {
     "data": {
      "application/javascript": [
       "(function(root) {\n",
       "  function now() {\n",
       "    return new Date();\n",
       "  }\n",
       "\n",
       "  var force = true;\n",
       "\n",
       "  if (typeof root._bokeh_onload_callbacks === \"undefined\" || force === true) {\n",
       "    root._bokeh_onload_callbacks = [];\n",
       "    root._bokeh_is_loading = undefined;\n",
       "  }\n",
       "\n",
       "  if (typeof (root._bokeh_timeout) === \"undefined\" || force === true) {\n",
       "    root._bokeh_timeout = Date.now() + 5000;\n",
       "    root._bokeh_failed_load = false;\n",
       "  }\n",
       "\n",
       "  function run_callbacks() {\n",
       "    try {\n",
       "      root._bokeh_onload_callbacks.forEach(function(callback) {\n",
       "        if (callback != null)\n",
       "          callback();\n",
       "      });\n",
       "    } finally {\n",
       "      delete root._bokeh_onload_callbacks\n",
       "    }\n",
       "    console.debug(\"Bokeh: all callbacks have finished\");\n",
       "  }\n",
       "\n",
       "  function load_libs(css_urls, js_urls, js_modules, callback) {\n",
       "    if (css_urls == null) css_urls = [];\n",
       "    if (js_urls == null) js_urls = [];\n",
       "    if (js_modules == null) js_modules = [];\n",
       "\n",
       "    root._bokeh_onload_callbacks.push(callback);\n",
       "    if (root._bokeh_is_loading > 0) {\n",
       "      console.debug(\"Bokeh: BokehJS is being loaded, scheduling callback at\", now());\n",
       "      return null;\n",
       "    }\n",
       "    if (js_urls.length === 0 && js_modules.length === 0) {\n",
       "      run_callbacks();\n",
       "      return null;\n",
       "    }\n",
       "    console.debug(\"Bokeh: BokehJS not loaded, scheduling load and callback at\", now());\n",
       "\n",
       "    function on_load() {\n",
       "      root._bokeh_is_loading--;\n",
       "      if (root._bokeh_is_loading === 0) {\n",
       "        console.debug(\"Bokeh: all BokehJS libraries/stylesheets loaded\");\n",
       "        run_callbacks()\n",
       "      }\n",
       "    }\n",
       "\n",
       "    function on_error() {\n",
       "      console.error(\"failed to load \" + url);\n",
       "    }\n",
       "\n",
       "    for (var i = 0; i < css_urls.length; i++) {\n",
       "      var url = css_urls[i];\n",
       "      const element = document.createElement(\"link\");\n",
       "      element.onload = on_load;\n",
       "      element.onerror = on_error;\n",
       "      element.rel = \"stylesheet\";\n",
       "      element.type = \"text/css\";\n",
       "      element.href = url;\n",
       "      console.debug(\"Bokeh: injecting link tag for BokehJS stylesheet: \", url);\n",
       "      document.body.appendChild(element);\n",
       "    }\n",
       "\n",
       "    var skip = [];\n",
       "    if (window.requirejs) {\n",
       "      window.requirejs.config({'packages': {}, 'paths': {'gridstack': 'https://cdn.jsdelivr.net/npm/gridstack@4.2.5/dist/gridstack-h5', 'notyf': 'https://cdn.jsdelivr.net/npm/notyf@3/notyf.min'}, 'shim': {'gridstack': {'exports': 'GridStack'}}});\n",
       "      require([\"gridstack\"], function(GridStack) {\n",
       "\twindow.GridStack = GridStack\n",
       "\ton_load()\n",
       "      })\n",
       "      require([\"notyf\"], function() {\n",
       "\ton_load()\n",
       "      })\n",
       "      root._bokeh_is_loading = css_urls.length + 2;\n",
       "    } else {\n",
       "      root._bokeh_is_loading = css_urls.length + js_urls.length + js_modules.length;\n",
       "    }    if (((window['GridStack'] !== undefined) && (!(window['GridStack'] instanceof HTMLElement))) || window.requirejs) {\n",
       "      var urls = ['https://cdn.jsdelivr.net/npm/gridstack@4.2.5/dist/gridstack-h5.js'];\n",
       "      for (var i = 0; i < urls.length; i++) {\n",
       "        skip.push(urls[i])\n",
       "      }\n",
       "    }    if (((window['Notyf'] !== undefined) && (!(window['Notyf'] instanceof HTMLElement))) || window.requirejs) {\n",
       "      var urls = ['https://cdn.jsdelivr.net/npm/notyf@3/notyf.min.js'];\n",
       "      for (var i = 0; i < urls.length; i++) {\n",
       "        skip.push(urls[i])\n",
       "      }\n",
       "    }    for (var i = 0; i < js_urls.length; i++) {\n",
       "      var url = js_urls[i];\n",
       "      if (skip.indexOf(url) >= 0) {\n",
       "\tif (!window.requirejs) {\n",
       "\t  on_load();\n",
       "\t}\n",
       "\tcontinue;\n",
       "      }\n",
       "      var element = document.createElement('script');\n",
       "      element.onload = on_load;\n",
       "      element.onerror = on_error;\n",
       "      element.async = false;\n",
       "      element.src = url;\n",
       "      console.debug(\"Bokeh: injecting script tag for BokehJS library: \", url);\n",
       "      document.head.appendChild(element);\n",
       "    }\n",
       "    for (var i = 0; i < js_modules.length; i++) {\n",
       "      var url = js_modules[i];\n",
       "      if (skip.indexOf(url) >= 0) {\n",
       "\tif (!window.requirejs) {\n",
       "\t  on_load();\n",
       "\t}\n",
       "\tcontinue;\n",
       "      }\n",
       "      var element = document.createElement('script');\n",
       "      element.onload = on_load;\n",
       "      element.onerror = on_error;\n",
       "      element.async = false;\n",
       "      element.src = url;\n",
       "      element.type = \"module\";\n",
       "      console.debug(\"Bokeh: injecting script tag for BokehJS library: \", url);\n",
       "      document.head.appendChild(element);\n",
       "    }\n",
       "    if (!js_urls.length && !js_modules.length) {\n",
       "      on_load()\n",
       "    }\n",
       "  };\n",
       "\n",
       "  function inject_raw_css(css) {\n",
       "    const element = document.createElement(\"style\");\n",
       "    element.appendChild(document.createTextNode(css));\n",
       "    document.body.appendChild(element);\n",
       "  }\n",
       "\n",
       "  var js_urls = [\"https://cdn.bokeh.org/bokeh/release/bokeh-2.4.3.min.js\", \"https://cdn.bokeh.org/bokeh/release/bokeh-gl-2.4.3.min.js\", \"https://cdn.bokeh.org/bokeh/release/bokeh-widgets-2.4.3.min.js\", \"https://cdn.bokeh.org/bokeh/release/bokeh-tables-2.4.3.min.js\", \"https://cdn.bokeh.org/bokeh/release/bokeh-mathjax-2.4.3.min.js\", \"https://cdn.jsdelivr.net/npm/notyf@3/notyf.min.js\", \"https://unpkg.com/@holoviz/panel@0.13.1/dist/panel.min.js\"];\n",
       "  var js_modules = [];\n",
       "  var css_urls = [\"https://cdn.jsdelivr.net/npm/notyf@3/notyf.min.css\", \"https://cdnjs.cloudflare.com/ajax/libs/font-awesome/5.15.1/css/all.min.css\", \"https://unpkg.com/@holoviz/panel@0.13.1/dist/css/debugger.css\", \"https://unpkg.com/@holoviz/panel@0.13.1/dist/css/alerts.css\", \"https://unpkg.com/@holoviz/panel@0.13.1/dist/css/card.css\", \"https://unpkg.com/@holoviz/panel@0.13.1/dist/css/widgets.css\", \"https://unpkg.com/@holoviz/panel@0.13.1/dist/css/markdown.css\", \"https://unpkg.com/@holoviz/panel@0.13.1/dist/css/json.css\", \"https://unpkg.com/@holoviz/panel@0.13.1/dist/css/loading.css\", \"https://unpkg.com/@holoviz/panel@0.13.1/dist/css/dataframe.css\"];\n",
       "  var inline_js = [    function(Bokeh) {\n",
       "      inject_raw_css(\"\\n    .bk.pn-loading.arcs:before {\\n      background-image: url(\\\"data:image/svg+xml;base64,PHN2ZyB4bWxucz0iaHR0cDovL3d3dy53My5vcmcvMjAwMC9zdmciIHhtbG5zOnhsaW5rPSJodHRwOi8vd3d3LnczLm9yZy8xOTk5L3hsaW5rIiBzdHlsZT0ibWFyZ2luOiBhdXRvOyBiYWNrZ3JvdW5kOiBub25lOyBkaXNwbGF5OiBibG9jazsgc2hhcGUtcmVuZGVyaW5nOiBhdXRvOyIgdmlld0JveD0iMCAwIDEwMCAxMDAiIHByZXNlcnZlQXNwZWN0UmF0aW89InhNaWRZTWlkIj4gIDxjaXJjbGUgY3g9IjUwIiBjeT0iNTAiIHI9IjMyIiBzdHJva2Utd2lkdGg9IjgiIHN0cm9rZT0iI2MzYzNjMyIgc3Ryb2tlLWRhc2hhcnJheT0iNTAuMjY1NDgyNDU3NDM2NjkgNTAuMjY1NDgyNDU3NDM2NjkiIGZpbGw9Im5vbmUiIHN0cm9rZS1saW5lY2FwPSJyb3VuZCI+ICAgIDxhbmltYXRlVHJhbnNmb3JtIGF0dHJpYnV0ZU5hbWU9InRyYW5zZm9ybSIgdHlwZT0icm90YXRlIiByZXBlYXRDb3VudD0iaW5kZWZpbml0ZSIgZHVyPSIxcyIga2V5VGltZXM9IjA7MSIgdmFsdWVzPSIwIDUwIDUwOzM2MCA1MCA1MCI+PC9hbmltYXRlVHJhbnNmb3JtPiAgPC9jaXJjbGU+PC9zdmc+\\\");\\n      background-size: auto calc(min(50%, 400px));\\n    }\\n    \");\n",
       "    },    function(Bokeh) {\n",
       "      Bokeh.set_log_level(\"info\");\n",
       "    },\n",
       "function(Bokeh) {} // ensure no trailing comma for IE\n",
       "  ];\n",
       "\n",
       "  function run_inline_js() {\n",
       "    if ((root.Bokeh !== undefined) || (force === true)) {\n",
       "      for (var i = 0; i < inline_js.length; i++) {\n",
       "        inline_js[i].call(root, root.Bokeh);\n",
       "      }} else if (Date.now() < root._bokeh_timeout) {\n",
       "      setTimeout(run_inline_js, 100);\n",
       "    } else if (!root._bokeh_failed_load) {\n",
       "      console.log(\"Bokeh: BokehJS failed to load within specified timeout.\");\n",
       "      root._bokeh_failed_load = true;\n",
       "    }\n",
       "  }\n",
       "\n",
       "  if (root._bokeh_is_loading === 0) {\n",
       "    console.debug(\"Bokeh: BokehJS loaded, going straight to plotting\");\n",
       "    run_inline_js();\n",
       "  } else {\n",
       "    load_libs(css_urls, js_urls, js_modules, function() {\n",
       "      console.debug(\"Bokeh: BokehJS plotting callback run at\", now());\n",
       "      run_inline_js();\n",
       "    });\n",
       "  }\n",
       "}(window));"
      ],
      "application/vnd.holoviews_load.v0+json": "(function(root) {\n  function now() {\n    return new Date();\n  }\n\n  var force = true;\n\n  if (typeof root._bokeh_onload_callbacks === \"undefined\" || force === true) {\n    root._bokeh_onload_callbacks = [];\n    root._bokeh_is_loading = undefined;\n  }\n\n  if (typeof (root._bokeh_timeout) === \"undefined\" || force === true) {\n    root._bokeh_timeout = Date.now() + 5000;\n    root._bokeh_failed_load = false;\n  }\n\n  function run_callbacks() {\n    try {\n      root._bokeh_onload_callbacks.forEach(function(callback) {\n        if (callback != null)\n          callback();\n      });\n    } finally {\n      delete root._bokeh_onload_callbacks\n    }\n    console.debug(\"Bokeh: all callbacks have finished\");\n  }\n\n  function load_libs(css_urls, js_urls, js_modules, callback) {\n    if (css_urls == null) css_urls = [];\n    if (js_urls == null) js_urls = [];\n    if (js_modules == null) js_modules = [];\n\n    root._bokeh_onload_callbacks.push(callback);\n    if (root._bokeh_is_loading > 0) {\n      console.debug(\"Bokeh: BokehJS is being loaded, scheduling callback at\", now());\n      return null;\n    }\n    if (js_urls.length === 0 && js_modules.length === 0) {\n      run_callbacks();\n      return null;\n    }\n    console.debug(\"Bokeh: BokehJS not loaded, scheduling load and callback at\", now());\n\n    function on_load() {\n      root._bokeh_is_loading--;\n      if (root._bokeh_is_loading === 0) {\n        console.debug(\"Bokeh: all BokehJS libraries/stylesheets loaded\");\n        run_callbacks()\n      }\n    }\n\n    function on_error() {\n      console.error(\"failed to load \" + url);\n    }\n\n    for (var i = 0; i < css_urls.length; i++) {\n      var url = css_urls[i];\n      const element = document.createElement(\"link\");\n      element.onload = on_load;\n      element.onerror = on_error;\n      element.rel = \"stylesheet\";\n      element.type = \"text/css\";\n      element.href = url;\n      console.debug(\"Bokeh: injecting link tag for BokehJS stylesheet: \", url);\n      document.body.appendChild(element);\n    }\n\n    var skip = [];\n    if (window.requirejs) {\n      window.requirejs.config({'packages': {}, 'paths': {'gridstack': 'https://cdn.jsdelivr.net/npm/gridstack@4.2.5/dist/gridstack-h5', 'notyf': 'https://cdn.jsdelivr.net/npm/notyf@3/notyf.min'}, 'shim': {'gridstack': {'exports': 'GridStack'}}});\n      require([\"gridstack\"], function(GridStack) {\n\twindow.GridStack = GridStack\n\ton_load()\n      })\n      require([\"notyf\"], function() {\n\ton_load()\n      })\n      root._bokeh_is_loading = css_urls.length + 2;\n    } else {\n      root._bokeh_is_loading = css_urls.length + js_urls.length + js_modules.length;\n    }    if (((window['GridStack'] !== undefined) && (!(window['GridStack'] instanceof HTMLElement))) || window.requirejs) {\n      var urls = ['https://cdn.jsdelivr.net/npm/gridstack@4.2.5/dist/gridstack-h5.js'];\n      for (var i = 0; i < urls.length; i++) {\n        skip.push(urls[i])\n      }\n    }    if (((window['Notyf'] !== undefined) && (!(window['Notyf'] instanceof HTMLElement))) || window.requirejs) {\n      var urls = ['https://cdn.jsdelivr.net/npm/notyf@3/notyf.min.js'];\n      for (var i = 0; i < urls.length; i++) {\n        skip.push(urls[i])\n      }\n    }    for (var i = 0; i < js_urls.length; i++) {\n      var url = js_urls[i];\n      if (skip.indexOf(url) >= 0) {\n\tif (!window.requirejs) {\n\t  on_load();\n\t}\n\tcontinue;\n      }\n      var element = document.createElement('script');\n      element.onload = on_load;\n      element.onerror = on_error;\n      element.async = false;\n      element.src = url;\n      console.debug(\"Bokeh: injecting script tag for BokehJS library: \", url);\n      document.head.appendChild(element);\n    }\n    for (var i = 0; i < js_modules.length; i++) {\n      var url = js_modules[i];\n      if (skip.indexOf(url) >= 0) {\n\tif (!window.requirejs) {\n\t  on_load();\n\t}\n\tcontinue;\n      }\n      var element = document.createElement('script');\n      element.onload = on_load;\n      element.onerror = on_error;\n      element.async = false;\n      element.src = url;\n      element.type = \"module\";\n      console.debug(\"Bokeh: injecting script tag for BokehJS library: \", url);\n      document.head.appendChild(element);\n    }\n    if (!js_urls.length && !js_modules.length) {\n      on_load()\n    }\n  };\n\n  function inject_raw_css(css) {\n    const element = document.createElement(\"style\");\n    element.appendChild(document.createTextNode(css));\n    document.body.appendChild(element);\n  }\n\n  var js_urls = [\"https://cdn.bokeh.org/bokeh/release/bokeh-2.4.3.min.js\", \"https://cdn.bokeh.org/bokeh/release/bokeh-gl-2.4.3.min.js\", \"https://cdn.bokeh.org/bokeh/release/bokeh-widgets-2.4.3.min.js\", \"https://cdn.bokeh.org/bokeh/release/bokeh-tables-2.4.3.min.js\", \"https://cdn.bokeh.org/bokeh/release/bokeh-mathjax-2.4.3.min.js\", \"https://cdn.jsdelivr.net/npm/notyf@3/notyf.min.js\", \"https://unpkg.com/@holoviz/panel@0.13.1/dist/panel.min.js\"];\n  var js_modules = [];\n  var css_urls = [\"https://cdn.jsdelivr.net/npm/notyf@3/notyf.min.css\", \"https://cdnjs.cloudflare.com/ajax/libs/font-awesome/5.15.1/css/all.min.css\", \"https://unpkg.com/@holoviz/panel@0.13.1/dist/css/debugger.css\", \"https://unpkg.com/@holoviz/panel@0.13.1/dist/css/alerts.css\", \"https://unpkg.com/@holoviz/panel@0.13.1/dist/css/card.css\", \"https://unpkg.com/@holoviz/panel@0.13.1/dist/css/widgets.css\", \"https://unpkg.com/@holoviz/panel@0.13.1/dist/css/markdown.css\", \"https://unpkg.com/@holoviz/panel@0.13.1/dist/css/json.css\", \"https://unpkg.com/@holoviz/panel@0.13.1/dist/css/loading.css\", \"https://unpkg.com/@holoviz/panel@0.13.1/dist/css/dataframe.css\"];\n  var inline_js = [    function(Bokeh) {\n      inject_raw_css(\"\\n    .bk.pn-loading.arcs:before {\\n      background-image: url(\\\"data:image/svg+xml;base64,PHN2ZyB4bWxucz0iaHR0cDovL3d3dy53My5vcmcvMjAwMC9zdmciIHhtbG5zOnhsaW5rPSJodHRwOi8vd3d3LnczLm9yZy8xOTk5L3hsaW5rIiBzdHlsZT0ibWFyZ2luOiBhdXRvOyBiYWNrZ3JvdW5kOiBub25lOyBkaXNwbGF5OiBibG9jazsgc2hhcGUtcmVuZGVyaW5nOiBhdXRvOyIgdmlld0JveD0iMCAwIDEwMCAxMDAiIHByZXNlcnZlQXNwZWN0UmF0aW89InhNaWRZTWlkIj4gIDxjaXJjbGUgY3g9IjUwIiBjeT0iNTAiIHI9IjMyIiBzdHJva2Utd2lkdGg9IjgiIHN0cm9rZT0iI2MzYzNjMyIgc3Ryb2tlLWRhc2hhcnJheT0iNTAuMjY1NDgyNDU3NDM2NjkgNTAuMjY1NDgyNDU3NDM2NjkiIGZpbGw9Im5vbmUiIHN0cm9rZS1saW5lY2FwPSJyb3VuZCI+ICAgIDxhbmltYXRlVHJhbnNmb3JtIGF0dHJpYnV0ZU5hbWU9InRyYW5zZm9ybSIgdHlwZT0icm90YXRlIiByZXBlYXRDb3VudD0iaW5kZWZpbml0ZSIgZHVyPSIxcyIga2V5VGltZXM9IjA7MSIgdmFsdWVzPSIwIDUwIDUwOzM2MCA1MCA1MCI+PC9hbmltYXRlVHJhbnNmb3JtPiAgPC9jaXJjbGU+PC9zdmc+\\\");\\n      background-size: auto calc(min(50%, 400px));\\n    }\\n    \");\n    },    function(Bokeh) {\n      Bokeh.set_log_level(\"info\");\n    },\nfunction(Bokeh) {} // ensure no trailing comma for IE\n  ];\n\n  function run_inline_js() {\n    if ((root.Bokeh !== undefined) || (force === true)) {\n      for (var i = 0; i < inline_js.length; i++) {\n        inline_js[i].call(root, root.Bokeh);\n      }} else if (Date.now() < root._bokeh_timeout) {\n      setTimeout(run_inline_js, 100);\n    } else if (!root._bokeh_failed_load) {\n      console.log(\"Bokeh: BokehJS failed to load within specified timeout.\");\n      root._bokeh_failed_load = true;\n    }\n  }\n\n  if (root._bokeh_is_loading === 0) {\n    console.debug(\"Bokeh: BokehJS loaded, going straight to plotting\");\n    run_inline_js();\n  } else {\n    load_libs(css_urls, js_urls, js_modules, function() {\n      console.debug(\"Bokeh: BokehJS plotting callback run at\", now());\n      run_inline_js();\n    });\n  }\n}(window));"
     },
     "metadata": {},
     "output_type": "display_data"
    },
    {
     "data": {
      "application/javascript": [
       "\n",
       "if ((window.PyViz === undefined) || (window.PyViz instanceof HTMLElement)) {\n",
       "  window.PyViz = {comms: {}, comm_status:{}, kernels:{}, receivers: {}, plot_index: []}\n",
       "}\n",
       "\n",
       "\n",
       "    function JupyterCommManager() {\n",
       "    }\n",
       "\n",
       "    JupyterCommManager.prototype.register_target = function(plot_id, comm_id, msg_handler) {\n",
       "      if (window.comm_manager || ((window.Jupyter !== undefined) && (Jupyter.notebook.kernel != null))) {\n",
       "        var comm_manager = window.comm_manager || Jupyter.notebook.kernel.comm_manager;\n",
       "        comm_manager.register_target(comm_id, function(comm) {\n",
       "          comm.on_msg(msg_handler);\n",
       "        });\n",
       "      } else if ((plot_id in window.PyViz.kernels) && (window.PyViz.kernels[plot_id])) {\n",
       "        window.PyViz.kernels[plot_id].registerCommTarget(comm_id, function(comm) {\n",
       "          comm.onMsg = msg_handler;\n",
       "        });\n",
       "      } else if (typeof google != 'undefined' && google.colab.kernel != null) {\n",
       "        google.colab.kernel.comms.registerTarget(comm_id, (comm) => {\n",
       "          var messages = comm.messages[Symbol.asyncIterator]();\n",
       "          function processIteratorResult(result) {\n",
       "            var message = result.value;\n",
       "            console.log(message)\n",
       "            var content = {data: message.data, comm_id};\n",
       "            var buffers = []\n",
       "            for (var buffer of message.buffers || []) {\n",
       "              buffers.push(new DataView(buffer))\n",
       "            }\n",
       "            var metadata = message.metadata || {};\n",
       "            var msg = {content, buffers, metadata}\n",
       "            msg_handler(msg);\n",
       "            return messages.next().then(processIteratorResult);\n",
       "          }\n",
       "          return messages.next().then(processIteratorResult);\n",
       "        })\n",
       "      }\n",
       "    }\n",
       "\n",
       "    JupyterCommManager.prototype.get_client_comm = function(plot_id, comm_id, msg_handler) {\n",
       "      if (comm_id in window.PyViz.comms) {\n",
       "        return window.PyViz.comms[comm_id];\n",
       "      } else if (window.comm_manager || ((window.Jupyter !== undefined) && (Jupyter.notebook.kernel != null))) {\n",
       "        var comm_manager = window.comm_manager || Jupyter.notebook.kernel.comm_manager;\n",
       "        var comm = comm_manager.new_comm(comm_id, {}, {}, {}, comm_id);\n",
       "        if (msg_handler) {\n",
       "          comm.on_msg(msg_handler);\n",
       "        }\n",
       "      } else if ((plot_id in window.PyViz.kernels) && (window.PyViz.kernels[plot_id])) {\n",
       "        var comm = window.PyViz.kernels[plot_id].connectToComm(comm_id);\n",
       "        comm.open();\n",
       "        if (msg_handler) {\n",
       "          comm.onMsg = msg_handler;\n",
       "        }\n",
       "      } else if (typeof google != 'undefined' && google.colab.kernel != null) {\n",
       "        var comm_promise = google.colab.kernel.comms.open(comm_id)\n",
       "        comm_promise.then((comm) => {\n",
       "          window.PyViz.comms[comm_id] = comm;\n",
       "          if (msg_handler) {\n",
       "            var messages = comm.messages[Symbol.asyncIterator]();\n",
       "            function processIteratorResult(result) {\n",
       "              var message = result.value;\n",
       "              var content = {data: message.data};\n",
       "              var metadata = message.metadata || {comm_id};\n",
       "              var msg = {content, metadata}\n",
       "              msg_handler(msg);\n",
       "              return messages.next().then(processIteratorResult);\n",
       "            }\n",
       "            return messages.next().then(processIteratorResult);\n",
       "          }\n",
       "        }) \n",
       "        var sendClosure = (data, metadata, buffers, disposeOnDone) => {\n",
       "          return comm_promise.then((comm) => {\n",
       "            comm.send(data, metadata, buffers, disposeOnDone);\n",
       "          });\n",
       "        };\n",
       "        var comm = {\n",
       "          send: sendClosure\n",
       "        };\n",
       "      }\n",
       "      window.PyViz.comms[comm_id] = comm;\n",
       "      return comm;\n",
       "    }\n",
       "    window.PyViz.comm_manager = new JupyterCommManager();\n",
       "    \n",
       "\n",
       "\n",
       "var JS_MIME_TYPE = 'application/javascript';\n",
       "var HTML_MIME_TYPE = 'text/html';\n",
       "var EXEC_MIME_TYPE = 'application/vnd.holoviews_exec.v0+json';\n",
       "var CLASS_NAME = 'output';\n",
       "\n",
       "/**\n",
       " * Render data to the DOM node\n",
       " */\n",
       "function render(props, node) {\n",
       "  var div = document.createElement(\"div\");\n",
       "  var script = document.createElement(\"script\");\n",
       "  node.appendChild(div);\n",
       "  node.appendChild(script);\n",
       "}\n",
       "\n",
       "/**\n",
       " * Handle when a new output is added\n",
       " */\n",
       "function handle_add_output(event, handle) {\n",
       "  var output_area = handle.output_area;\n",
       "  var output = handle.output;\n",
       "  if ((output.data == undefined) || (!output.data.hasOwnProperty(EXEC_MIME_TYPE))) {\n",
       "    return\n",
       "  }\n",
       "  var id = output.metadata[EXEC_MIME_TYPE][\"id\"];\n",
       "  var toinsert = output_area.element.find(\".\" + CLASS_NAME.split(' ')[0]);\n",
       "  if (id !== undefined) {\n",
       "    var nchildren = toinsert.length;\n",
       "    var html_node = toinsert[nchildren-1].children[0];\n",
       "    html_node.innerHTML = output.data[HTML_MIME_TYPE];\n",
       "    var scripts = [];\n",
       "    var nodelist = html_node.querySelectorAll(\"script\");\n",
       "    for (var i in nodelist) {\n",
       "      if (nodelist.hasOwnProperty(i)) {\n",
       "        scripts.push(nodelist[i])\n",
       "      }\n",
       "    }\n",
       "\n",
       "    scripts.forEach( function (oldScript) {\n",
       "      var newScript = document.createElement(\"script\");\n",
       "      var attrs = [];\n",
       "      var nodemap = oldScript.attributes;\n",
       "      for (var j in nodemap) {\n",
       "        if (nodemap.hasOwnProperty(j)) {\n",
       "          attrs.push(nodemap[j])\n",
       "        }\n",
       "      }\n",
       "      attrs.forEach(function(attr) { newScript.setAttribute(attr.name, attr.value) });\n",
       "      newScript.appendChild(document.createTextNode(oldScript.innerHTML));\n",
       "      oldScript.parentNode.replaceChild(newScript, oldScript);\n",
       "    });\n",
       "    if (JS_MIME_TYPE in output.data) {\n",
       "      toinsert[nchildren-1].children[1].textContent = output.data[JS_MIME_TYPE];\n",
       "    }\n",
       "    output_area._hv_plot_id = id;\n",
       "    if ((window.Bokeh !== undefined) && (id in Bokeh.index)) {\n",
       "      window.PyViz.plot_index[id] = Bokeh.index[id];\n",
       "    } else {\n",
       "      window.PyViz.plot_index[id] = null;\n",
       "    }\n",
       "  } else if (output.metadata[EXEC_MIME_TYPE][\"server_id\"] !== undefined) {\n",
       "    var bk_div = document.createElement(\"div\");\n",
       "    bk_div.innerHTML = output.data[HTML_MIME_TYPE];\n",
       "    var script_attrs = bk_div.children[0].attributes;\n",
       "    for (var i = 0; i < script_attrs.length; i++) {\n",
       "      toinsert[toinsert.length - 1].childNodes[1].setAttribute(script_attrs[i].name, script_attrs[i].value);\n",
       "    }\n",
       "    // store reference to server id on output_area\n",
       "    output_area._bokeh_server_id = output.metadata[EXEC_MIME_TYPE][\"server_id\"];\n",
       "  }\n",
       "}\n",
       "\n",
       "/**\n",
       " * Handle when an output is cleared or removed\n",
       " */\n",
       "function handle_clear_output(event, handle) {\n",
       "  var id = handle.cell.output_area._hv_plot_id;\n",
       "  var server_id = handle.cell.output_area._bokeh_server_id;\n",
       "  if (((id === undefined) || !(id in PyViz.plot_index)) && (server_id !== undefined)) { return; }\n",
       "  var comm = window.PyViz.comm_manager.get_client_comm(\"hv-extension-comm\", \"hv-extension-comm\", function () {});\n",
       "  if (server_id !== null) {\n",
       "    comm.send({event_type: 'server_delete', 'id': server_id});\n",
       "    return;\n",
       "  } else if (comm !== null) {\n",
       "    comm.send({event_type: 'delete', 'id': id});\n",
       "  }\n",
       "  delete PyViz.plot_index[id];\n",
       "  if ((window.Bokeh !== undefined) & (id in window.Bokeh.index)) {\n",
       "    var doc = window.Bokeh.index[id].model.document\n",
       "    doc.clear();\n",
       "    const i = window.Bokeh.documents.indexOf(doc);\n",
       "    if (i > -1) {\n",
       "      window.Bokeh.documents.splice(i, 1);\n",
       "    }\n",
       "  }\n",
       "}\n",
       "\n",
       "/**\n",
       " * Handle kernel restart event\n",
       " */\n",
       "function handle_kernel_cleanup(event, handle) {\n",
       "  delete PyViz.comms[\"hv-extension-comm\"];\n",
       "  window.PyViz.plot_index = {}\n",
       "}\n",
       "\n",
       "/**\n",
       " * Handle update_display_data messages\n",
       " */\n",
       "function handle_update_output(event, handle) {\n",
       "  handle_clear_output(event, {cell: {output_area: handle.output_area}})\n",
       "  handle_add_output(event, handle)\n",
       "}\n",
       "\n",
       "function register_renderer(events, OutputArea) {\n",
       "  function append_mime(data, metadata, element) {\n",
       "    // create a DOM node to render to\n",
       "    var toinsert = this.create_output_subarea(\n",
       "    metadata,\n",
       "    CLASS_NAME,\n",
       "    EXEC_MIME_TYPE\n",
       "    );\n",
       "    this.keyboard_manager.register_events(toinsert);\n",
       "    // Render to node\n",
       "    var props = {data: data, metadata: metadata[EXEC_MIME_TYPE]};\n",
       "    render(props, toinsert[0]);\n",
       "    element.append(toinsert);\n",
       "    return toinsert\n",
       "  }\n",
       "\n",
       "  events.on('output_added.OutputArea', handle_add_output);\n",
       "  events.on('output_updated.OutputArea', handle_update_output);\n",
       "  events.on('clear_output.CodeCell', handle_clear_output);\n",
       "  events.on('delete.Cell', handle_clear_output);\n",
       "  events.on('kernel_ready.Kernel', handle_kernel_cleanup);\n",
       "\n",
       "  OutputArea.prototype.register_mime_type(EXEC_MIME_TYPE, append_mime, {\n",
       "    safe: true,\n",
       "    index: 0\n",
       "  });\n",
       "}\n",
       "\n",
       "if (window.Jupyter !== undefined) {\n",
       "  try {\n",
       "    var events = require('base/js/events');\n",
       "    var OutputArea = require('notebook/js/outputarea').OutputArea;\n",
       "    if (OutputArea.prototype.mime_types().indexOf(EXEC_MIME_TYPE) == -1) {\n",
       "      register_renderer(events, OutputArea);\n",
       "    }\n",
       "  } catch(err) {\n",
       "  }\n",
       "}\n"
      ],
      "application/vnd.holoviews_load.v0+json": "\nif ((window.PyViz === undefined) || (window.PyViz instanceof HTMLElement)) {\n  window.PyViz = {comms: {}, comm_status:{}, kernels:{}, receivers: {}, plot_index: []}\n}\n\n\n    function JupyterCommManager() {\n    }\n\n    JupyterCommManager.prototype.register_target = function(plot_id, comm_id, msg_handler) {\n      if (window.comm_manager || ((window.Jupyter !== undefined) && (Jupyter.notebook.kernel != null))) {\n        var comm_manager = window.comm_manager || Jupyter.notebook.kernel.comm_manager;\n        comm_manager.register_target(comm_id, function(comm) {\n          comm.on_msg(msg_handler);\n        });\n      } else if ((plot_id in window.PyViz.kernels) && (window.PyViz.kernels[plot_id])) {\n        window.PyViz.kernels[plot_id].registerCommTarget(comm_id, function(comm) {\n          comm.onMsg = msg_handler;\n        });\n      } else if (typeof google != 'undefined' && google.colab.kernel != null) {\n        google.colab.kernel.comms.registerTarget(comm_id, (comm) => {\n          var messages = comm.messages[Symbol.asyncIterator]();\n          function processIteratorResult(result) {\n            var message = result.value;\n            console.log(message)\n            var content = {data: message.data, comm_id};\n            var buffers = []\n            for (var buffer of message.buffers || []) {\n              buffers.push(new DataView(buffer))\n            }\n            var metadata = message.metadata || {};\n            var msg = {content, buffers, metadata}\n            msg_handler(msg);\n            return messages.next().then(processIteratorResult);\n          }\n          return messages.next().then(processIteratorResult);\n        })\n      }\n    }\n\n    JupyterCommManager.prototype.get_client_comm = function(plot_id, comm_id, msg_handler) {\n      if (comm_id in window.PyViz.comms) {\n        return window.PyViz.comms[comm_id];\n      } else if (window.comm_manager || ((window.Jupyter !== undefined) && (Jupyter.notebook.kernel != null))) {\n        var comm_manager = window.comm_manager || Jupyter.notebook.kernel.comm_manager;\n        var comm = comm_manager.new_comm(comm_id, {}, {}, {}, comm_id);\n        if (msg_handler) {\n          comm.on_msg(msg_handler);\n        }\n      } else if ((plot_id in window.PyViz.kernels) && (window.PyViz.kernels[plot_id])) {\n        var comm = window.PyViz.kernels[plot_id].connectToComm(comm_id);\n        comm.open();\n        if (msg_handler) {\n          comm.onMsg = msg_handler;\n        }\n      } else if (typeof google != 'undefined' && google.colab.kernel != null) {\n        var comm_promise = google.colab.kernel.comms.open(comm_id)\n        comm_promise.then((comm) => {\n          window.PyViz.comms[comm_id] = comm;\n          if (msg_handler) {\n            var messages = comm.messages[Symbol.asyncIterator]();\n            function processIteratorResult(result) {\n              var message = result.value;\n              var content = {data: message.data};\n              var metadata = message.metadata || {comm_id};\n              var msg = {content, metadata}\n              msg_handler(msg);\n              return messages.next().then(processIteratorResult);\n            }\n            return messages.next().then(processIteratorResult);\n          }\n        }) \n        var sendClosure = (data, metadata, buffers, disposeOnDone) => {\n          return comm_promise.then((comm) => {\n            comm.send(data, metadata, buffers, disposeOnDone);\n          });\n        };\n        var comm = {\n          send: sendClosure\n        };\n      }\n      window.PyViz.comms[comm_id] = comm;\n      return comm;\n    }\n    window.PyViz.comm_manager = new JupyterCommManager();\n    \n\n\nvar JS_MIME_TYPE = 'application/javascript';\nvar HTML_MIME_TYPE = 'text/html';\nvar EXEC_MIME_TYPE = 'application/vnd.holoviews_exec.v0+json';\nvar CLASS_NAME = 'output';\n\n/**\n * Render data to the DOM node\n */\nfunction render(props, node) {\n  var div = document.createElement(\"div\");\n  var script = document.createElement(\"script\");\n  node.appendChild(div);\n  node.appendChild(script);\n}\n\n/**\n * Handle when a new output is added\n */\nfunction handle_add_output(event, handle) {\n  var output_area = handle.output_area;\n  var output = handle.output;\n  if ((output.data == undefined) || (!output.data.hasOwnProperty(EXEC_MIME_TYPE))) {\n    return\n  }\n  var id = output.metadata[EXEC_MIME_TYPE][\"id\"];\n  var toinsert = output_area.element.find(\".\" + CLASS_NAME.split(' ')[0]);\n  if (id !== undefined) {\n    var nchildren = toinsert.length;\n    var html_node = toinsert[nchildren-1].children[0];\n    html_node.innerHTML = output.data[HTML_MIME_TYPE];\n    var scripts = [];\n    var nodelist = html_node.querySelectorAll(\"script\");\n    for (var i in nodelist) {\n      if (nodelist.hasOwnProperty(i)) {\n        scripts.push(nodelist[i])\n      }\n    }\n\n    scripts.forEach( function (oldScript) {\n      var newScript = document.createElement(\"script\");\n      var attrs = [];\n      var nodemap = oldScript.attributes;\n      for (var j in nodemap) {\n        if (nodemap.hasOwnProperty(j)) {\n          attrs.push(nodemap[j])\n        }\n      }\n      attrs.forEach(function(attr) { newScript.setAttribute(attr.name, attr.value) });\n      newScript.appendChild(document.createTextNode(oldScript.innerHTML));\n      oldScript.parentNode.replaceChild(newScript, oldScript);\n    });\n    if (JS_MIME_TYPE in output.data) {\n      toinsert[nchildren-1].children[1].textContent = output.data[JS_MIME_TYPE];\n    }\n    output_area._hv_plot_id = id;\n    if ((window.Bokeh !== undefined) && (id in Bokeh.index)) {\n      window.PyViz.plot_index[id] = Bokeh.index[id];\n    } else {\n      window.PyViz.plot_index[id] = null;\n    }\n  } else if (output.metadata[EXEC_MIME_TYPE][\"server_id\"] !== undefined) {\n    var bk_div = document.createElement(\"div\");\n    bk_div.innerHTML = output.data[HTML_MIME_TYPE];\n    var script_attrs = bk_div.children[0].attributes;\n    for (var i = 0; i < script_attrs.length; i++) {\n      toinsert[toinsert.length - 1].childNodes[1].setAttribute(script_attrs[i].name, script_attrs[i].value);\n    }\n    // store reference to server id on output_area\n    output_area._bokeh_server_id = output.metadata[EXEC_MIME_TYPE][\"server_id\"];\n  }\n}\n\n/**\n * Handle when an output is cleared or removed\n */\nfunction handle_clear_output(event, handle) {\n  var id = handle.cell.output_area._hv_plot_id;\n  var server_id = handle.cell.output_area._bokeh_server_id;\n  if (((id === undefined) || !(id in PyViz.plot_index)) && (server_id !== undefined)) { return; }\n  var comm = window.PyViz.comm_manager.get_client_comm(\"hv-extension-comm\", \"hv-extension-comm\", function () {});\n  if (server_id !== null) {\n    comm.send({event_type: 'server_delete', 'id': server_id});\n    return;\n  } else if (comm !== null) {\n    comm.send({event_type: 'delete', 'id': id});\n  }\n  delete PyViz.plot_index[id];\n  if ((window.Bokeh !== undefined) & (id in window.Bokeh.index)) {\n    var doc = window.Bokeh.index[id].model.document\n    doc.clear();\n    const i = window.Bokeh.documents.indexOf(doc);\n    if (i > -1) {\n      window.Bokeh.documents.splice(i, 1);\n    }\n  }\n}\n\n/**\n * Handle kernel restart event\n */\nfunction handle_kernel_cleanup(event, handle) {\n  delete PyViz.comms[\"hv-extension-comm\"];\n  window.PyViz.plot_index = {}\n}\n\n/**\n * Handle update_display_data messages\n */\nfunction handle_update_output(event, handle) {\n  handle_clear_output(event, {cell: {output_area: handle.output_area}})\n  handle_add_output(event, handle)\n}\n\nfunction register_renderer(events, OutputArea) {\n  function append_mime(data, metadata, element) {\n    // create a DOM node to render to\n    var toinsert = this.create_output_subarea(\n    metadata,\n    CLASS_NAME,\n    EXEC_MIME_TYPE\n    );\n    this.keyboard_manager.register_events(toinsert);\n    // Render to node\n    var props = {data: data, metadata: metadata[EXEC_MIME_TYPE]};\n    render(props, toinsert[0]);\n    element.append(toinsert);\n    return toinsert\n  }\n\n  events.on('output_added.OutputArea', handle_add_output);\n  events.on('output_updated.OutputArea', handle_update_output);\n  events.on('clear_output.CodeCell', handle_clear_output);\n  events.on('delete.Cell', handle_clear_output);\n  events.on('kernel_ready.Kernel', handle_kernel_cleanup);\n\n  OutputArea.prototype.register_mime_type(EXEC_MIME_TYPE, append_mime, {\n    safe: true,\n    index: 0\n  });\n}\n\nif (window.Jupyter !== undefined) {\n  try {\n    var events = require('base/js/events');\n    var OutputArea = require('notebook/js/outputarea').OutputArea;\n    if (OutputArea.prototype.mime_types().indexOf(EXEC_MIME_TYPE) == -1) {\n      register_renderer(events, OutputArea);\n    }\n  } catch(err) {\n  }\n}\n"
     },
     "metadata": {},
     "output_type": "display_data"
    },
    {
     "data": {
      "text/html": [
       "<style>.bk-root, .bk-root .bk:before, .bk-root .bk:after {\n",
       "  font-family: var(--jp-ui-font-size1);\n",
       "  font-size: var(--jp-ui-font-size1);\n",
       "  color: var(--jp-ui-font-color1);\n",
       "}\n",
       "</style>"
      ]
     },
     "metadata": {},
     "output_type": "display_data"
    }
   ],
   "source": [
    "pn.extension()"
   ]
  },
  {
   "cell_type": "code",
   "execution_count": 3,
   "metadata": {
    "gather": {
     "logged": 1652945651174
    }
   },
   "outputs": [
    {
     "data": {
      "text/plain": [
       "'v2022.2.3'"
      ]
     },
     "execution_count": 3,
     "metadata": {},
     "output_type": "execute_result"
    }
   ],
   "source": [
    "# get model_version\n",
    "model_version = pd.read_sql_query('''select value from model_metadata where item = 'model_version' ''', engine)\n",
    "model_version = model_version.iloc[0][0]\n",
    "model_version"
   ]
  },
  {
   "cell_type": "code",
   "execution_count": 4,
   "metadata": {},
   "outputs": [
    {
     "name": "stdout",
     "output_type": "stream",
     "text": [
      "server connected\n"
     ]
    },
    {
     "data": {
      "application/vnd.jupyter.widget-view+json": {
       "model_id": "f0e0850ff8ca4d3cb98ab42823a3d052",
       "version_major": 2,
       "version_minor": 0
      },
      "text/plain": [
       "Summarize dataset:   0%|          | 0/5 [00:00<?, ?it/s]"
      ]
     },
     "metadata": {},
     "output_type": "display_data"
    },
    {
     "data": {
      "application/vnd.jupyter.widget-view+json": {
       "model_id": "b04491b3164f4ccb998d543cc7efb960",
       "version_major": 2,
       "version_minor": 0
      },
      "text/plain": [
       "Generate report structure:   0%|          | 0/1 [00:00<?, ?it/s]"
      ]
     },
     "metadata": {},
     "output_type": "display_data"
    },
    {
     "data": {
      "application/vnd.jupyter.widget-view+json": {
       "model_id": "5f2d7aa7c7ce4389b84c1200d4fcdfcb",
       "version_major": 2,
       "version_minor": 0
      },
      "text/plain": [
       "Render HTML:   0%|          | 0/1 [00:00<?, ?it/s]"
      ]
     },
     "metadata": {},
     "output_type": "display_data"
    },
    {
     "data": {
      "application/vnd.jupyter.widget-view+json": {
       "model_id": "6b48caace68543b5bf47300d1d86d521",
       "version_major": 2,
       "version_minor": 0
      },
      "text/plain": [
       "Export report to file:   0%|          | 0/1 [00:00<?, ?it/s]"
      ]
     },
     "metadata": {},
     "output_type": "display_data"
    }
   ],
   "source": [
    "#EDA - F1000 proxy events and entities \n",
    "events = read_f1k_table()\n",
    "profile_events_data = ProfileReport(events, title='model_events_EDA',minimal=True)\n",
    "profile_events_data.to_file('data/model_events_EDA.html')"
   ]
  },
  {
   "cell_type": "markdown",
   "metadata": {
    "nteract": {
     "transient": {
      "deleting": false
     }
    }
   },
   "source": [
    "### Get model data"
   ]
  },
  {
   "cell_type": "code",
   "execution_count": 5,
   "metadata": {
    "collapsed": false,
    "gather": {
     "logged": 1652945677514
    },
    "jupyter": {
     "outputs_hidden": false,
     "source_hidden": false
    },
    "nteract": {
     "transient": {
      "deleting": false
     }
    }
   },
   "outputs": [],
   "source": [
    "# get model_data\n",
    "df_model = pd.read_sql_query('''\n",
    "    select\n",
    "        model_events.run_id::text as entity,\n",
    "        model_entities.number_of_data_records,\n",
    "        model_events.data_scale,\n",
    "        model_entities.data_split_pci,\n",
    "        model_entities.data_split_other,\n",
    "        model_entities.data_split_phi,\n",
    "        model_entities.data_split_pii,\n",
    "        model_entities.number_of_data_records * model_events.data_scale as data_records_impacted,\n",
    "        model_events.event_type as event_type\n",
    "    from\n",
    "        model_events left outer join model_entities on model_events.run_id = model_entities.run_id\n",
    "''', engine)\n",
    "df_model.pop('entity')\n",
    "df_model['source'] = 'model'\n"
   ]
  },
  {
   "cell_type": "code",
   "execution_count": 6,
   "metadata": {},
   "outputs": [
    {
     "data": {
      "application/vnd.jupyter.widget-view+json": {
       "model_id": "426f8bafc6ad48ccb4f359a36c9b74c9",
       "version_major": 2,
       "version_minor": 0
      },
      "text/plain": [
       "Summarize dataset:   0%|          | 0/5 [00:00<?, ?it/s]"
      ]
     },
     "metadata": {},
     "output_type": "display_data"
    },
    {
     "data": {
      "application/vnd.jupyter.widget-view+json": {
       "model_id": "8cc05b0fb7c643bcb233356839697ab2",
       "version_major": 2,
       "version_minor": 0
      },
      "text/plain": [
       "Generate report structure:   0%|          | 0/1 [00:00<?, ?it/s]"
      ]
     },
     "metadata": {},
     "output_type": "display_data"
    },
    {
     "data": {
      "application/vnd.jupyter.widget-view+json": {
       "model_id": "8551515b42564e3094342bd870bdf236",
       "version_major": 2,
       "version_minor": 0
      },
      "text/plain": [
       "Render HTML:   0%|          | 0/1 [00:00<?, ?it/s]"
      ]
     },
     "metadata": {},
     "output_type": "display_data"
    },
    {
     "data": {
      "application/vnd.jupyter.widget-view+json": {
       "model_id": "5e605d1702484801bd7172dce3d574cb",
       "version_major": 2,
       "version_minor": 0
      },
      "text/plain": [
       "Export report to file:   0%|          | 0/1 [00:00<?, ?it/s]"
      ]
     },
     "metadata": {},
     "output_type": "display_data"
    }
   ],
   "source": [
    "#EDA - F1000 model data\n",
    "profile_model_data = ProfileReport(df_model, title='F1000_model_data_EDA',minimal=True)\n",
    "profile_model_data.to_file('data/F1000_model_data.html')"
   ]
  },
  {
   "cell_type": "markdown",
   "metadata": {
    "nteract": {
     "transient": {
      "deleting": false
     }
    }
   },
   "source": [
    "### Get Events data"
   ]
  },
  {
   "cell_type": "code",
   "execution_count": 7,
   "metadata": {
    "collapsed": false,
    "gather": {
     "logged": 1652945678052
    },
    "jupyter": {
     "outputs_hidden": false,
     "source_hidden": false
    },
    "nteract": {
     "transient": {
      "deleting": false
     }
    }
   },
   "outputs": [
    {
     "name": "stdout",
     "output_type": "stream",
     "text": [
      "server connected\n"
     ]
    }
   ],
   "source": [
    "df_events = read_f1k_table()[['compromised_data_amount','compromised_data_types','event_type']].rename(columns={'compromised_data_amount':'data_records_impacted'})\n",
    "df_events.loc[:,'source']='events'\n"
   ]
  },
  {
   "cell_type": "markdown",
   "metadata": {
    "nteract": {
     "transient": {
      "deleting": false
     }
    }
   },
   "source": [
    "### Compare data records impacted\n"
   ]
  },
  {
   "cell_type": "code",
   "execution_count": 8,
   "metadata": {},
   "outputs": [
    {
     "name": "stdout",
     "output_type": "stream",
     "text": [
      "0.00% of actual events have no data records impacted populated\n",
      "0.00% of actual events have 0 data records impacted\n",
      "25.92% of actual events have the value 'None' for data records impacted\n"
     ]
    }
   ],
   "source": [
    "#events data quality check\n",
    "print(f\"{df_events['data_records_impacted'].isnull().mean()*100:.02f}% of actual events have no data records impacted populated\")\n",
    "print(f\"{(df_events['data_records_impacted']==0).mean()*100:.02f}% of actual events have 0 data records impacted\")\n",
    "print(f\"{(df_events['data_records_impacted']=='None').mean()*100:.02f}% of actual events have the value 'None' for data records impacted\")"
   ]
  },
  {
   "cell_type": "code",
   "execution_count": 9,
   "metadata": {},
   "outputs": [
    {
     "name": "stdout",
     "output_type": "stream",
     "text": [
      "46.46% of model events have no data records impacted populated\n",
      "0.00% of model events have 0 data records impacted\n",
      "0.00% of model events have the value 'None' for data records impacted\n"
     ]
    }
   ],
   "source": [
    "#model data quality check\n",
    "print(f\"{df_model['data_records_impacted'].isnull().mean()*100:.02f}% of model events have no data records impacted populated\")\n",
    "print(f\"{(df_model['data_records_impacted']==0).mean()*100:.02f}% of model events have 0 data records impacted\")\n",
    "print(f\"{(df_model['data_records_impacted']=='None').mean()*100:.02f}% of model events have the value 'None' for data records impacted\")"
   ]
  },
  {
   "cell_type": "code",
   "execution_count": 10,
   "metadata": {},
   "outputs": [],
   "source": [
    "#Normalize the events data - the fields `data_records_impacted` and `compromised_data_types` are presented as lists in the table\n",
    "df_modified_events = df_events.copy()\n",
    "compromised_data_types_replacements = {'Corporate Digital Assets':'Corporate_Digital_Assets','Corporate Financial Assets':'Corporate_Financial_Assets','Business Interruption':'Business_Interruption'}\n",
    "df_modified_events['data_records_impacted'] = df_modified_events.loc[:,'data_records_impacted'].str.strip('[]')\n",
    "df_modified_events['compromised_data_types'] = df_modified_events.loc[:,'compromised_data_types'].str.strip('[]').replace(compromised_data_types_replacements, regex=True).str.split(' ')\n",
    "df_modified_events = df_modified_events.explode('compromised_data_types')\n",
    "df_modified_events = df_modified_events.explode('data_records_impacted').reset_index()\n",
    "df_modified_events['data_records_impacted'] = df_modified_events['data_records_impacted'].str.strip(' ')\n",
    "df_modified_events['data_records_impacted'].replace(['None','nan', 'nan  0',''],np.nan,inplace=True,regex=True)\n",
    "df_modified_events['data_records_impacted']= pd.to_numeric(df_modified_events['data_records_impacted'], errors='coerce')\n",
    "df_modified_events.dropna(subset='data_records_impacted',inplace=True)\n",
    "df_modified_events.drop_duplicates(keep='first',subset='index',inplace=True)\n",
    "df_modified_events.drop(columns='index',inplace=True)"
   ]
  },
  {
   "cell_type": "code",
   "execution_count": 11,
   "metadata": {},
   "outputs": [],
   "source": [
    "#create plot data\n",
    "events_data = df_modified_events[['data_records_impacted','source']]\n",
    "model_data = df_model[['number_of_data_records','data_scale','data_records_impacted','source']]\n",
    "plot_data = pd.concat([model_data, events_data],ignore_index=True)"
   ]
  },
  {
   "cell_type": "code",
   "execution_count": 12,
   "metadata": {},
   "outputs": [
    {
     "data": {
      "text/plain": [
       "count   3,175.00      \n",
       "mean    2,020,756.42  \n",
       "std     15,548,490.11 \n",
       "min     0.00          \n",
       "25%     1.00          \n",
       "50%     1.00          \n",
       "75%     1,000.00      \n",
       "max     319,000,000.00\n",
       "Name: data_records_impacted, dtype: float64"
      ]
     },
     "execution_count": 12,
     "metadata": {},
     "output_type": "execute_result"
    }
   ],
   "source": [
    "events_data['data_records_impacted'].describe()"
   ]
  },
  {
   "cell_type": "code",
   "execution_count": 13,
   "metadata": {},
   "outputs": [
    {
     "data": {
      "text/plain": [
       "count   3,048,392.00    \n",
       "mean    23,255,628.13   \n",
       "std     55,530,174.19   \n",
       "min     7,280.68        \n",
       "25%     1,911,643.72    \n",
       "50%     5,435,435.52    \n",
       "75%     18,340,163.78   \n",
       "max     1,044,210,194.63\n",
       "Name: data_records_impacted, dtype: float64"
      ]
     },
     "execution_count": 13,
     "metadata": {},
     "output_type": "execute_result"
    }
   ],
   "source": [
    "model_data['data_records_impacted'].describe()"
   ]
  },
  {
   "cell_type": "markdown",
   "metadata": {},
   "source": [
    "### Plots before normalization"
   ]
  },
  {
   "cell_type": "code",
   "execution_count": 17,
   "metadata": {},
   "outputs": [
    {
     "data": {
      "text/plain": [
       "Text(0.5, 0, 'data records impacted')"
      ]
     },
     "execution_count": 17,
     "metadata": {},
     "output_type": "execute_result"
    },
    {
     "data": {
      "image/png": "[encoded data removed]",
      "text/plain": [
       "<Figure size 576x360 with 1 Axes>"
      ]
     },
     "metadata": {
      "needs_background": "light"
     },
     "output_type": "display_data"
    }
   ],
   "source": [
    "# plot data\n",
    "fig, ax = plt.subplots(1, 1, figsize=(8, 5))\n",
    "sns.boxplot(data=plot_data, x=\"data_records_impacted\", y=\"source\", orient=\"h\", ax=ax)\n",
    "ax.set_xlabel(\"data records impacted\")"
   ]
  },
  {
   "cell_type": "code",
   "execution_count": 20,
   "metadata": {},
   "outputs": [
    {
     "data": {},
     "metadata": {},
     "output_type": "display_data"
    },
    {
     "data": {
      "application/vnd.holoviews_exec.v0+json": "",
      "text/html": [
       "<div id='1002'>\n",
       "  <div class=\"bk-root\" id=\"0bcea839-b07b-4b58-a203-813362c1c846\" data-root-id=\"1002\"></div>\n",
       "</div>\n",
       "<script type=\"application/javascript\">(function(root) {\n",
       "  function embed_document(root) {\n",
       "    var docs_json = {\"0f4c3c36-fbad-4266-ae11-4a09c4750e28\":{\"defs\":[{\"extends\":null,\"module\":null,\"name\":\"ReactiveHTML1\",\"overrides\":[],\"properties\":[]},{\"extends\":null,\"module\":null,\"name\":\"FlexBox1\",\"overrides\":[],\"properties\":[{\"default\":\"flex-start\",\"kind\":null,\"name\":\"align_content\"},{\"default\":\"flex-start\",\"kind\":null,\"name\":\"align_items\"},{\"default\":\"row\",\"kind\":null,\"name\":\"flex_direction\"},{\"default\":\"wrap\",\"kind\":null,\"name\":\"flex_wrap\"},{\"default\":\"flex-start\",\"kind\":null,\"name\":\"justify_content\"}]},{\"extends\":null,\"module\":null,\"name\":\"GridStack1\",\"overrides\":[],\"properties\":[{\"default\":\"warn\",\"kind\":null,\"name\":\"mode\"},{\"default\":null,\"kind\":null,\"name\":\"ncols\"},{\"default\":null,\"kind\":null,\"name\":\"nrows\"},{\"default\":true,\"kind\":null,\"name\":\"allow_resize\"},{\"default\":true,\"kind\":null,\"name\":\"allow_drag\"},{\"default\":[],\"kind\":null,\"name\":\"state\"}]},{\"extends\":null,\"module\":null,\"name\":\"click1\",\"overrides\":[],\"properties\":[{\"default\":\"\",\"kind\":null,\"name\":\"terminal_output\"},{\"default\":\"\",\"kind\":null,\"name\":\"debug_name\"},{\"default\":0,\"kind\":null,\"name\":\"clears\"}]},{\"extends\":null,\"module\":null,\"name\":\"NotificationAreaBase1\",\"overrides\":[],\"properties\":[{\"default\":\"bottom-right\",\"kind\":null,\"name\":\"position\"},{\"default\":0,\"kind\":null,\"name\":\"_clear\"}]},{\"extends\":null,\"module\":null,\"name\":\"NotificationArea1\",\"overrides\":[],\"properties\":[{\"default\":[],\"kind\":null,\"name\":\"notifications\"},{\"default\":\"bottom-right\",\"kind\":null,\"name\":\"position\"},{\"default\":0,\"kind\":null,\"name\":\"_clear\"},{\"default\":[{\"background\":\"#ffc107\",\"icon\":{\"className\":\"fas fa-exclamation-triangle\",\"color\":\"white\",\"tagName\":\"i\"},\"type\":\"warning\"},{\"background\":\"#007bff\",\"icon\":{\"className\":\"fas fa-info-circle\",\"color\":\"white\",\"tagName\":\"i\"},\"type\":\"info\"}],\"kind\":null,\"name\":\"types\"}]},{\"extends\":null,\"module\":null,\"name\":\"Notification\",\"overrides\":[],\"properties\":[{\"default\":null,\"kind\":null,\"name\":\"background\"},{\"default\":3000,\"kind\":null,\"name\":\"duration\"},{\"default\":null,\"kind\":null,\"name\":\"icon\"},{\"default\":\"\",\"kind\":null,\"name\":\"message\"},{\"default\":null,\"kind\":null,\"name\":\"notification_type\"},{\"default\":false,\"kind\":null,\"name\":\"_destroyed\"}]},{\"extends\":null,\"module\":null,\"name\":\"TemplateActions1\",\"overrides\":[],\"properties\":[{\"default\":0,\"kind\":null,\"name\":\"open_modal\"},{\"default\":0,\"kind\":null,\"name\":\"close_modal\"}]},{\"extends\":null,\"module\":null,\"name\":\"MaterialTemplateActions1\",\"overrides\":[],\"properties\":[{\"default\":0,\"kind\":null,\"name\":\"open_modal\"},{\"default\":0,\"kind\":null,\"name\":\"close_modal\"}]}],\"roots\":{\"references\":[{\"attributes\":{\"client_comm_id\":\"2e21b467b8fa4090b3bc42d0c45deb11\",\"comm_id\":\"7a38f9b90fa741568a3077cf0ddab587\",\"plot_id\":\"1002\"},\"id\":\"1003\",\"type\":\"panel.models.comm_manager.CommManager\"},{\"attributes\":{\"reload\":false},\"id\":\"1004\",\"type\":\"panel.models.location.Location\"},{\"attributes\":{\"height\":720,\"margin\":[5,5,5,5],\"name\":\"Matplotlib00103\",\"text\":\"&lt;img src=&quot;data:image/png;base64,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&quot; width=&quot;1152px&quot; height=&quot;720px&quot; alt=&quot;&quot;&gt;&lt;/img&gt;\",\"width\":1152},\"id\":\"1002\",\"type\":\"panel.models.markup.HTML\"}],\"root_ids\":[\"1002\",\"1003\",\"1004\"]},\"title\":\"Bokeh Application\",\"version\":\"2.4.3\"}};\n",
       "    var render_items = [{\"docid\":\"0f4c3c36-fbad-4266-ae11-4a09c4750e28\",\"root_ids\":[\"1002\"],\"roots\":{\"1002\":\"0bcea839-b07b-4b58-a203-813362c1c846\"}}];\n",
       "    root.Bokeh.embed.embed_items_notebook(docs_json, render_items);\n",
       "  }\n",
       "  if (root.Bokeh !== undefined && root.Bokeh.Panel !== undefined) {\n",
       "    embed_document(root);\n",
       "  } else {\n",
       "    var attempts = 0;\n",
       "    var timer = setInterval(function(root) {\n",
       "      if (root.Bokeh !== undefined && root.Bokeh.Panel !== undefined) {\n",
       "        clearInterval(timer);\n",
       "        embed_document(root);\n",
       "      } else if (document.readyState == \"complete\") {\n",
       "        attempts++;\n",
       "        if (attempts > 200) {\n",
       "          clearInterval(timer);\n",
       "          console.log(\"Bokeh: ERROR: Unable to run BokehJS code because BokehJS library is missing\");\n",
       "        }\n",
       "      }\n",
       "    }, 25, root)\n",
       "  }\n",
       "})(window);</script>"
      ],
      "text/plain": [
       "Matplotlib(Figure)"
      ]
     },
     "execution_count": 20,
     "metadata": {
      "application/vnd.holoviews_exec.v0+json": {
       "id": "1002"
      }
     },
     "output_type": "execute_result"
    }
   ],
   "source": [
    "#panel plot \n",
    "fig = Figure(figsize=(8,5))\n",
    "ax = fig.subplots(1,1)\n",
    "sns.boxplot(data=plot_data, x=\"data_records_impacted\", y=\"source\", orient=\"h\", ax=ax)\n",
    "ax.set_xlabel(\"data records impacted\")\n",
    "mpl_boxplot_pane = pn.pane.Matplotlib(fig)\n",
    "mpl_boxplot_pane"
   ]
  },
  {
   "cell_type": "code",
   "execution_count": 15,
   "metadata": {},
   "outputs": [
    {
     "data": {
      "text/plain": [
       "Text(0, 0.5, 'probability')"
      ]
     },
     "execution_count": 15,
     "metadata": {},
     "output_type": "execute_result"
    },
    {
     "data": {
      "image/png": "[encoded data removed]",
      "text/plain": [
       "<Figure size 576x360 with 1 Axes>"
      ]
     },
     "metadata": {
      "needs_background": "light"
     },
     "output_type": "display_data"
    }
   ],
   "source": [
    "fig, ax = plt.subplots(1, 1, figsize=(8, 5))\n",
    "sns.ecdfplot(\n",
    "    data=plot_data, x=\"data_records_impacted\", hue=\"source\", stat=\"proportion\", ax=ax\n",
    ")\n",
    "ax.xaxis.set_major_formatter(mpl.ticker.StrMethodFormatter(\"{x:,.0f}\"))\n",
    "ax.set_xlabel(\"data records impacted\")\n",
    "ax.set_ylabel(\"probability\")"
   ]
  },
  {
   "cell_type": "markdown",
   "metadata": {},
   "source": [
    "### Rescale data records impacted in the model to fit the distribution of that in events\n",
    "- If we assume the `number_of_data_records` given in the model is correct, the difference in distribution of the `data_records_impacted` is likely driven by the scaling factor `data_scale` applied in the model.\n",
    "- The analysis below attempts to rescale the `data_records_impacted` in the model data to match that in the events data.\n",
    "- By rescaling the `data_records_impacted` in the model data, we can calculate a new data scale factor, `data_scale_corrected`.\n",
    "- We can attempt to try and identify the underlying distribution for the new field `data_scale_corrected`"
   ]
  },
  {
   "cell_type": "code",
   "execution_count": 16,
   "metadata": {},
   "outputs": [],
   "source": [
    "events_data[\"data_records_impacted_quartile\"] = pd.cut(\n",
    "    events_data[\"data_records_impacted\"], bins=100, labels=False\n",
    ")\n",
    "events_quartiles = (\n",
    "    events_data.groupby(\"data_records_impacted_quartile\", as_index=False)\n",
    "    .agg(median_event_quartile_value=(\"data_records_impacted\", \"median\"))\n",
    "    .drop(columns=\"data_records_impacted_quartile\")\n",
    "    .reset_index()\n",
    "    .rename(columns={\"index\": \"data_records_impacted_quartile\"})\n",
    ")\n",
    "model_data[\"data_records_impacted_quartile\"] = pd.cut(\n",
    "    model_data[\"data_records_impacted\"], bins=events_quartiles.shape[0], labels=False\n",
    ")\n",
    "joined_model_event_quartiles = model_data.merge(\n",
    "    events_quartiles,\n",
    "    how=\"left\",\n",
    "    left_on=\"data_records_impacted_quartile\",\n",
    "    right_on=\"data_records_impacted_quartile\",\n",
    ")\n",
    "#create a new column that describes the new scaling factor\n",
    "joined_model_event_quartiles[\"data_scale_corrected\"] = (\n",
    "    joined_model_event_quartiles[\"median_event_quartile_value\"]\n",
    "    / joined_model_event_quartiles[\"number_of_data_records\"]\n",
    ")"
   ]
  },
  {
   "cell_type": "code",
   "execution_count": 17,
   "metadata": {},
   "outputs": [],
   "source": [
    "plot_data = pd.concat(\n",
    "    [\n",
    "        events_data[[\"data_records_impacted\", \"source\"]],\n",
    "        joined_model_event_quartiles[[\"median_event_quartile_value\", \"source\"]].rename(\n",
    "            columns={\"median_event_quartile_value\": \"data_records_impacted\"}\n",
    "        ),\n",
    "    ],\n",
    "    ignore_index=True,\n",
    ")"
   ]
  },
  {
   "cell_type": "markdown",
   "metadata": {},
   "source": [
    "### Plots after percentile normalization"
   ]
  },
  {
   "cell_type": "code",
   "execution_count": 18,
   "metadata": {},
   "outputs": [
    {
     "data": {
      "text/plain": [
       "Text(0.5, 0, 'data records impacted')"
      ]
     },
     "execution_count": 18,
     "metadata": {},
     "output_type": "execute_result"
    },
    {
     "data": {
      "image/png": "[encoded data removed]",
      "text/plain": [
       "<Figure size 576x360 with 1 Axes>"
      ]
     },
     "metadata": {
      "needs_background": "light"
     },
     "output_type": "display_data"
    }
   ],
   "source": [
    "# plot data\n",
    "fig, ax = plt.subplots(1, 1, figsize=(8, 5))\n",
    "sns.boxplot(data=plot_data, x=\"data_records_impacted\", y=\"source\", orient=\"h\", ax=ax)\n",
    "ax.set_xlabel(\"data records impacted\")"
   ]
  },
  {
   "cell_type": "code",
   "execution_count": 19,
   "metadata": {},
   "outputs": [
    {
     "data": {
      "image/png": "[encoded data removed]",
      "text/plain": [
       "<Figure size 864x720 with 1 Axes>"
      ]
     },
     "metadata": {
      "needs_background": "light"
     },
     "output_type": "display_data"
    }
   ],
   "source": [
    "fig, ax = plt.subplots(1, 1, figsize=(12, 10))\n",
    "sns.histplot(\n",
    "    data=plot_data,\n",
    "    x=\"data_records_impacted\",\n",
    "    hue=\"source\",\n",
    "    stat=\"probability\",\n",
    "    alpha=0.2,\n",
    "    common_norm=False,\n",
    "    ax=ax,\n",
    ")\n",
    "ax.set_xlabel(\"data records impacted\")\n",
    "ax.xaxis.set_major_formatter(mpl.ticker.StrMethodFormatter(\"{x:,.0f}\"))"
   ]
  },
  {
   "cell_type": "code",
   "execution_count": 20,
   "metadata": {},
   "outputs": [
    {
     "data": {
      "text/plain": [
       "Text(0, 0.5, 'probability')"
      ]
     },
     "execution_count": 20,
     "metadata": {},
     "output_type": "execute_result"
    },
    {
     "data": {
      "image/png": "[encoded data removed]",
      "text/plain": [
       "<Figure size 576x360 with 1 Axes>"
      ]
     },
     "metadata": {
      "needs_background": "light"
     },
     "output_type": "display_data"
    }
   ],
   "source": [
    "fig, ax = plt.subplots(1, 1, figsize=(8, 5))\n",
    "sns.ecdfplot(\n",
    "    data=plot_data, x=\"data_records_impacted\", hue=\"source\", stat=\"proportion\", ax=ax\n",
    ")\n",
    "ax.xaxis.set_major_formatter(mpl.ticker.StrMethodFormatter(\"{x:,.0f}\"))\n",
    "ax.set_xlabel(\"data records impacted\")\n",
    "ax.set_ylabel(\"probability\")"
   ]
  },
  {
   "cell_type": "markdown",
   "metadata": {},
   "source": [
    "### Plot of the data-scale parameter using values before normalization and after normalization"
   ]
  },
  {
   "cell_type": "code",
   "execution_count": 21,
   "metadata": {},
   "outputs": [
    {
     "data": {
      "text/plain": [
       "Text(0, 0.5, 'probability')"
      ]
     },
     "execution_count": 21,
     "metadata": {},
     "output_type": "execute_result"
    },
    {
     "data": {
      "image/png": "[encoded data removed]",
      "text/plain": [
       "<Figure size 576x360 with 1 Axes>"
      ]
     },
     "metadata": {
      "needs_background": "light"
     },
     "output_type": "display_data"
    }
   ],
   "source": [
    "# plot data scale distributions\n",
    "plot_data = joined_model_event_quartiles[[\"data_scale\", \"data_scale_corrected\"]].melt(value_vars=['data_scale','data_scale_corrected'])\n",
    "fig, ax = plt.subplots(1, 1, figsize=(8, 5))\n",
    "sns.ecdfplot(\n",
    "    data=plot_data, x=\"value\", hue=\"variable\", stat=\"proportion\", ax=ax\n",
    ")\n",
    "ax.set_xlabel(\"data scale\")\n",
    "ax.set_ylabel(\"probability\")"
   ]
  },
  {
   "cell_type": "markdown",
   "metadata": {},
   "source": [
    "### Identify the corresponding distributions and parameter values for data_scale and data_scale_corrected "
   ]
  },
  {
   "cell_type": "code",
   "execution_count": 22,
   "metadata": {},
   "outputs": [],
   "source": [
    "df_filtered = joined_model_event_quartiles[\n",
    "    (joined_model_event_quartiles[\"data_scale\"].notnull())\n",
    "    & (joined_model_event_quartiles[\"data_scale_corrected\"].notnull())\n",
    "]\n",
    "results_data_scale = dist_chi_square_fit_tests(\n",
    "    df=df_filtered,\n",
    "    column=\"data_scale\",\n",
    "    distribution_names=[\n",
    "        \"weibull_min\",\n",
    "        \"norm\",\n",
    "        \"f\",\n",
    "        \"beta\",\n",
    "        \"invgauss\",\n",
    "        \"chi2\",\n",
    "        \"gamma\",\n",
    "        \"expon\",\n",
    "        \"lognorm\",\n",
    "        \"pearson3\",\n",
    "        \"triang\",\n",
    "    ],\n",
    ")"
   ]
  },
  {
   "cell_type": "code",
   "execution_count": 23,
   "metadata": {},
   "outputs": [
    {
     "data": {
      "text/html": [
       "<div>\n",
       "<style scoped>\n",
       "    .dataframe tbody tr th:only-of-type {\n",
       "        vertical-align: middle;\n",
       "    }\n",
       "\n",
       "    .dataframe tbody tr th {\n",
       "        vertical-align: top;\n",
       "    }\n",
       "\n",
       "    .dataframe thead th {\n",
       "        text-align: right;\n",
       "    }\n",
       "</style>\n",
       "<table border=\"1\" class=\"dataframe\">\n",
       "  <thead>\n",
       "    <tr style=\"text-align: right;\">\n",
       "      <th></th>\n",
       "      <th>distribution</th>\n",
       "      <th>chi_square</th>\n",
       "      <th>parameters</th>\n",
       "    </tr>\n",
       "  </thead>\n",
       "  <tbody>\n",
       "    <tr>\n",
       "      <th>3</th>\n",
       "      <td>beta</td>\n",
       "      <td>314.16</td>\n",
       "      <td>(3.4002249673591507, 4.438677419075384, -0.027051514288964594, 0.9869278726618165)</td>\n",
       "    </tr>\n",
       "    <tr>\n",
       "      <th>0</th>\n",
       "      <td>weibull_min</td>\n",
       "      <td>4,428.54</td>\n",
       "      <td>(2.8290788170889454, -0.025522136883380606, 0.47909567939894815)</td>\n",
       "    </tr>\n",
       "    <tr>\n",
       "      <th>5</th>\n",
       "      <td>chi2</td>\n",
       "      <td>18,174.04</td>\n",
       "      <td>(43.416843135486985, -0.3849324180475442, 0.01808480647172768)</td>\n",
       "    </tr>\n",
       "    <tr>\n",
       "      <th>4</th>\n",
       "      <td>invgauss</td>\n",
       "      <td>24,527.60</td>\n",
       "      <td>(0.020515693120484152, -0.7671872840998637, 56.860576002976636)</td>\n",
       "    </tr>\n",
       "    <tr>\n",
       "      <th>6</th>\n",
       "      <td>gamma</td>\n",
       "      <td>27,569.84</td>\n",
       "      <td>(57.464292521512164, -0.8473425690317415, 0.021723446294886026)</td>\n",
       "    </tr>\n",
       "    <tr>\n",
       "      <th>9</th>\n",
       "      <td>pearson3</td>\n",
       "      <td>27,821.24</td>\n",
       "      <td>(0.2662380162748146, 0.40105789948888626, 0.16468424733096065)</td>\n",
       "    </tr>\n",
       "    <tr>\n",
       "      <th>8</th>\n",
       "      <td>lognorm</td>\n",
       "      <td>30,730.58</td>\n",
       "      <td>(0.07990129816085081, -1.655190553537592, 2.0497003065120145)</td>\n",
       "    </tr>\n",
       "    <tr>\n",
       "      <th>2</th>\n",
       "      <td>f</td>\n",
       "      <td>31,502.22</td>\n",
       "      <td>(242.20343797920214, 1056.2186849896561, -1.2315661179411141, 1.6299115508181021)</td>\n",
       "    </tr>\n",
       "    <tr>\n",
       "      <th>10</th>\n",
       "      <td>triang</td>\n",
       "      <td>61,499.82</td>\n",
       "      <td>(0.36497562586836063, 0.00914782963396607, 0.8922572698760276)</td>\n",
       "    </tr>\n",
       "    <tr>\n",
       "      <th>1</th>\n",
       "      <td>norm</td>\n",
       "      <td>63,544.08</td>\n",
       "      <td>(0.4010586540051277, 0.16430751260853252)</td>\n",
       "    </tr>\n",
       "    <tr>\n",
       "      <th>7</th>\n",
       "      <td>expon</td>\n",
       "      <td>9,729,976.36</td>\n",
       "      <td>(0.011, 0.3900586540051277)</td>\n",
       "    </tr>\n",
       "  </tbody>\n",
       "</table>\n",
       "</div>"
      ],
      "text/plain": [
       "   distribution   chi_square  \\\n",
       "3   beta        314.16         \n",
       "0   weibull_min 4,428.54       \n",
       "5   chi2        18,174.04      \n",
       "4   invgauss    24,527.60      \n",
       "6   gamma       27,569.84      \n",
       "9   pearson3    27,821.24      \n",
       "8   lognorm     30,730.58      \n",
       "2   f           31,502.22      \n",
       "10  triang      61,499.82      \n",
       "1   norm        63,544.08      \n",
       "7   expon       9,729,976.36   \n",
       "\n",
       "                                                                            parameters  \n",
       "3   (3.4002249673591507, 4.438677419075384, -0.027051514288964594, 0.9869278726618165)  \n",
       "0   (2.8290788170889454, -0.025522136883380606, 0.47909567939894815)                    \n",
       "5   (43.416843135486985, -0.3849324180475442, 0.01808480647172768)                      \n",
       "4   (0.020515693120484152, -0.7671872840998637, 56.860576002976636)                     \n",
       "6   (57.464292521512164, -0.8473425690317415, 0.021723446294886026)                     \n",
       "9   (0.2662380162748146, 0.40105789948888626, 0.16468424733096065)                      \n",
       "8   (0.07990129816085081, -1.655190553537592, 2.0497003065120145)                       \n",
       "2   (242.20343797920214, 1056.2186849896561, -1.2315661179411141, 1.6299115508181021)   \n",
       "10  (0.36497562586836063, 0.00914782963396607, 0.8922572698760276)                      \n",
       "1   (0.4010586540051277, 0.16430751260853252)                                           \n",
       "7   (0.011, 0.3900586540051277)                                                         "
      ]
     },
     "execution_count": 23,
     "metadata": {},
     "output_type": "execute_result"
    }
   ],
   "source": [
    "results_data_scale"
   ]
  },
  {
   "cell_type": "code",
   "execution_count": 24,
   "metadata": {},
   "outputs": [],
   "source": [
    "ks_test_data_scale = ks_goodness_of_fit(\n",
    "    df=df_filtered,\n",
    "    column=\"data_scale\",\n",
    "    distribution_names=[\n",
    "        \"beta\",\n",
    "        \"weibull_min\",\n",
    "        \"chi2\"\n",
    "    ],\n",
    ")"
   ]
  },
  {
   "cell_type": "code",
   "execution_count": 25,
   "metadata": {},
   "outputs": [
    {
     "data": {
      "text/html": [
       "<div>\n",
       "<style scoped>\n",
       "    .dataframe tbody tr th:only-of-type {\n",
       "        vertical-align: middle;\n",
       "    }\n",
       "\n",
       "    .dataframe tbody tr th {\n",
       "        vertical-align: top;\n",
       "    }\n",
       "\n",
       "    .dataframe thead th {\n",
       "        text-align: right;\n",
       "    }\n",
       "</style>\n",
       "<table border=\"1\" class=\"dataframe\">\n",
       "  <thead>\n",
       "    <tr style=\"text-align: right;\">\n",
       "      <th></th>\n",
       "      <th>distribution</th>\n",
       "      <th>ks_statistic</th>\n",
       "      <th>p_value</th>\n",
       "      <th>parameters</th>\n",
       "    </tr>\n",
       "  </thead>\n",
       "  <tbody>\n",
       "    <tr>\n",
       "      <th>0</th>\n",
       "      <td>beta</td>\n",
       "      <td>0.00</td>\n",
       "      <td>0.00</td>\n",
       "      <td>(3.4002249673591507, 4.438677419075384, -0.027051514288964594, 0.9869278726618165)</td>\n",
       "    </tr>\n",
       "    <tr>\n",
       "      <th>1</th>\n",
       "      <td>weibull_min</td>\n",
       "      <td>0.01</td>\n",
       "      <td>0.00</td>\n",
       "      <td>(2.8290788170889454, -0.025522136883380606, 0.47909567939894815)</td>\n",
       "    </tr>\n",
       "    <tr>\n",
       "      <th>2</th>\n",
       "      <td>chi2</td>\n",
       "      <td>0.02</td>\n",
       "      <td>0.00</td>\n",
       "      <td>(43.416843135486985, -0.3849324180475442, 0.01808480647172768)</td>\n",
       "    </tr>\n",
       "  </tbody>\n",
       "</table>\n",
       "</div>"
      ],
      "text/plain": [
       "  distribution  ks_statistic  p_value  \\\n",
       "0  beta        0.00          0.00       \n",
       "1  weibull_min 0.01          0.00       \n",
       "2  chi2        0.02          0.00       \n",
       "\n",
       "                                                                           parameters  \n",
       "0  (3.4002249673591507, 4.438677419075384, -0.027051514288964594, 0.9869278726618165)  \n",
       "1  (2.8290788170889454, -0.025522136883380606, 0.47909567939894815)                    \n",
       "2  (43.416843135486985, -0.3849324180475442, 0.01808480647172768)                      "
      ]
     },
     "execution_count": 25,
     "metadata": {},
     "output_type": "execute_result"
    }
   ],
   "source": [
    "ks_test_data_scale"
   ]
  },
  {
   "cell_type": "code",
   "execution_count": 26,
   "metadata": {},
   "outputs": [],
   "source": [
    "results_data_scale_corrected = dist_chi_square_fit_tests(\n",
    "    df=df_filtered,\n",
    "    column=\"data_scale_corrected\",\n",
    "    distribution_names=[\n",
    "        \"weibull_min\",\n",
    "        \"norm\",\n",
    "        \"f\",\n",
    "        \"beta\",\n",
    "        \"invgauss\",\n",
    "        \"chi2\",\n",
    "        \"gamma\",\n",
    "        \"expon\",\n",
    "        \"lognorm\",\n",
    "        \"pearson3\",\n",
    "        \"triang\",\n",
    "    ],\n",
    ")"
   ]
  },
  {
   "cell_type": "code",
   "execution_count": 27,
   "metadata": {},
   "outputs": [
    {
     "data": {
      "text/html": [
       "<div>\n",
       "<style scoped>\n",
       "    .dataframe tbody tr th:only-of-type {\n",
       "        vertical-align: middle;\n",
       "    }\n",
       "\n",
       "    .dataframe tbody tr th {\n",
       "        vertical-align: top;\n",
       "    }\n",
       "\n",
       "    .dataframe thead th {\n",
       "        text-align: right;\n",
       "    }\n",
       "</style>\n",
       "<table border=\"1\" class=\"dataframe\">\n",
       "  <thead>\n",
       "    <tr style=\"text-align: right;\">\n",
       "      <th></th>\n",
       "      <th>distribution</th>\n",
       "      <th>chi_square</th>\n",
       "      <th>parameters</th>\n",
       "    </tr>\n",
       "  </thead>\n",
       "  <tbody>\n",
       "    <tr>\n",
       "      <th>4</th>\n",
       "      <td>invgauss</td>\n",
       "      <td>118,969.45</td>\n",
       "      <td>(94691.1542720843, -1.0531019438079875e-09, 5.3821730099249276e-08)</td>\n",
       "    </tr>\n",
       "    <tr>\n",
       "      <th>2</th>\n",
       "      <td>f</td>\n",
       "      <td>2,950,986.07</td>\n",
       "      <td>(0.8993996344809873, 1.034866566647469, 8.62853096657929e-10, 1.3667187929326663e-07)</td>\n",
       "    </tr>\n",
       "    <tr>\n",
       "      <th>8</th>\n",
       "      <td>lognorm</td>\n",
       "      <td>6,343,565.47</td>\n",
       "      <td>(3.449478216201662, -7.741886663235977e-09, 5.331605930678977e-07)</td>\n",
       "    </tr>\n",
       "    <tr>\n",
       "      <th>6</th>\n",
       "      <td>gamma</td>\n",
       "      <td>7,576,517.09</td>\n",
       "      <td>(0.08826542610138188, 8.628530966574914e-10, 0.059994185808993815)</td>\n",
       "    </tr>\n",
       "    <tr>\n",
       "      <th>3</th>\n",
       "      <td>beta</td>\n",
       "      <td>7,639,436.19</td>\n",
       "      <td>(0.08858964447890293, 479.8725101255146, 8.628320795905737e-10, 27.622404814616047)</td>\n",
       "    </tr>\n",
       "    <tr>\n",
       "      <th>5</th>\n",
       "      <td>chi2</td>\n",
       "      <td>7,689,328.68</td>\n",
       "      <td>(0.1777334368618717, 8.62853096657929e-10, 0.02819115933011035)</td>\n",
       "    </tr>\n",
       "    <tr>\n",
       "      <th>0</th>\n",
       "      <td>weibull_min</td>\n",
       "      <td>9,106,213.64</td>\n",
       "      <td>(0.12621939089360606, 8.62853096657929e-10, 0.01048809488924178)</td>\n",
       "    </tr>\n",
       "    <tr>\n",
       "      <th>9</th>\n",
       "      <td>pearson3</td>\n",
       "      <td>21,618,891.30</td>\n",
       "      <td>(2.5952793969515504, 0.002738113143805841, 0.003553083289859149)</td>\n",
       "    </tr>\n",
       "    <tr>\n",
       "      <th>7</th>\n",
       "      <td>expon</td>\n",
       "      <td>21,824,035.23</td>\n",
       "      <td>(8.628530966579291e-10, 0.005096520850369713)</td>\n",
       "    </tr>\n",
       "    <tr>\n",
       "      <th>1</th>\n",
       "      <td>norm</td>\n",
       "      <td>22,889,411.79</td>\n",
       "      <td>(0.0050965217132228095, 0.014282063024055252)</td>\n",
       "    </tr>\n",
       "    <tr>\n",
       "      <th>10</th>\n",
       "      <td>triang</td>\n",
       "      <td>25,395,160.80</td>\n",
       "      <td>(0.1383855889500517, -0.04420880055007963, 0.31946119810395845)</td>\n",
       "    </tr>\n",
       "  </tbody>\n",
       "</table>\n",
       "</div>"
      ],
      "text/plain": [
       "   distribution    chi_square  \\\n",
       "4   invgauss    118,969.45      \n",
       "2   f           2,950,986.07    \n",
       "8   lognorm     6,343,565.47    \n",
       "6   gamma       7,576,517.09    \n",
       "3   beta        7,639,436.19    \n",
       "5   chi2        7,689,328.68    \n",
       "0   weibull_min 9,106,213.64    \n",
       "9   pearson3    21,618,891.30   \n",
       "7   expon       21,824,035.23   \n",
       "1   norm        22,889,411.79   \n",
       "10  triang      25,395,160.80   \n",
       "\n",
       "                                                                               parameters  \n",
       "4   (94691.1542720843, -1.0531019438079875e-09, 5.3821730099249276e-08)                    \n",
       "2   (0.8993996344809873, 1.034866566647469, 8.62853096657929e-10, 1.3667187929326663e-07)  \n",
       "8   (3.449478216201662, -7.741886663235977e-09, 5.331605930678977e-07)                     \n",
       "6   (0.08826542610138188, 8.628530966574914e-10, 0.059994185808993815)                     \n",
       "3   (0.08858964447890293, 479.8725101255146, 8.628320795905737e-10, 27.622404814616047)    \n",
       "5   (0.1777334368618717, 8.62853096657929e-10, 0.02819115933011035)                        \n",
       "0   (0.12621939089360606, 8.62853096657929e-10, 0.01048809488924178)                       \n",
       "9   (2.5952793969515504, 0.002738113143805841, 0.003553083289859149)                       \n",
       "7   (8.628530966579291e-10, 0.005096520850369713)                                          \n",
       "1   (0.0050965217132228095, 0.014282063024055252)                                          \n",
       "10  (0.1383855889500517, -0.04420880055007963, 0.31946119810395845)                        "
      ]
     },
     "execution_count": 27,
     "metadata": {},
     "output_type": "execute_result"
    }
   ],
   "source": [
    "results_data_scale_corrected"
   ]
  },
  {
   "cell_type": "code",
   "execution_count": 28,
   "metadata": {},
   "outputs": [],
   "source": [
    "ks_test_data_scale_corrected = ks_goodness_of_fit(\n",
    "    df=df_filtered,\n",
    "    column=\"data_scale_corrected\",\n",
    "    distribution_names=[\n",
    "        \"beta\",\n",
    "        \"weibull_min\",\n",
    "        \"chi2\"\n",
    "    ],\n",
    ")"
   ]
  },
  {
   "cell_type": "code",
   "execution_count": 29,
   "metadata": {},
   "outputs": [
    {
     "data": {
      "text/html": [
       "<div>\n",
       "<style scoped>\n",
       "    .dataframe tbody tr th:only-of-type {\n",
       "        vertical-align: middle;\n",
       "    }\n",
       "\n",
       "    .dataframe tbody tr th {\n",
       "        vertical-align: top;\n",
       "    }\n",
       "\n",
       "    .dataframe thead th {\n",
       "        text-align: right;\n",
       "    }\n",
       "</style>\n",
       "<table border=\"1\" class=\"dataframe\">\n",
       "  <thead>\n",
       "    <tr style=\"text-align: right;\">\n",
       "      <th></th>\n",
       "      <th>distribution</th>\n",
       "      <th>ks_statistic</th>\n",
       "      <th>p_value</th>\n",
       "      <th>parameters</th>\n",
       "    </tr>\n",
       "  </thead>\n",
       "  <tbody>\n",
       "    <tr>\n",
       "      <th>0</th>\n",
       "      <td>beta</td>\n",
       "      <td>0.47</td>\n",
       "      <td>0.00</td>\n",
       "      <td>(0.08858964447890293, 479.8725101255146, 8.628320795905737e-10, 27.622404814616047)</td>\n",
       "    </tr>\n",
       "    <tr>\n",
       "      <th>1</th>\n",
       "      <td>weibull_min</td>\n",
       "      <td>0.59</td>\n",
       "      <td>0.00</td>\n",
       "      <td>(0.12621939089360606, 8.62853096657929e-10, 0.01048809488924178)</td>\n",
       "    </tr>\n",
       "    <tr>\n",
       "      <th>2</th>\n",
       "      <td>chi2</td>\n",
       "      <td>0.47</td>\n",
       "      <td>0.00</td>\n",
       "      <td>(0.1777334368618717, 8.62853096657929e-10, 0.02819115933011035)</td>\n",
       "    </tr>\n",
       "  </tbody>\n",
       "</table>\n",
       "</div>"
      ],
      "text/plain": [
       "  distribution  ks_statistic  p_value  \\\n",
       "0  beta        0.47          0.00       \n",
       "1  weibull_min 0.59          0.00       \n",
       "2  chi2        0.47          0.00       \n",
       "\n",
       "                                                                            parameters  \n",
       "0  (0.08858964447890293, 479.8725101255146, 8.628320795905737e-10, 27.622404814616047)  \n",
       "1  (0.12621939089360606, 8.62853096657929e-10, 0.01048809488924178)                     \n",
       "2  (0.1777334368618717, 8.62853096657929e-10, 0.02819115933011035)                      "
      ]
     },
     "execution_count": 29,
     "metadata": {},
     "output_type": "execute_result"
    }
   ],
   "source": [
    "ks_test_data_scale_corrected"
   ]
  },
  {
   "cell_type": "markdown",
   "metadata": {},
   "source": [
    "### Identifying the differences in compromised data types between the events and model data"
   ]
  },
  {
   "cell_type": "code",
   "execution_count": 30,
   "metadata": {},
   "outputs": [],
   "source": [
    "#group data records impacted to match the definition in df_model\n",
    "data_type_map = {\"'Business_Interruption'\":'OTHER', \"'Corporate_Digital_Assets'\":'OTHER', \"'Corporate_Financial_Assets'\":'OTHER', \"'Unknown'\":'OTHER', 'None': 'OTHER', \"'PFI'\":'PCI', \"'PHI'\":'PHI',\"'PII'\":'PII'}\n",
    "df_modified_events['mapped_compromised_data_types'] = df_modified_events['compromised_data_types'].map(data_type_map)"
   ]
  },
  {
   "cell_type": "code",
   "execution_count": 31,
   "metadata": {},
   "outputs": [],
   "source": [
    "#calculate the number of data records impacted by type - assumes data records in model will be impacted based on data type split\n",
    "data_types = ['PCI','PHI','PII','OTHER']\n",
    "columns = ['data_split_pci','data_split_phi','data_split_pii','data_split_other']\n",
    "for data_type,column in zip(data_types,columns):\n",
    "    df_model[f'{data_type}'] = df_model['data_records_impacted'] * df_model[column]"
   ]
  },
  {
   "cell_type": "code",
   "execution_count": 32,
   "metadata": {},
   "outputs": [],
   "source": [
    "#data to be plotted\n",
    "data_types = ['PCI','PHI', 'PII', 'OTHER']\n",
    "compromised_events = df_modified_events[['data_records_impacted','mapped_compromised_data_types','source']].rename(columns={'mapped_compromised_data_types':'compromised_data_types'})\n",
    "compromised_model = df_model[['PCI','PHI', 'PII', 'OTHER','source']].melt(id_vars='source',value_vars=data_types,var_name='compromised_data_types',value_name='data_records_impacted')\n",
    "plot_data = pd.concat([compromised_events, compromised_model], ignore_index=True)"
   ]
  },
  {
   "cell_type": "code",
   "execution_count": 33,
   "metadata": {},
   "outputs": [
    {
     "data": {
      "image/png": "[encoded data removed]",
      "text/plain": [
       "<Figure size 1440x576 with 4 Axes>"
      ]
     },
     "metadata": {
      "needs_background": "light"
     },
     "output_type": "display_data"
    }
   ],
   "source": [
    "#comparison of distribution of compromised data types between events and model\n",
    "data_types = ['PCI','PHI','PII','OTHER']\n",
    "fig, ax = plt.subplots(1, 4, figsize=(20, 8), sharey = True)\n",
    "for i, data_type in enumerate(data_types):\n",
    "    subset_plot_data = plot_data[plot_data['compromised_data_types']==data_type]\n",
    "    plot = sns.boxplot(data=subset_plot_data, x=\"data_records_impacted\", y=\"source\", orient=\"h\", ax=ax[i])\n",
    "    plot.set(ylabel=None)\n",
    "    ax[i].set_xlabel(f\"{data_type} data records impacted\")"
   ]
  },
  {
   "cell_type": "code",
   "execution_count": 34,
   "metadata": {},
   "outputs": [
    {
     "data": {
      "image/png": "[encoded data removed]",
      "text/plain": [
       "<Figure size 1440x576 with 4 Axes>"
      ]
     },
     "metadata": {
      "needs_background": "light"
     },
     "output_type": "display_data"
    }
   ],
   "source": [
    "#comparison of distribution of compromised data types between events and model\n",
    "data_types = ['PCI','PHI','PII','OTHER']\n",
    "fig, ax = plt.subplots(1, 4, figsize=(20, 8), sharey = True)\n",
    "for i, data_type in enumerate(data_types):\n",
    "    subset_plot_data = plot_data[plot_data['compromised_data_types']==data_type]\n",
    "    plot = sns.kdeplot(data=subset_plot_data,x=\"data_records_impacted\", hue=\"source\",fill=True,alpha=0.2,common_norm=False,ax=ax[i])\n",
    "    ax[i].set_xlabel(f\"{data_type} data records impacted\")"
   ]
  }
 ],
 "metadata": {
  "interpreter": {
   "hash": "a7fdb59529bf9513c90480c893080bc664f77d140d7aa50da3567b9bf13732f6"
  },
  "kernel_info": {
   "name": "python3-azureml"
  },
  "kernelspec": {
   "display_name": "Python 3 (ipykernel)",
   "language": "python",
   "name": "python3"
  },
  "language_info": {
   "codemirror_mode": {
    "name": "ipython",
    "version": 3
   },
   "file_extension": ".py",
   "mimetype": "text/x-python",
   "name": "python",
   "nbconvert_exporter": "python",
   "pygments_lexer": "ipython3",
   "version": "3.10.2"
  },
  "microsoft": {
   "host": {
    "AzureML": {
     "notebookHasBeenCompleted": true
    }
   }
  },
  "nteract": {
   "version": "nteract-front-end@1.0.0"
  }
 },
 "nbformat": 4,
 "nbformat_minor": 4
}
