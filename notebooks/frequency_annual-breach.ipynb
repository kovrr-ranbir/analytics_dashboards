{
 "cells": [
  {
   "cell_type": "markdown",
   "metadata": {
    "nteract": {
     "transient": {
      "deleting": false
     }
    }
   },
   "source": [
    "# Event frequency\n",
    "## Get the data\n"
   ]
  },
  {
   "cell_type": "code",
   "execution_count": 1,
   "metadata": {
    "collapsed": false,
    "gather": {
     "logged": 1653902663750
    },
    "jupyter": {
     "outputs_hidden": false,
     "source_hidden": false
    },
    "nteract": {
     "transient": {
      "deleting": false
     }
    }
   },
   "outputs": [],
   "source": [
    "# builds the connection to azure:\n",
    "%matplotlib inline\n",
    "\n",
    "import os\n",
    "import sys\n",
    "\n",
    "import numpy as np\n",
    "\n",
    "import seaborn as sns\n",
    "\n",
    "# import custom modules:\n",
    "module_path = os.path.dirname(os.path.abspath(''))\n",
    "if module_path not in sys.path:\n",
    "    sys.path.append(module_path)\n",
    "from common.get_data import *\n",
    "\n",
    "#set colour palette for seaborn\n",
    "colors = set_colours()\n",
    "sns.set_palette(sns.color_palette(colors))\n",
    "#get engine for sql queries\n",
    "engine=get_engine()\n"
   ]
  },
  {
   "cell_type": "code",
   "execution_count": 2,
   "metadata": {
    "gather": {
     "logged": 1653902663933
    }
   },
   "outputs": [
    {
     "data": {
      "text/plain": [
       "'v2022.2.3'"
      ]
     },
     "execution_count": 2,
     "metadata": {},
     "output_type": "execute_result"
    }
   ],
   "source": [
    "# get model_version\n",
    "model_version = pd.read_sql_query('''select value from model_metadata where item = 'model_version' ''', engine)\n",
    "model_version = model_version.iloc[0][0]\n",
    "model_version"
   ]
  },
  {
   "cell_type": "markdown",
   "metadata": {
    "nteract": {
     "transient": {
      "deleting": false
     }
    }
   },
   "source": [
    "## Get model data"
   ]
  },
  {
   "cell_type": "code",
   "execution_count": 3,
   "metadata": {
    "collapsed": false,
    "gather": {
     "logged": 1653902696954
    },
    "jupyter": {
     "outputs_hidden": false,
     "source_hidden": false
    },
    "nteract": {
     "transient": {
      "deleting": false
     }
    }
   },
   "outputs": [
    {
     "data": {
      "text/html": [
       "<div>\n",
       "<style scoped>\n",
       "    .dataframe tbody tr th:only-of-type {\n",
       "        vertical-align: middle;\n",
       "    }\n",
       "\n",
       "    .dataframe tbody tr th {\n",
       "        vertical-align: top;\n",
       "    }\n",
       "\n",
       "    .dataframe thead th {\n",
       "        text-align: right;\n",
       "    }\n",
       "</style>\n",
       "<table border=\"1\" class=\"dataframe\">\n",
       "  <thead>\n",
       "    <tr style=\"text-align: right;\">\n",
       "      <th></th>\n",
       "      <th>entity</th>\n",
       "      <th>source</th>\n",
       "      <th>year</th>\n",
       "      <th>confidentiality</th>\n",
       "      <th>integrity</th>\n",
       "      <th>availability</th>\n",
       "      <th>extortion</th>\n",
       "    </tr>\n",
       "  </thead>\n",
       "  <tbody>\n",
       "    <tr>\n",
       "      <th>5694063</th>\n",
       "      <td>modelchangesflow-fortune-0295-v2022.2.3-2022-0...</td>\n",
       "      <td>model</td>\n",
       "      <td>model</td>\n",
       "      <td>1</td>\n",
       "      <td>0</td>\n",
       "      <td>1</td>\n",
       "      <td>0</td>\n",
       "    </tr>\n",
       "    <tr>\n",
       "      <th>5694064</th>\n",
       "      <td>modelchangesflow-fortune-0295-v2022.2.3-2022-0...</td>\n",
       "      <td>model</td>\n",
       "      <td>model</td>\n",
       "      <td>1</td>\n",
       "      <td>0</td>\n",
       "      <td>1</td>\n",
       "      <td>0</td>\n",
       "    </tr>\n",
       "    <tr>\n",
       "      <th>5694065</th>\n",
       "      <td>modelchangesflow-fortune-0295-v2022.2.3-2022-0...</td>\n",
       "      <td>model</td>\n",
       "      <td>model</td>\n",
       "      <td>1</td>\n",
       "      <td>0</td>\n",
       "      <td>1</td>\n",
       "      <td>0</td>\n",
       "    </tr>\n",
       "    <tr>\n",
       "      <th>5694066</th>\n",
       "      <td>modelchangesflow-fortune-0295-v2022.2.3-2022-0...</td>\n",
       "      <td>model</td>\n",
       "      <td>model</td>\n",
       "      <td>1</td>\n",
       "      <td>0</td>\n",
       "      <td>1</td>\n",
       "      <td>0</td>\n",
       "    </tr>\n",
       "    <tr>\n",
       "      <th>5694067</th>\n",
       "      <td>modelchangesflow-fortune-0295-v2022.2.3-2022-0...</td>\n",
       "      <td>model</td>\n",
       "      <td>model</td>\n",
       "      <td>1</td>\n",
       "      <td>0</td>\n",
       "      <td>1</td>\n",
       "      <td>0</td>\n",
       "    </tr>\n",
       "  </tbody>\n",
       "</table>\n",
       "</div>"
      ],
      "text/plain": [
       "                                                    entity source   year  \\\n",
       "5694063  modelchangesflow-fortune-0295-v2022.2.3-2022-0...  model  model   \n",
       "5694064  modelchangesflow-fortune-0295-v2022.2.3-2022-0...  model  model   \n",
       "5694065  modelchangesflow-fortune-0295-v2022.2.3-2022-0...  model  model   \n",
       "5694066  modelchangesflow-fortune-0295-v2022.2.3-2022-0...  model  model   \n",
       "5694067  modelchangesflow-fortune-0295-v2022.2.3-2022-0...  model  model   \n",
       "\n",
       "         confidentiality  integrity  availability  extortion  \n",
       "5694063                1          0             1          0  \n",
       "5694064                1          0             1          0  \n",
       "5694065                1          0             1          0  \n",
       "5694066                1          0             1          0  \n",
       "5694067                1          0             1          0  "
      ]
     },
     "execution_count": 3,
     "metadata": {},
     "output_type": "execute_result"
    }
   ],
   "source": [
    "# get model_data\n",
    "df_model = pd.read_sql_query('''\n",
    "    select\n",
    "        run_id::text as entity,\n",
    "        'model' as source,\n",
    "        'model' as year,\n",
    "        confidentiality,\n",
    "        integrity,\n",
    "        availability,\n",
    "        extortion\n",
    "    from\n",
    "        model_events\n",
    "''', engine)\n",
    "df_model.tail()"
   ]
  },
  {
   "cell_type": "code",
   "execution_count": 4,
   "metadata": {
    "gather": {
     "logged": 1653902697020
    }
   },
   "outputs": [
    {
     "data": {
      "text/plain": [
       "0.569406800000007"
      ]
     },
     "execution_count": 4,
     "metadata": {},
     "output_type": "execute_result"
    }
   ],
   "source": [
    "df_model['frequency'] = 1/10000/1000\n",
    "df_model['frequency'].sum()"
   ]
  },
  {
   "cell_type": "markdown",
   "metadata": {
    "nteract": {
     "transient": {
      "deleting": false
     }
    }
   },
   "source": [
    "## Get Events data\n"
   ]
  },
  {
   "cell_type": "code",
   "execution_count": 5,
   "metadata": {
    "collapsed": false,
    "gather": {
     "logged": 1653902697223
    },
    "jupyter": {
     "outputs_hidden": false,
     "source_hidden": false
    },
    "nteract": {
     "transient": {
      "deleting": false
     }
    }
   },
   "outputs": [],
   "source": [
    "event_cols = [\n",
    "    'event_id',  \n",
    "    'event_start_date',\n",
    "    'impact_type_availability',\n",
    "    'impact_type_confidentiality',\n",
    "    'impact_type_extortion', \n",
    "    'impact_type_integrity',]\n",
    "df_events = read_f1k_table()[event_cols]\n",
    "\n",
    "df_events.rename({\n",
    "    'event_id':'',  \n",
    "    'impact_type_availability':'availability',\n",
    "    'impact_type_confidentiality':'confidentiality',\n",
    "    'impact_type_extortion':'extortion', \n",
    "    'impact_type_integrity':'integrity',\n",
    "    }, axis='columns', inplace=True)\n",
    "df_events.head()\n",
    "\n",
    "# adjust columns\n",
    "df_events['year'] = df_events['event_start_date'].dt.year\n",
    "count_of_years = len(df_events['year'].unique())\n",
    "df_events['frequency'] = 1/count_of_years/1000\n",
    "df_events['source']='events'\n"
   ]
  },
  {
   "cell_type": "markdown",
   "metadata": {},
   "source": [
    "## Combine Data"
   ]
  },
  {
   "cell_type": "code",
   "execution_count": 6,
   "metadata": {
    "gather": {
     "logged": 1653902699590
    }
   },
   "outputs": [],
   "source": [
    "df_comb = pd.concat([df_events[['availability', 'confidentiality', 'extortion', 'integrity', 'year', 'frequency','source',]],\n",
    "                     df_model[['availability', 'confidentiality', 'extortion', 'integrity', 'year', 'frequency','source',]]]).reset_index()"
   ]
  },
  {
   "cell_type": "code",
   "execution_count": 7,
   "metadata": {
    "gather": {
     "logged": 1653902701304
    }
   },
   "outputs": [],
   "source": [
    "df_comb['availability'] = df_comb['availability'].astype(bool)\n",
    "df_comb['confidentiality'] = df_comb['confidentiality'].astype(bool)\n",
    "df_comb['extortion'] = df_comb['extortion'].astype(bool)\n",
    "df_comb['integrity'] = df_comb['integrity'].astype(bool)"
   ]
  },
  {
   "cell_type": "markdown",
   "metadata": {
    "nteract": {
     "transient": {
      "deleting": false
     }
    }
   },
   "source": [
    "## Compare overall frequency"
   ]
  },
  {
   "cell_type": "code",
   "execution_count": 8,
   "metadata": {
    "gather": {
     "logged": 1653902702051
    }
   },
   "outputs": [
    {
     "data": {
      "text/html": [
       "<div>\n",
       "<style scoped>\n",
       "    .dataframe tbody tr th:only-of-type {\n",
       "        vertical-align: middle;\n",
       "    }\n",
       "\n",
       "    .dataframe tbody tr th {\n",
       "        vertical-align: top;\n",
       "    }\n",
       "\n",
       "    .dataframe thead th {\n",
       "        text-align: right;\n",
       "    }\n",
       "</style>\n",
       "<table border=\"1\" class=\"dataframe\">\n",
       "  <thead>\n",
       "    <tr style=\"text-align: right;\">\n",
       "      <th></th>\n",
       "      <th>confidentiality</th>\n",
       "      <th>source</th>\n",
       "      <th>frequency</th>\n",
       "    </tr>\n",
       "  </thead>\n",
       "  <tbody>\n",
       "    <tr>\n",
       "      <th>0</th>\n",
       "      <td>False</td>\n",
       "      <td>events</td>\n",
       "      <td>0.018364</td>\n",
       "    </tr>\n",
       "    <tr>\n",
       "      <th>1</th>\n",
       "      <td>False</td>\n",
       "      <td>model</td>\n",
       "      <td>0.269296</td>\n",
       "    </tr>\n",
       "    <tr>\n",
       "      <th>2</th>\n",
       "      <td>True</td>\n",
       "      <td>events</td>\n",
       "      <td>0.318636</td>\n",
       "    </tr>\n",
       "    <tr>\n",
       "      <th>3</th>\n",
       "      <td>True</td>\n",
       "      <td>model</td>\n",
       "      <td>0.300111</td>\n",
       "    </tr>\n",
       "  </tbody>\n",
       "</table>\n",
       "</div>"
      ],
      "text/plain": [
       "   confidentiality  source  frequency\n",
       "0            False  events   0.018364\n",
       "1            False   model   0.269296\n",
       "2             True  events   0.318636\n",
       "3             True   model   0.300111"
      ]
     },
     "execution_count": 8,
     "metadata": {},
     "output_type": "execute_result"
    }
   ],
   "source": [
    "df_plot = df_comb.groupby(['confidentiality','source']).agg({'frequency':'sum'}).reset_index()\n",
    "#df_plot['confidentiality'] = df_plot['confidentiality'].astype(str)\n",
    "#df_plot['x_axis'] = df_plot['source'] + df_plot['confidentiality']\n",
    "df_plot"
   ]
  },
  {
   "cell_type": "code",
   "execution_count": 9,
   "metadata": {
    "gather": {
     "logged": 1653902702290
    }
   },
   "outputs": [
    {
     "data": {
      "text/plain": [
       "<AxesSubplot:xlabel='source', ylabel='frequency'>"
      ]
     },
     "execution_count": 9,
     "metadata": {},
     "output_type": "execute_result"
    },
    {
     "data": {
      "image/png": "[encoded data removed]",
      "text/plain": [
       "<Figure size 432x288 with 1 Axes>"
      ]
     },
     "metadata": {
      "needs_background": "light"
     },
     "output_type": "display_data"
    }
   ],
   "source": [
    "sns.barplot(data=df_plot, x='source', y=df_plot['frequency'], hue='confidentiality')"
   ]
  },
  {
   "cell_type": "code",
   "execution_count": 10,
   "metadata": {
    "gather": {
     "logged": 1653902702376
    }
   },
   "outputs": [
    {
     "data": {
      "image/png": "[encoded data removed]",
      "text/plain": [
       "<Figure size 432x288 with 1 Axes>"
      ]
     },
     "metadata": {
      "needs_background": "light"
     },
     "output_type": "display_data"
    }
   ],
   "source": [
    "ax = sns.barplot(data=df_plot.loc[df_plot['confidentiality']==True], x='source', y=df_plot['frequency'])\n"
   ]
  },
  {
   "cell_type": "code",
   "execution_count": 16,
   "metadata": {
    "gather": {
     "logged": 1653902933018
    }
   },
   "outputs": [
    {
     "data": {
      "text/plain": [
       "<matplotlib.lines.Line2D at 0x7f621137bb20>"
      ]
     },
     "execution_count": 16,
     "metadata": {},
     "output_type": "execute_result"
    },
    {
     "data": {
      "image/png": "[encoded data removed]",
      "text/plain": [
       "<Figure size 432x288 with 1 Axes>"
      ]
     },
     "metadata": {
      "needs_background": "light"
     },
     "output_type": "display_data"
    }
   ],
   "source": [
    "ax = sns.barplot(data=df_plot.loc[df_plot['confidentiality']==False], x='source', y=df_plot['frequency'])\n",
    "\n",
    "event_confidentiality_frequency = df_plot.loc[(df_plot['confidentiality']==True) & (df_plot['source']=='events'), 'frequency'].values[0]\n",
    "\n",
    "#bands estimated from the Verizon 2022 DBIR report p18\n",
    "event_breach_freq_high = event_confidentiality_frequency/0.50 - event_confidentiality_frequency\n",
    "event_breach_freq_mid = event_confidentiality_frequency/0.55 - event_confidentiality_frequency\n",
    "event_breach_freq_low = event_confidentiality_frequency/0.60- event_confidentiality_frequency\n",
    "\n",
    "\n",
    "ax.axhline(event_breach_freq_high, ls='--')\n",
    "ax.axhline(event_breach_freq_mid)\n",
    "ax.axhline(event_breach_freq_low, ls='--')"
   ]
  },
  {
   "cell_type": "code",
   "execution_count": null,
   "metadata": {
    "collapsed": false,
    "jupyter": {
     "outputs_hidden": false,
     "source_hidden": false
    },
    "nteract": {
     "transient": {
      "deleting": false
     }
    }
   },
   "outputs": [],
   "source": []
  },
  {
   "cell_type": "code",
   "execution_count": null,
   "metadata": {},
   "outputs": [],
   "source": []
  }
 ],
 "metadata": {
  "kernel_info": {
   "name": "python3"
  },
  "kernelspec": {
   "display_name": "Python 3 (ipykernel)",
   "language": "python",
   "name": "python3"
  },
  "language_info": {
   "codemirror_mode": {
    "name": "ipython",
    "version": 3
   },
   "file_extension": ".py",
   "mimetype": "text/x-python",
   "name": "python",
   "nbconvert_exporter": "python",
   "pygments_lexer": "ipython3",
   "version": "3.10.2"
  },
  "microsoft": {
   "host": {
    "AzureML": {
     "notebookHasBeenCompleted": true
    }
   }
  },
  "nteract": {
   "version": "nteract-front-end@1.0.0"
  }
 },
 "nbformat": 4,
 "nbformat_minor": 4
}
