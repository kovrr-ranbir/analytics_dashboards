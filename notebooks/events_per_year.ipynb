{
 "cells": [
  {
   "cell_type": "code",
   "execution_count": 1,
   "id": "e6f359ed-2624-4d66-bb4b-aab9d0717a52",
   "metadata": {},
   "outputs": [],
   "source": [
    "# builds the connection to azure:\n",
    "%matplotlib inline\n",
    "\n",
    "import os\n",
    "import sys\n",
    "\n",
    "import numpy as np\n",
    "\n",
    "import seaborn as sns\n",
    "\n",
    "# import custom modules:\n",
    "module_path = os.path.dirname(os.path.abspath(''))\n",
    "if module_path not in sys.path:\n",
    "    sys.path.append(module_path)\n",
    "from common.get_data import *\n",
    "\n",
    "#set colour palette for seaborn\n",
    "colors = set_colours()\n",
    "sns.set_palette(sns.color_palette(colors))\n",
    "#get engine for sql queries\n",
    "engine=get_engine()\n"
   ]
  },
  {
   "cell_type": "code",
   "execution_count": 2,
   "id": "5fa374c9-daeb-4669-92fd-5658adf9881b",
   "metadata": {},
   "outputs": [
    {
     "data": {
      "text/plain": [
       "'v2022.2.3'"
      ]
     },
     "execution_count": 2,
     "metadata": {},
     "output_type": "execute_result"
    }
   ],
   "source": [
    "# get model_version\n",
    "model_version = pd.read_sql_query('''select value from model_metadata where item = 'model_version' ''', engine)\n",
    "model_version = model_version.iloc[0][0]\n",
    "model_version"
   ]
  },
  {
   "cell_type": "markdown",
   "id": "8b6338f2-0002-4972-b740-3a9b5ff33b11",
   "metadata": {},
   "source": [
    "## Get Events data"
   ]
  },
  {
   "cell_type": "code",
   "execution_count": 3,
   "id": "59482bb2-ce72-4877-9527-89256ebd003a",
   "metadata": {},
   "outputs": [],
   "source": [
    "df_events=read_f1k_table()"
   ]
  },
  {
   "cell_type": "code",
   "execution_count": 4,
   "id": "83096295-8459-4917-9fa2-333124c3c814",
   "metadata": {},
   "outputs": [],
   "source": [
    "df_events['year'] = df_events['event_start_date'].dt.year\n",
    "df_events_byyear = df_events.groupby(['year', 'company_name']).agg({'event_id':'count'}).reset_index()\n",
    "df_events_byyear.rename({'event_id':'no_events'}, axis='columns', inplace=True)\n",
    "df_events_byyear['source'] = 'events'"
   ]
  },
  {
   "cell_type": "markdown",
   "id": "d30a4710-ddbe-4036-82f6-126a5e11401d",
   "metadata": {},
   "source": [
    "## Get model data"
   ]
  },
  {
   "cell_type": "code",
   "execution_count": 5,
   "id": "c86dfa03-0a2a-4140-85ab-9603250f0dfc",
   "metadata": {},
   "outputs": [],
   "source": [
    "# get model_data\n",
    "df_model_byyear = pd.read_sql_query('''\n",
    "    select\n",
    "        year_x as year,\n",
    "        run_id::text as company_name,\n",
    "        count(*)::float as no_events,\n",
    "        'model' as source\n",
    "    from \n",
    "        model_events\n",
    "    group by run_id::text, year_x\n",
    "''', engine)\n"
   ]
  },
  {
   "cell_type": "markdown",
   "id": "fd09b109-d85a-4cd7-9707-812a1411d2cd",
   "metadata": {},
   "source": [
    "# Combine event sets"
   ]
  },
  {
   "cell_type": "code",
   "execution_count": 6,
   "id": "608d7e9e-0d4a-4e13-9e18-60b3811d8554",
   "metadata": {},
   "outputs": [],
   "source": [
    "df_byyear = pd.concat([df_events_byyear, df_model_byyear]).reset_index()\n",
    "df_byyear['no_events'] = df_byyear['no_events'].astype(int)"
   ]
  },
  {
   "cell_type": "code",
   "execution_count": 7,
   "id": "2ded7548-501f-40c5-af2e-c1b510c7e620",
   "metadata": {},
   "outputs": [],
   "source": [
    "#summarise count of events per year\n",
    "df_by_year_summary = df_byyear.groupby(['source','no_events']).agg({'company_name':'count'}).reset_index()\n",
    "#divide to get the proportion of event count \n",
    "df_by_year_summary = df_by_year_summary.pivot_table(index=['no_events'], values='company_name', columns='source')\n",
    "df_by_year_summary = (df_by_year_summary/df_by_year_summary.sum()).fillna(0).reset_index()"
   ]
  },
  {
   "cell_type": "markdown",
   "id": "035b365b-614d-4c5b-b623-003ac7493670",
   "metadata": {},
   "source": [
    "## Plot the result"
   ]
  },
  {
   "cell_type": "code",
   "execution_count": 8,
   "id": "53376928-2291-43d6-81cd-86347b7ef455",
   "metadata": {},
   "outputs": [],
   "source": [
    "#re-structure to present to plot\n",
    "df_by_year_summary_melt = df_by_year_summary.melt(id_vars='no_events').set_index('no_events').reset_index()"
   ]
  },
  {
   "cell_type": "code",
   "execution_count": 9,
   "id": "af99a611-419c-4c5e-a065-0fe5098728f2",
   "metadata": {},
   "outputs": [
    {
     "data": {
      "text/plain": [
       "Text(0.5, 1.0, 'v2022.2.3')"
      ]
     },
     "execution_count": 9,
     "metadata": {},
     "output_type": "execute_result"
    },
    {
     "data": {
      "image/png": "[encoded data removed]",
      "text/plain": [
       "<Figure size 720x504 with 1 Axes>"
      ]
     },
     "metadata": {
      "needs_background": "light"
     },
     "output_type": "display_data"
    }
   ],
   "source": [
    "fig, ax = plt.subplots(1,1,figsize=(10,7))\n",
    "sns.barplot(data=df_by_year_summary_melt, x='no_events', y='value',hue='source', ax=ax)\n",
    "ax.set_xlim(-1,10)\n",
    "ax.set_title(model_version)"
   ]
  },
  {
   "cell_type": "code",
   "execution_count": null,
   "id": "4f77cbd7-1cc8-444d-aa3a-151d11b632df",
   "metadata": {},
   "outputs": [],
   "source": []
  }
 ],
 "metadata": {
  "kernel_info": {
   "name": "python38-azureml"
  },
  "kernelspec": {
   "display_name": "Python 3.8 - AzureML",
   "language": "python",
   "name": "python38-azureml"
  },
  "language_info": {
   "codemirror_mode": {
    "name": "ipython",
    "version": 3
   },
   "file_extension": ".py",
   "mimetype": "text/x-python",
   "name": "python",
   "nbconvert_exporter": "python",
   "pygments_lexer": "ipython3",
   "version": "3.8.1"
  },
  "nteract": {
   "version": "nteract-front-end@1.0.0"
  }
 },
 "nbformat": 4,
 "nbformat_minor": 5
}
