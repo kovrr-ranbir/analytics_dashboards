{
 "cells": [
  {
   "cell_type": "markdown",
   "metadata": {
    "nteract": {
     "transient": {
      "deleting": false
     }
    }
   },
   "source": [
    "# Event severity\n",
    "\n"
   ]
  },
  {
   "cell_type": "code",
   "execution_count": 1,
   "metadata": {
    "collapsed": false,
    "gather": {
     "logged": 1652970966827
    },
    "jupyter": {
     "outputs_hidden": false,
     "source_hidden": false
    },
    "nteract": {
     "transient": {
      "deleting": false
     }
    }
   },
   "outputs": [],
   "source": [
    "# builds the connection to azure:\n",
    "%matplotlib inline\n",
    "\n",
    "import os\n",
    "import sys\n",
    "\n",
    "import numpy as np\n",
    "\n",
    "import seaborn as sns\n",
    "\n",
    "# import custom modules:\n",
    "module_path = os.path.dirname(os.path.abspath(''))\n",
    "if module_path not in sys.path:\n",
    "    sys.path.append(module_path)\n",
    "from common.get_data import *\n",
    "\n",
    "#set colour palette for seaborn\n",
    "colors = set_colours()\n",
    "sns.set_palette(sns.color_palette(colors))\n",
    "#get engine for sql queries\n",
    "engine=get_engine()\n"
   ]
  },
  {
   "cell_type": "code",
   "execution_count": 2,
   "metadata": {
    "gather": {
     "logged": 1652970967429
    }
   },
   "outputs": [
    {
     "data": {
      "text/plain": [
       "'v2022.2.3'"
      ]
     },
     "execution_count": 2,
     "metadata": {},
     "output_type": "execute_result"
    }
   ],
   "source": [
    "# get model_version\n",
    "model_version = pd.read_sql_query('''select value from model_metadata where item = 'model_version' ''', engine)\n",
    "model_version = model_version.iloc[0][0]\n",
    "model_version"
   ]
  },
  {
   "cell_type": "markdown",
   "metadata": {
    "nteract": {
     "transient": {
      "deleting": false
     }
    }
   },
   "source": [
    "## Get model data"
   ]
  },
  {
   "cell_type": "code",
   "execution_count": 3,
   "metadata": {
    "collapsed": false,
    "gather": {
     "logged": 1652973706785
    },
    "jupyter": {
     "outputs_hidden": false,
     "source_hidden": false
    },
    "nteract": {
     "transient": {
      "deleting": false
     }
    }
   },
   "outputs": [],
   "source": [
    "# get model_data\n",
    "df_model = pd.read_sql_query('''\n",
    "    select\n",
    "        model_events.run_id::text as entity,\n",
    "        model_entities.revenue_band,\n",
    "        model_events.confidentiality,\n",
    "        model_events.targeted_event_type,\n",
    "        gu_mean as event_impact,\n",
    "        event_type as event_type,\n",
    "        gu_bi_ratio * gu_mean as gu_bi,\n",
    "        gu_contingent_bi_ratio * gu_mean as gu_cbi,\n",
    "        gu_extortion_ratio * gu_mean as gu_extortion,\n",
    "        gu_liability_ratio * gu_mean as gu_liability,\n",
    "        gu_privacy_ratio * gu_mean as gu_privacy,\n",
    "        gu_regulatory_ratio * gu_mean as gu_regulatory\n",
    "    from\n",
    "        model_events\n",
    "    join\n",
    "        model_entities\n",
    "        on model_entities.run_id = model_events.run_id\n",
    "''', engine)\n",
    "#df_model.pop('entity')\n",
    "df_model['source'] = 'model'\n"
   ]
  },
  {
   "cell_type": "code",
   "execution_count": 4,
   "metadata": {},
   "outputs": [
    {
     "data": {
      "text/plain": [
       "array(['data_breach', 'systemic', 'interruption', 'ransomware'],\n",
       "      dtype=object)"
      ]
     },
     "execution_count": 4,
     "metadata": {},
     "output_type": "execute_result"
    }
   ],
   "source": [
    "#aggregate event types to simplify\n",
    "df_model['targeted_event_type'] = df_model['targeted_event_type'].fillna('systemic')\n",
    "df_model['targeted_event_type'] = df_model['targeted_event_type'].replace('service_provider_data_breach', 'data_breach')\n",
    "df_model['targeted_event_type'] = df_model['targeted_event_type'].replace('service_provider_interruption', 'interruption')\n",
    "df_model['targeted_event_type'].unique()"
   ]
  },
  {
   "cell_type": "markdown",
   "metadata": {
    "nteract": {
     "transient": {
      "deleting": false
     }
    }
   },
   "source": [
    "## Get Events data"
   ]
  },
  {
   "cell_type": "code",
   "execution_count": 5,
   "metadata": {
    "collapsed": false,
    "gather": {
     "logged": 1652974001606
    },
    "jupyter": {
     "outputs_hidden": false,
     "source_hidden": false
    },
    "nteract": {
     "transient": {
      "deleting": false
     }
    }
   },
   "outputs": [],
   "source": [
    "df_events = read_f1k_table()\n",
    "df_events.rename({'total_cost_usd':'event_impact',\n",
    "                 }, axis='columns', inplace=True)\n",
    "\n",
    "\n",
    "df_events['event_impact']=df_events['total_cost_millions_usd']*1e6\n",
    "\n",
    "df_events['source']='events'"
   ]
  },
  {
   "cell_type": "markdown",
   "metadata": {
    "nteract": {
     "transient": {
      "deleting": false
     }
    }
   },
   "source": [
    "# Compare overall severity\n"
   ]
  },
  {
   "cell_type": "code",
   "execution_count": 18,
   "metadata": {
    "gather": {
     "logged": 1652974041304
    }
   },
   "outputs": [
    {
     "data": {
      "text/plain": [
       "Text(19400000.0, 0.35, 'IBM Mean')"
      ]
     },
     "execution_count": 18,
     "metadata": {},
     "output_type": "execute_result"
    },
    {
     "data": {
      "image/png": "[encoded data removed]",
      "text/plain": [
       "<Figure size 1152x360 with 2 Axes>"
      ]
     },
     "metadata": {
      "needs_background": "light"
     },
     "output_type": "display_data"
    }
   ],
   "source": [
    "fig, ax = plt.subplots(1,2, figsize=(16,5))\n",
    "\n",
    "minimum = 1_000_000\n",
    "limit = 100_000_000\n",
    "bins=30\n",
    "\n",
    "common_cols = ['event_impact','source']\n",
    "plot_data = pd.concat([\n",
    "  df_events.loc[df_events['impact_type_confidentiality']==True][common_cols], \n",
    "  df_model.loc[df_model['confidentiality']==1][common_cols]\n",
    "  ], sort=False).reset_index()\n",
    "\n",
    "plot_data = plot_data.loc[\n",
    "  (plot_data['event_impact']<=limit) &\n",
    "  (plot_data['event_impact']>minimum)\n",
    "  ]\n",
    "\n",
    "sns.histplot(\n",
    "  data=plot_data.loc[plot_data['event_impact']<=limit],\n",
    "  x='event_impact', \n",
    "  hue='source', \n",
    "  stat='probability',\n",
    "  binwidth=limit/bins, \n",
    "  alpha=0.5,\n",
    "  common_norm=False,ax=ax[0])\n",
    "\n",
    "sns.histplot(\n",
    "  data=plot_data.loc[plot_data['event_impact']<=limit],\n",
    "  x='event_impact', \n",
    "  hue='source', \n",
    "  stat='probability',\n",
    "  binwidth=limit/bins, \n",
    "  alpha=0.5,\n",
    "  common_norm=False,ax=ax[1])\n",
    "\n",
    "\n",
    "ax[0].set_ylim(0, 0.4)\n",
    "ax[1].set_ylim(0, 0.4)\n",
    "\n",
    "# IBM Cost of data breach report 2021\n",
    "ax[1].axvline(3.6e6, color='purple', ls='--')\n",
    "ax[1].text(3.6e6+5e5,0.33, 'IBM Low Range')\n",
    "ax[1].axvline(58.8e6, color='purple', ls='--')\n",
    "ax[1].text(58.8e6+5e5,0.33, 'IBM High Range')\n",
    "ax[1].axvline(18.9e6, color='purple', ls='-')\n",
    "ax[1].text(18.9e6+5e5,0.35, 'IBM Mean')\n"
   ]
  },
  {
   "cell_type": "markdown",
   "metadata": {},
   "source": [
    "# Split Cost Components"
   ]
  },
  {
   "cell_type": "code",
   "execution_count": 7,
   "metadata": {},
   "outputs": [],
   "source": [
    "# Event cost mapping\n",
    "df_events_TP = df_events.copy()\n",
    "df_events_TP['gu_liability'] = (\n",
    "    df_events_TP['liability_third_party_cost_millions_usd'] * 1e6 \n",
    "    +df_events_TP['injury_cost_millions_usd'] * 1e6\n",
    "    +df_events_TP['settlement_amount_paid_millions_usd'] * 1e6\n",
    "    +df_events_TP['liability_first_party_cost_millions_usd'] * 1e6)\n",
    "\n",
    "df_events_TP['gu_bi'] = (\n",
    "    df_events_TP['lost_income_cost_millions_usd'] * 1e6\n",
    "    +df_events_TP['property_cost_millions_usd'] * 1e6\n",
    "    )\n",
    "df_events_TP['gu_privacy'] = (\n",
    "    df_events_TP['other_costs_millions_usd'] * 1e6\n",
    "    +df_events_TP['response_cost_millions_usd'] * 1e6\n",
    ")\n",
    "df_events_TP['gu_regulatory'] = df_events_TP['regulatory_costs_millions_usd'] * 1e6\n",
    "df_events_TP['gu_extortion'] = df_events_TP['extortion_paid_millions_usd'] * 1e6\n",
    "\n",
    "# Model cost Mapping\n",
    "df_model_TP = df_model.copy()\n",
    "df_model_TP['gu_bi'] = df_model_TP['gu_bi'] + df_model_TP['gu_cbi']\n",
    "\n",
    "#join tables\n",
    "df_costs = pd.concat([\n",
    "    df_model_TP[['gu_liability','gu_regulatory', 'gu_bi', 'gu_extortion', 'gu_privacy', 'source']].reset_index(),\n",
    "    df_events_TP[['gu_liability','gu_regulatory', 'gu_bi', 'gu_extortion', 'gu_privacy', 'source']].reset_index()\n",
    "],sort=False).reset_index()\n"
   ]
  },
  {
   "cell_type": "code",
   "execution_count": 8,
   "metadata": {},
   "outputs": [
    {
     "data": {
      "text/plain": [
       "Text(0.5, 1.0, 'liability costs')"
      ]
     },
     "execution_count": 8,
     "metadata": {},
     "output_type": "execute_result"
    },
    {
     "data": {
      "image/png": "[encoded data removed]",
      "text/plain": [
       "<Figure size 576x360 with 1 Axes>"
      ]
     },
     "metadata": {
      "needs_background": "light"
     },
     "output_type": "display_data"
    }
   ],
   "source": [
    "fig, ax = plt.subplots(1,1, figsize=(8,5))\n",
    "\n",
    "minimum = 1_000_000\n",
    "limit = 100_000_000\n",
    "bins=30\n",
    "\n",
    "param = 'gu_liability'\n",
    "plot_data = df_costs\n",
    "plot_data = plot_data.loc[(plot_data[param]<=limit) &\n",
    "              (plot_data[param]>minimum)\n",
    "                ]\n",
    "\n",
    "sns.histplot(\n",
    "  data=plot_data.loc[plot_data[param]<=limit],\n",
    "  x=param,\n",
    "  hue='source',\n",
    "  stat='probability',\n",
    "  binwidth=limit/bins,\n",
    "  alpha=0.5,\n",
    "  common_norm=False, \n",
    "  ax=ax\n",
    "  )\n",
    "ax.set_title('liability costs')"
   ]
  },
  {
   "cell_type": "code",
   "execution_count": 9,
   "metadata": {},
   "outputs": [
    {
     "data": {
      "text/plain": [
       "Text(0.5, 1.0, 'regulatory costs')"
      ]
     },
     "execution_count": 9,
     "metadata": {},
     "output_type": "execute_result"
    },
    {
     "data": {
      "image/png": "[encoded data removed]",
      "text/plain": [
       "<Figure size 576x360 with 1 Axes>"
      ]
     },
     "metadata": {
      "needs_background": "light"
     },
     "output_type": "display_data"
    }
   ],
   "source": [
    "fig, ax = plt.subplots(1,1, figsize=(8,5))\n",
    "\n",
    "minimum = 100_000\n",
    "limit = 100_000_000\n",
    "bins=30\n",
    "\n",
    "param = 'gu_regulatory'\n",
    "plot_data = df_costs\n",
    "plot_data = plot_data.loc[(plot_data[param]<=limit) &\n",
    "              (plot_data[param]>minimum)\n",
    "                ]\n",
    "\n",
    "sns.histplot(\n",
    "  data=plot_data.loc[plot_data[param]<=limit],\n",
    "  x=param,\n",
    "  hue='source',\n",
    "  stat='probability',\n",
    "  binwidth=limit/bins,\n",
    "  alpha=0.5,\n",
    "  common_norm=False, \n",
    "  ax=ax,\n",
    "  )\n",
    "ax.set_title('regulatory costs')"
   ]
  },
  {
   "cell_type": "code",
   "execution_count": 10,
   "metadata": {},
   "outputs": [
    {
     "data": {
      "text/plain": [
       "Text(0.5, 1.0, 'privacy costs')"
      ]
     },
     "execution_count": 10,
     "metadata": {},
     "output_type": "execute_result"
    },
    {
     "data": {
      "image/png": "[encoded data removed]",
      "text/plain": [
       "<Figure size 576x360 with 1 Axes>"
      ]
     },
     "metadata": {
      "needs_background": "light"
     },
     "output_type": "display_data"
    }
   ],
   "source": [
    "fig, ax = plt.subplots(1,1, figsize=(8,5))\n",
    "\n",
    "minimum = 100_000\n",
    "limit = 100_000_000\n",
    "bins=30\n",
    "\n",
    "param = 'gu_privacy'\n",
    "plot_data = df_costs\n",
    "plot_data = plot_data.loc[(plot_data[param]<=limit) &\n",
    "              (plot_data[param]>minimum)\n",
    "                ]\n",
    "\n",
    "sns.histplot(\n",
    "  data=plot_data.loc[plot_data[param]<=limit],\n",
    "  x=param,\n",
    "  hue='source',\n",
    "  stat='probability',\n",
    "  binwidth=limit/bins,\n",
    "  alpha=0.5,\n",
    "  common_norm=False, \n",
    "  ax=ax,\n",
    "  )\n",
    "ax.set_title('privacy costs')"
   ]
  },
  {
   "cell_type": "code",
   "execution_count": 11,
   "metadata": {},
   "outputs": [
    {
     "data": {
      "text/plain": [
       "Text(0.5, 1.0, 'business interruption costs')"
      ]
     },
     "execution_count": 11,
     "metadata": {},
     "output_type": "execute_result"
    },
    {
     "data": {
      "image/png": "[encoded data removed]",
      "text/plain": [
       "<Figure size 576x360 with 1 Axes>"
      ]
     },
     "metadata": {
      "needs_background": "light"
     },
     "output_type": "display_data"
    }
   ],
   "source": [
    "fig, ax = plt.subplots(1,1, figsize=(8,5))\n",
    "\n",
    "minimum = 100_000\n",
    "limit = 100_000_000\n",
    "bins=30\n",
    "\n",
    "param = 'gu_bi'\n",
    "plot_data = df_costs\n",
    "plot_data = plot_data.loc[(plot_data[param]<=limit) &\n",
    "              (plot_data[param]>minimum)\n",
    "                ]\n",
    "\n",
    "sns.histplot(\n",
    "  data=plot_data.loc[plot_data[param]<=limit],\n",
    "  x=param,\n",
    "  hue='source',\n",
    "  stat='probability',\n",
    "  binwidth=limit/bins,\n",
    "  alpha=0.5,\n",
    "  common_norm=False, \n",
    "  ax=ax,\n",
    "  )\n",
    "ax.set_title('business interruption costs')"
   ]
  },
  {
   "cell_type": "code",
   "execution_count": 12,
   "metadata": {},
   "outputs": [
    {
     "data": {
      "text/plain": [
       "Text(0.5, 1.0, 'extortion costs')"
      ]
     },
     "execution_count": 12,
     "metadata": {},
     "output_type": "execute_result"
    },
    {
     "data": {
      "image/png": "[encoded data removed]",
      "text/plain": [
       "<Figure size 576x360 with 1 Axes>"
      ]
     },
     "metadata": {
      "needs_background": "light"
     },
     "output_type": "display_data"
    }
   ],
   "source": [
    "fig, ax = plt.subplots(1,1, figsize=(8,5))\n",
    "\n",
    "minimum = 100_000\n",
    "limit = 100_000_000\n",
    "bins=30\n",
    "\n",
    "param = 'gu_extortion'\n",
    "plot_data = df_costs\n",
    "plot_data = plot_data.loc[(plot_data[param]<=limit) &\n",
    "              (plot_data[param]>minimum)\n",
    "                ]\n",
    "\n",
    "sns.histplot(\n",
    "  data=plot_data.loc[plot_data[param]<=limit],\n",
    "  x=param,\n",
    "  hue='source',\n",
    "  stat='probability',\n",
    "  binwidth=limit/bins,\n",
    "  alpha=0.5,\n",
    "  common_norm=False, \n",
    "  ax=ax,\n",
    "  )\n",
    "ax.set_title('extortion costs')"
   ]
  },
  {
   "cell_type": "markdown",
   "metadata": {
    "nteract": {
     "transient": {
      "deleting": false
     }
    }
   },
   "source": [
    "## Model Cost Split"
   ]
  },
  {
   "cell_type": "code",
   "execution_count": 13,
   "metadata": {
    "collapsed": false,
    "jupyter": {
     "outputs_hidden": false
    },
    "nteract": {
     "transient": {
      "deleting": false
     }
    }
   },
   "outputs": [],
   "source": [
    "df_model_cost = df_model.reset_index()[['index',\n",
    "                         'gu_bi',\n",
    "                         'gu_cbi',\n",
    "                         'gu_extortion',\n",
    "                         'gu_liability',\n",
    "                         'gu_privacy',\n",
    "                         'gu_regulatory',\n",
    "                         'event_impact'\n",
    "                         ]].copy()"
   ]
  },
  {
   "cell_type": "code",
   "execution_count": 14,
   "metadata": {},
   "outputs": [],
   "source": [
    "df_model_cost = df_model_cost.melt(id_vars='index', var_name='cost_component',value_name='value')"
   ]
  },
  {
   "cell_type": "code",
   "execution_count": 15,
   "metadata": {},
   "outputs": [
    {
     "data": {
      "text/plain": [
       "<matplotlib.axes._subplots.AxesSubplot at 0x7f6c4002bb38>"
      ]
     },
     "execution_count": 15,
     "metadata": {},
     "output_type": "execute_result"
    },
    {
     "data": {
      "image/png": "[encoded data removed]",
      "text/plain": [
       "<Figure size 576x360 with 1 Axes>"
      ]
     },
     "metadata": {
      "needs_background": "light"
     },
     "output_type": "display_data"
    }
   ],
   "source": [
    "fig, ax = plt.subplots(1,1, figsize=(8,5))\n",
    "\n",
    "minimum = 1_000_000\n",
    "limit = 100_000_000\n",
    "bins=30\n",
    "\n",
    "plot_data = df_model_cost\n",
    "plot_data = plot_data.loc[(plot_data['value']<=limit) &\n",
    "              (plot_data['value']>minimum)\n",
    "                ]\n",
    "\n",
    "sns.histplot(\n",
    "  data=plot_data,\n",
    "  x='value',\n",
    "  hue='cost_component',\n",
    "  stat='probability',\n",
    "  binwidth=limit/bins,\n",
    "  alpha=1,\n",
    "  common_norm=True, \n",
    "  #multiple='layer',\n",
    "  #kde=True,\n",
    "  element='step',\n",
    "  fill=False,\n",
    "  )"
   ]
  }
 ],
 "metadata": {
  "kernel_info": {
   "name": "python3-azureml"
  },
  "kernelspec": {
   "display_name": "Python 3.6 - AzureML",
   "language": "python",
   "name": "python3-azureml"
  },
  "language_info": {
   "codemirror_mode": {
    "name": "ipython",
    "version": 3
   },
   "file_extension": ".py",
   "mimetype": "text/x-python",
   "name": "python",
   "nbconvert_exporter": "python",
   "pygments_lexer": "ipython3",
   "version": "3.6.9"
  },
  "microsoft": {
   "host": {
    "AzureML": {
     "notebookHasBeenCompleted": true
    }
   }
  },
  "nteract": {
   "version": "nteract-front-end@1.0.0"
  }
 },
 "nbformat": 4,
 "nbformat_minor": 4
}
