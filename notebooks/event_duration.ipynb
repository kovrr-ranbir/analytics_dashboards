{
 "cells": [
  {
   "cell_type": "markdown",
   "metadata": {},
   "source": [
    "## Context\n",
    "KOV-4205 - Incident Impact - Duration\n",
    "\n",
    "- Comparison of the overall distribution from the model with real events\n"
   ]
  },
  {
   "cell_type": "markdown",
   "metadata": {},
   "source": [
    "## Limitations\n",
    "\n",
    "1. Scope: only covers F1000 companies\n",
    "2. Availabiliy model data: only available for companies where a `financial_quantification_input.json` file is generated (currently 948/1000)\n",
    "3. Data quality \n",
    "    - the classification of availability events in both the `model_events` and `vcdb` tables was not reliable and these events had to be manually annotated prior to use. \n",
    "    - the field `availability_duration_days` in the `model_events` table had values that were not correctly calculated. A correction had to made in the analysis to account for this. "
   ]
  },
  {
   "cell_type": "markdown",
   "metadata": {},
   "source": [
    "## Data\n",
    "\n",
    "1. F1000 model data - table - `dna-db.postgres.model_events`\n",
    "    - model version: v2022.2.3 FQ model\n",
    "    - run date: 2022-04-20\n",
    "2. Events data \n",
    "    - table - `dna-db.postgres.data_sources_events`\n",
    "    - table - `dna-db.postgres.data_sources_entities`\n",
    "    - table - `dna-db.data_sources.vcdb`"
   ]
  },
  {
   "cell_type": "markdown",
   "metadata": {},
   "source": [
    "## Conclusion\n",
    "1. Advisen data is from a similar population to the model data is quite sparse for interruption events (with a duration).\n",
    "Separating availability duration from campaign duration can be challenging.\n",
    "2. Veris VCDB contains broader range of companies within the same timeframe (2010-2020), and more availability events.\n",
    "3. Mean duration of interruption (days) - F1OOO Kovrr model (3.01), Advisen (5.14), VCDB (4.18)\n",
    "4. Coveware’s Ransomware report highlights a mean time of 15-23 days. The time to ‘completely resolve’ a ransomware incident.The model mean time as it represents the time to be able to transact again"
   ]
  },
  {
   "cell_type": "markdown",
   "metadata": {},
   "source": [
    "## Testing Detail"
   ]
  },
  {
   "cell_type": "markdown",
   "metadata": {
    "nteract": {
     "transient": {
      "deleting": false
     }
    }
   },
   "source": [
    "### Duration\n",
    "\n"
   ]
  },
  {
   "cell_type": "code",
   "execution_count": 2,
   "metadata": {
    "collapsed": false,
    "gather": {
     "logged": 1653583451847
    },
    "jupyter": {
     "outputs_hidden": false,
     "source_hidden": false
    },
    "nteract": {
     "transient": {
      "deleting": false
     }
    }
   },
   "outputs": [
    {
     "name": "stdout",
     "output_type": "stream",
     "text": [
      "server connected\n"
     ]
    }
   ],
   "source": [
    "# builds the connection to azure:\n",
    "%matplotlib inline\n",
    "\n",
    "import os\n",
    "import sys\n",
    "import numpy as np\n",
    "import matplotlib as mpl\n",
    "import matplotlib.pyplot as plt\n",
    "import seaborn as sns\n",
    "from pandas_profiling import ProfileReport\n",
    "from sentence_transformers import SentenceTransformer\n",
    "from tqdm import tqdm_notebook as tqdm\n",
    "from sklearn.decomposition import PCA\n",
    "import joblib\n",
    "import xgboost\n",
    "# import custom modules:\n",
    "module_path = os.path.abspath(os.path.join('..'))\n",
    "if module_path not in sys.path:\n",
    "    sys.path.append(module_path)\n",
    "from lib._get_data import *\n",
    "\n",
    "#set colour palette for seaborn\n",
    "colors = set_colours()\n",
    "sns.set_palette(sns.color_palette(colors))\n",
    "#get engine for sql queries\n",
    "engine=get_engine()\n"
   ]
  },
  {
   "cell_type": "code",
   "execution_count": 3,
   "metadata": {
    "gather": {
     "logged": 1653583455307
    }
   },
   "outputs": [],
   "source": [
    "pd.set_option('display.precision',3)\n",
    "pd.set_option('display.max_rows',100)\n",
    "pd.set_option('display.max_columns',100)\n",
    "pd.set_option('display.max_info_rows',100)\n",
    "pd.set_option('display.max_info_columns',50)\n",
    "pd.set_option('display.max_colwidth',0)\n",
    "pd.options.display.float_format='{:,.2f}'.format"
   ]
  },
  {
   "cell_type": "code",
   "execution_count": 4,
   "metadata": {
    "gather": {
     "logged": 1653583457047
    }
   },
   "outputs": [
    {
     "data": {
      "text/plain": [
       "'v2022.2.3'"
      ]
     },
     "execution_count": 4,
     "metadata": {},
     "output_type": "execute_result"
    }
   ],
   "source": [
    "# get model_version\n",
    "model_version = pd.read_sql_query('''select value from model_metadata where item = 'model_version' ''', engine)\n",
    "model_version = model_version.iloc[0][0]\n",
    "model_version"
   ]
  },
  {
   "cell_type": "markdown",
   "metadata": {
    "nteract": {
     "transient": {
      "deleting": false
     }
    }
   },
   "source": [
    "### Get model data"
   ]
  },
  {
   "cell_type": "code",
   "execution_count": 5,
   "metadata": {
    "collapsed": false,
    "gather": {
     "logged": 1653583486642
    },
    "jupyter": {
     "outputs_hidden": false,
     "source_hidden": false
    },
    "nteract": {
     "transient": {
      "deleting": false
     }
    }
   },
   "outputs": [],
   "source": [
    "# get model_data\n",
    "df_model = pd.read_sql_query('''\n",
    "    select\n",
    "        run_id::text as entity,\n",
    "        event_duration/(60*24) as duration,\n",
    "        event_type as event_type\n",
    "    from\n",
    "        model_events\n",
    "''', engine)\n",
    "df_model.pop('entity')\n",
    "df_model['source'] = 'model'\n"
   ]
  },
  {
   "cell_type": "markdown",
   "metadata": {
    "nteract": {
     "transient": {
      "deleting": false
     }
    }
   },
   "source": [
    "### Get Events data"
   ]
  },
  {
   "cell_type": "markdown",
   "metadata": {},
   "source": [
    "#### Investigate Advisen events - including events with availability duration >31 days"
   ]
  },
  {
   "cell_type": "code",
   "execution_count": 6,
   "metadata": {
    "gather": {
     "logged": 1653583560680
    }
   },
   "outputs": [
    {
     "name": "stdout",
     "output_type": "stream",
     "text": [
      "server connected\n"
     ]
    }
   ],
   "source": [
    "events = read_f1k_table()"
   ]
  },
  {
   "cell_type": "code",
   "execution_count": 8,
   "metadata": {},
   "outputs": [],
   "source": [
    "#fill missing event names with 'None' - cannot create embeddings for null values\n",
    "events['event_name'] = events['event_name'].fillna('None')"
   ]
  },
  {
   "cell_type": "code",
   "execution_count": 9,
   "metadata": {},
   "outputs": [],
   "source": [
    "def event_classifier(df, event_column, path_to_model):\n",
    "    \"\"\"classify events as availability[1] or non-availability[0] based on pre-trained model\"\"\"\n",
    "    df = df.copy()\n",
    "    model = SentenceTransformer('sentence-transformers/stsb-distilbert-base')\n",
    "    embeddings = [model.encode(x) for x in tqdm(df[event_column].tolist())]\n",
    "    pca = PCA(n_components = 20)\n",
    "    X = pca.fit_transform(embeddings)\n",
    "    best_clf = joblib.load(path_to_model)\n",
    "    y_pred = best_clf.predict(X)\n",
    "    df['predictions'] = y_pred\n",
    "    return df"
   ]
  },
  {
   "cell_type": "code",
   "execution_count": 10,
   "metadata": {},
   "outputs": [
    {
     "data": {
      "application/vnd.jupyter.widget-view+json": {
       "model_id": "f52aa9801fb44dc5815976589c953655",
       "version_major": 2,
       "version_minor": 0
      },
      "text/plain": [
       "  0%|          | 0/4317 [00:00<?, ?it/s]"
      ]
     },
     "metadata": {},
     "output_type": "display_data"
    }
   ],
   "source": [
    "predicted_events =  event_classifier(df=events, event_column='event_name',path_to_model='data/description_classifying_model.sav')"
   ]
  },
  {
   "cell_type": "code",
   "execution_count": 11,
   "metadata": {},
   "outputs": [
    {
     "data": {
      "text/plain": [
       "0    4312\n",
       "1    5   \n",
       "Name: predictions, dtype: int64"
      ]
     },
     "execution_count": 11,
     "metadata": {},
     "output_type": "execute_result"
    }
   ],
   "source": [
    "predicted_events['predictions'].value_counts()"
   ]
  },
  {
   "cell_type": "code",
   "execution_count": 12,
   "metadata": {},
   "outputs": [
    {
     "data": {
      "text/html": [
       "<div>\n",
       "<style scoped>\n",
       "    .dataframe tbody tr th:only-of-type {\n",
       "        vertical-align: middle;\n",
       "    }\n",
       "\n",
       "    .dataframe tbody tr th {\n",
       "        vertical-align: top;\n",
       "    }\n",
       "\n",
       "    .dataframe thead th {\n",
       "        text-align: right;\n",
       "    }\n",
       "</style>\n",
       "<table border=\"1\" class=\"dataframe\">\n",
       "  <thead>\n",
       "    <tr style=\"text-align: right;\">\n",
       "      <th></th>\n",
       "      <th>availability_duration_days</th>\n",
       "      <th>breach_duration_days</th>\n",
       "      <th>event_name</th>\n",
       "    </tr>\n",
       "  </thead>\n",
       "  <tbody>\n",
       "    <tr>\n",
       "      <th>293</th>\n",
       "      <td>NaN</td>\n",
       "      <td>NaN</td>\n",
       "      <td>Abercrombie &amp; Fitch Co., TCPA Violation, 2019</td>\n",
       "    </tr>\n",
       "    <tr>\n",
       "      <th>296</th>\n",
       "      <td>NaN</td>\n",
       "      <td>NaN</td>\n",
       "      <td>Johns Manville Corp. and Automatic Data Processing, Inc., Unintentional Disclosure, 2019</td>\n",
       "    </tr>\n",
       "    <tr>\n",
       "      <th>1195</th>\n",
       "      <td>NaN</td>\n",
       "      <td>NaN</td>\n",
       "      <td>Attunity Leaked Data 2019</td>\n",
       "    </tr>\n",
       "    <tr>\n",
       "      <th>1887</th>\n",
       "      <td>NaN</td>\n",
       "      <td>NaN</td>\n",
       "      <td>Fidelity National Information Services, Inc. 2011</td>\n",
       "    </tr>\n",
       "    <tr>\n",
       "      <th>2883</th>\n",
       "      <td>NaN</td>\n",
       "      <td>NaN</td>\n",
       "      <td>Charter Communications, Inc. TCPA &amp; MTCCCA Violations, 2019</td>\n",
       "    </tr>\n",
       "  </tbody>\n",
       "</table>\n",
       "</div>"
      ],
      "text/plain": [
       "      availability_duration_days  breach_duration_days  \\\n",
       "293  NaN                         NaN                     \n",
       "296  NaN                         NaN                     \n",
       "1195 NaN                         NaN                     \n",
       "1887 NaN                         NaN                     \n",
       "2883 NaN                         NaN                     \n",
       "\n",
       "                                                                                    event_name  \n",
       "293   Abercrombie & Fitch Co., TCPA Violation, 2019                                             \n",
       "296   Johns Manville Corp. and Automatic Data Processing, Inc., Unintentional Disclosure, 2019  \n",
       "1195  Attunity Leaked Data 2019                                                                 \n",
       "1887  Fidelity National Information Services, Inc. 2011                                         \n",
       "2883  Charter Communications, Inc. TCPA & MTCCCA Violations, 2019                               "
      ]
     },
     "execution_count": 12,
     "metadata": {},
     "output_type": "execute_result"
    }
   ],
   "source": [
    "#availability events\n",
    "predicted_events.loc[predicted_events['predictions']==1,['availability_duration_days','breach_duration_days','event_name']]"
   ]
  },
  {
   "cell_type": "code",
   "execution_count": 13,
   "metadata": {},
   "outputs": [
    {
     "data": {
      "text/html": [
       "<div>\n",
       "<style scoped>\n",
       "    .dataframe tbody tr th:only-of-type {\n",
       "        vertical-align: middle;\n",
       "    }\n",
       "\n",
       "    .dataframe tbody tr th {\n",
       "        vertical-align: top;\n",
       "    }\n",
       "\n",
       "    .dataframe thead th {\n",
       "        text-align: right;\n",
       "    }\n",
       "</style>\n",
       "<table border=\"1\" class=\"dataframe\">\n",
       "  <thead>\n",
       "    <tr style=\"text-align: right;\">\n",
       "      <th></th>\n",
       "      <th>company_name</th>\n",
       "      <th>availability_duration_days</th>\n",
       "      <th>breach_duration_days</th>\n",
       "      <th>event_name</th>\n",
       "    </tr>\n",
       "  </thead>\n",
       "  <tbody>\n",
       "    <tr>\n",
       "      <th>2275</th>\n",
       "      <td>Dell Inc.</td>\n",
       "      <td>0.00</td>\n",
       "      <td>NaN</td>\n",
       "      <td>None</td>\n",
       "    </tr>\n",
       "    <tr>\n",
       "      <th>2240</th>\n",
       "      <td>Dell Inc.</td>\n",
       "      <td>0.00</td>\n",
       "      <td>NaN</td>\n",
       "      <td>None</td>\n",
       "    </tr>\n",
       "    <tr>\n",
       "      <th>2267</th>\n",
       "      <td>The Methodist Hospital</td>\n",
       "      <td>0.00</td>\n",
       "      <td>NaN</td>\n",
       "      <td>None</td>\n",
       "    </tr>\n",
       "    <tr>\n",
       "      <th>4303</th>\n",
       "      <td>Under Armour, Inc.</td>\n",
       "      <td>0.00</td>\n",
       "      <td>NaN</td>\n",
       "      <td>None</td>\n",
       "    </tr>\n",
       "    <tr>\n",
       "      <th>2377</th>\n",
       "      <td>Autozone, Inc.</td>\n",
       "      <td>0.00</td>\n",
       "      <td>NaN</td>\n",
       "      <td>None</td>\n",
       "    </tr>\n",
       "    <tr>\n",
       "      <th>2403</th>\n",
       "      <td>Adobe Systems Incorporated</td>\n",
       "      <td>0.00</td>\n",
       "      <td>NaN</td>\n",
       "      <td>None</td>\n",
       "    </tr>\n",
       "    <tr>\n",
       "      <th>2404</th>\n",
       "      <td>Northside Hospital, Inc.</td>\n",
       "      <td>0.00</td>\n",
       "      <td>NaN</td>\n",
       "      <td>None</td>\n",
       "    </tr>\n",
       "    <tr>\n",
       "      <th>2708</th>\n",
       "      <td>Southwest Airlines Co.</td>\n",
       "      <td>0.00</td>\n",
       "      <td>NaN</td>\n",
       "      <td>Cyber - Southwest Airlines Co.</td>\n",
       "    </tr>\n",
       "    <tr>\n",
       "      <th>2932</th>\n",
       "      <td>Orlando Health</td>\n",
       "      <td>0.00</td>\n",
       "      <td>NaN</td>\n",
       "      <td>None</td>\n",
       "    </tr>\n",
       "    <tr>\n",
       "      <th>2934</th>\n",
       "      <td>Overstock.Com Inc</td>\n",
       "      <td>0.00</td>\n",
       "      <td>NaN</td>\n",
       "      <td>None</td>\n",
       "    </tr>\n",
       "    <tr>\n",
       "      <th>3048</th>\n",
       "      <td>Verizon Communications Inc</td>\n",
       "      <td>0.00</td>\n",
       "      <td>NaN</td>\n",
       "      <td>None</td>\n",
       "    </tr>\n",
       "    <tr>\n",
       "      <th>3067</th>\n",
       "      <td>Adobe Systems Incorporated</td>\n",
       "      <td>0.00</td>\n",
       "      <td>NaN</td>\n",
       "      <td>None</td>\n",
       "    </tr>\n",
       "    <tr>\n",
       "      <th>3068</th>\n",
       "      <td>Humana Inc.</td>\n",
       "      <td>0.00</td>\n",
       "      <td>NaN</td>\n",
       "      <td>None</td>\n",
       "    </tr>\n",
       "    <tr>\n",
       "      <th>3074</th>\n",
       "      <td>Mondelez International, Inc.</td>\n",
       "      <td>0.00</td>\n",
       "      <td>NaN</td>\n",
       "      <td>None</td>\n",
       "    </tr>\n",
       "    <tr>\n",
       "      <th>3154</th>\n",
       "      <td>Merck &amp; Co., Inc.</td>\n",
       "      <td>0.00</td>\n",
       "      <td>0.00</td>\n",
       "      <td>Cyber - Merck &amp; Co., Inc.</td>\n",
       "    </tr>\n",
       "    <tr>\n",
       "      <th>1863</th>\n",
       "      <td>Overstock.Com Inc</td>\n",
       "      <td>0.00</td>\n",
       "      <td>NaN</td>\n",
       "      <td>None</td>\n",
       "    </tr>\n",
       "    <tr>\n",
       "      <th>3187</th>\n",
       "      <td>Crown Castle International Corp</td>\n",
       "      <td>0.00</td>\n",
       "      <td>NaN</td>\n",
       "      <td>None</td>\n",
       "    </tr>\n",
       "    <tr>\n",
       "      <th>3463</th>\n",
       "      <td>The Methodist Hospital</td>\n",
       "      <td>0.00</td>\n",
       "      <td>NaN</td>\n",
       "      <td>None</td>\n",
       "    </tr>\n",
       "    <tr>\n",
       "      <th>3468</th>\n",
       "      <td>Electronic Arts Inc.</td>\n",
       "      <td>0.00</td>\n",
       "      <td>NaN</td>\n",
       "      <td>None</td>\n",
       "    </tr>\n",
       "    <tr>\n",
       "      <th>3471</th>\n",
       "      <td>Bio-Rad Laboratories Inc</td>\n",
       "      <td>0.00</td>\n",
       "      <td>0.00</td>\n",
       "      <td>Bio-Rad Laboratories Inc Ransomware Incident 2019</td>\n",
       "    </tr>\n",
       "    <tr>\n",
       "      <th>3494</th>\n",
       "      <td>Ameriprise Financial Inc</td>\n",
       "      <td>0.00</td>\n",
       "      <td>NaN</td>\n",
       "      <td>None</td>\n",
       "    </tr>\n",
       "    <tr>\n",
       "      <th>3664</th>\n",
       "      <td>Euronet Worldwide Inc</td>\n",
       "      <td>0.00</td>\n",
       "      <td>NaN</td>\n",
       "      <td>None</td>\n",
       "    </tr>\n",
       "    <tr>\n",
       "      <th>3665</th>\n",
       "      <td>Northside Hospital, Inc.</td>\n",
       "      <td>0.00</td>\n",
       "      <td>NaN</td>\n",
       "      <td>None</td>\n",
       "    </tr>\n",
       "    <tr>\n",
       "      <th>3675</th>\n",
       "      <td>Mondelez International, Inc.</td>\n",
       "      <td>0.00</td>\n",
       "      <td>NaN</td>\n",
       "      <td>None</td>\n",
       "    </tr>\n",
       "    <tr>\n",
       "      <th>4006</th>\n",
       "      <td>Adobe Systems Incorporated</td>\n",
       "      <td>0.00</td>\n",
       "      <td>NaN</td>\n",
       "      <td>None</td>\n",
       "    </tr>\n",
       "    <tr>\n",
       "      <th>4032</th>\n",
       "      <td>Southwest Airlines Co.</td>\n",
       "      <td>0.00</td>\n",
       "      <td>NaN</td>\n",
       "      <td>Cyber - Southwest Airlines Co.</td>\n",
       "    </tr>\n",
       "    <tr>\n",
       "      <th>4045</th>\n",
       "      <td>Fairview Health Services</td>\n",
       "      <td>0.00</td>\n",
       "      <td>NaN</td>\n",
       "      <td>None</td>\n",
       "    </tr>\n",
       "    <tr>\n",
       "      <th>4051</th>\n",
       "      <td>Orlando Health</td>\n",
       "      <td>0.00</td>\n",
       "      <td>NaN</td>\n",
       "      <td>None</td>\n",
       "    </tr>\n",
       "    <tr>\n",
       "      <th>4055</th>\n",
       "      <td>Electronic Arts Inc.</td>\n",
       "      <td>0.00</td>\n",
       "      <td>NaN</td>\n",
       "      <td>None</td>\n",
       "    </tr>\n",
       "    <tr>\n",
       "      <th>4078</th>\n",
       "      <td>Crown Castle International Corp</td>\n",
       "      <td>0.00</td>\n",
       "      <td>NaN</td>\n",
       "      <td>None</td>\n",
       "    </tr>\n",
       "    <tr>\n",
       "      <th>4302</th>\n",
       "      <td>Total System Services Inc.</td>\n",
       "      <td>0.00</td>\n",
       "      <td>NaN</td>\n",
       "      <td>None</td>\n",
       "    </tr>\n",
       "    <tr>\n",
       "      <th>3346</th>\n",
       "      <td>Las Vegas Sands Corp.</td>\n",
       "      <td>0.00</td>\n",
       "      <td>NaN</td>\n",
       "      <td>Las Vegas Sands Corp Data Breach 2014: Las Vegas Sands Corp.</td>\n",
       "    </tr>\n",
       "    <tr>\n",
       "      <th>1595</th>\n",
       "      <td>Orlando Health</td>\n",
       "      <td>0.00</td>\n",
       "      <td>NaN</td>\n",
       "      <td>None</td>\n",
       "    </tr>\n",
       "    <tr>\n",
       "      <th>4305</th>\n",
       "      <td>Fairview Health Services</td>\n",
       "      <td>0.00</td>\n",
       "      <td>NaN</td>\n",
       "      <td>None</td>\n",
       "    </tr>\n",
       "    <tr>\n",
       "      <th>1038</th>\n",
       "      <td>Pitney Bowes Inc.</td>\n",
       "      <td>0.00</td>\n",
       "      <td>NaN</td>\n",
       "      <td>Cyber - Pitney Bowes</td>\n",
       "    </tr>\n",
       "    <tr>\n",
       "      <th>782</th>\n",
       "      <td>Pitney Bowes Inc.</td>\n",
       "      <td>0.00</td>\n",
       "      <td>NaN</td>\n",
       "      <td>Cyber - Pitney Bowes</td>\n",
       "    </tr>\n",
       "    <tr>\n",
       "      <th>1291</th>\n",
       "      <td>Euronet Worldwide Inc</td>\n",
       "      <td>0.00</td>\n",
       "      <td>NaN</td>\n",
       "      <td>None</td>\n",
       "    </tr>\n",
       "    <tr>\n",
       "      <th>1292</th>\n",
       "      <td>Verizon Communications Inc</td>\n",
       "      <td>0.00</td>\n",
       "      <td>NaN</td>\n",
       "      <td>None</td>\n",
       "    </tr>\n",
       "    <tr>\n",
       "      <th>354</th>\n",
       "      <td>Electronic Arts Inc.</td>\n",
       "      <td>0.00</td>\n",
       "      <td>NaN</td>\n",
       "      <td>None</td>\n",
       "    </tr>\n",
       "    <tr>\n",
       "      <th>343</th>\n",
       "      <td>Amedisys, Inc.</td>\n",
       "      <td>0.00</td>\n",
       "      <td>NaN</td>\n",
       "      <td>None</td>\n",
       "    </tr>\n",
       "    <tr>\n",
       "      <th>235</th>\n",
       "      <td>Amedisys, Inc.</td>\n",
       "      <td>0.00</td>\n",
       "      <td>NaN</td>\n",
       "      <td>None</td>\n",
       "    </tr>\n",
       "    <tr>\n",
       "      <th>232</th>\n",
       "      <td>Orlando Health</td>\n",
       "      <td>0.00</td>\n",
       "      <td>NaN</td>\n",
       "      <td>None</td>\n",
       "    </tr>\n",
       "    <tr>\n",
       "      <th>1021</th>\n",
       "      <td>Hasbro, Inc.</td>\n",
       "      <td>0.00</td>\n",
       "      <td>NaN</td>\n",
       "      <td>None</td>\n",
       "    </tr>\n",
       "    <tr>\n",
       "      <th>1431</th>\n",
       "      <td>Electronic Arts Inc.</td>\n",
       "      <td>0.00</td>\n",
       "      <td>NaN</td>\n",
       "      <td>None</td>\n",
       "    </tr>\n",
       "    <tr>\n",
       "      <th>1467</th>\n",
       "      <td>Autozone, Inc.</td>\n",
       "      <td>0.00</td>\n",
       "      <td>NaN</td>\n",
       "      <td>None</td>\n",
       "    </tr>\n",
       "    <tr>\n",
       "      <th>231</th>\n",
       "      <td>Total System Services Inc.</td>\n",
       "      <td>0.00</td>\n",
       "      <td>NaN</td>\n",
       "      <td>None</td>\n",
       "    </tr>\n",
       "    <tr>\n",
       "      <th>1468</th>\n",
       "      <td>Under Armour, Inc.</td>\n",
       "      <td>0.00</td>\n",
       "      <td>NaN</td>\n",
       "      <td>None</td>\n",
       "    </tr>\n",
       "    <tr>\n",
       "      <th>1476</th>\n",
       "      <td>Centene Corporation</td>\n",
       "      <td>0.00</td>\n",
       "      <td>NaN</td>\n",
       "      <td>None</td>\n",
       "    </tr>\n",
       "    <tr>\n",
       "      <th>220</th>\n",
       "      <td>Pitney Bowes Inc.</td>\n",
       "      <td>0.00</td>\n",
       "      <td>NaN</td>\n",
       "      <td>Cyber - Pitney Bowes</td>\n",
       "    </tr>\n",
       "    <tr>\n",
       "      <th>1591</th>\n",
       "      <td>Centene Corporation</td>\n",
       "      <td>0.00</td>\n",
       "      <td>NaN</td>\n",
       "      <td>None</td>\n",
       "    </tr>\n",
       "    <tr>\n",
       "      <th>189</th>\n",
       "      <td>Adobe Systems Incorporated</td>\n",
       "      <td>0.00</td>\n",
       "      <td>NaN</td>\n",
       "      <td>None</td>\n",
       "    </tr>\n",
       "    <tr>\n",
       "      <th>1433</th>\n",
       "      <td>Humana Inc.</td>\n",
       "      <td>0.00</td>\n",
       "      <td>NaN</td>\n",
       "      <td>None</td>\n",
       "    </tr>\n",
       "    <tr>\n",
       "      <th>1593</th>\n",
       "      <td>Ameriprise Financial Inc</td>\n",
       "      <td>0.00</td>\n",
       "      <td>NaN</td>\n",
       "      <td>None</td>\n",
       "    </tr>\n",
       "    <tr>\n",
       "      <th>768</th>\n",
       "      <td>Southwest Airlines Co.</td>\n",
       "      <td>0.12</td>\n",
       "      <td>NaN</td>\n",
       "      <td>None</td>\n",
       "    </tr>\n",
       "    <tr>\n",
       "      <th>1843</th>\n",
       "      <td>Southwest Airlines Co.</td>\n",
       "      <td>0.12</td>\n",
       "      <td>NaN</td>\n",
       "      <td>None</td>\n",
       "    </tr>\n",
       "    <tr>\n",
       "      <th>234</th>\n",
       "      <td>Sutter Health</td>\n",
       "      <td>1.00</td>\n",
       "      <td>NaN</td>\n",
       "      <td>None</td>\n",
       "    </tr>\n",
       "    <tr>\n",
       "      <th>3132</th>\n",
       "      <td>Roku Inc</td>\n",
       "      <td>1.00</td>\n",
       "      <td>NaN</td>\n",
       "      <td>Amazon AWS Service Outage, 2012</td>\n",
       "    </tr>\n",
       "    <tr>\n",
       "      <th>3047</th>\n",
       "      <td>Sutter Health</td>\n",
       "      <td>1.00</td>\n",
       "      <td>NaN</td>\n",
       "      <td>None</td>\n",
       "    </tr>\n",
       "    <tr>\n",
       "      <th>912</th>\n",
       "      <td>The New York Times Company</td>\n",
       "      <td>1.00</td>\n",
       "      <td>NaN</td>\n",
       "      <td>Syrian Electronic Army Attack 2013-2014</td>\n",
       "    </tr>\n",
       "    <tr>\n",
       "      <th>1384</th>\n",
       "      <td>Netflix Inc</td>\n",
       "      <td>1.00</td>\n",
       "      <td>NaN</td>\n",
       "      <td>Amazon AWS Service Outage, 2012</td>\n",
       "    </tr>\n",
       "    <tr>\n",
       "      <th>2058</th>\n",
       "      <td>Mastercard Incorporated</td>\n",
       "      <td>3.00</td>\n",
       "      <td>NaN</td>\n",
       "      <td>Anonymous Operation Payback 2010</td>\n",
       "    </tr>\n",
       "    <tr>\n",
       "      <th>3247</th>\n",
       "      <td>International Business Machines Corporation</td>\n",
       "      <td>6.00</td>\n",
       "      <td>NaN</td>\n",
       "      <td>National Agricultural Cooperative Federation, Computer Glitch, 2011</td>\n",
       "    </tr>\n",
       "    <tr>\n",
       "      <th>3632</th>\n",
       "      <td>Siteone Landscape Supply Inc</td>\n",
       "      <td>12.00</td>\n",
       "      <td>12.00</td>\n",
       "      <td>SiteOne Landscape Supply, Inc. Ransomware Attack, 2020</td>\n",
       "    </tr>\n",
       "    <tr>\n",
       "      <th>1235</th>\n",
       "      <td>Bristol-Myers Squibb Company</td>\n",
       "      <td>14.00</td>\n",
       "      <td>NaN</td>\n",
       "      <td>eResearchTechnology Inc Ransomware Attack, 2020</td>\n",
       "    </tr>\n",
       "    <tr>\n",
       "      <th>399</th>\n",
       "      <td>Paypal Holdings, Inc.</td>\n",
       "      <td>23.00</td>\n",
       "      <td>NaN</td>\n",
       "      <td>Anonymous Operation Payback 2010</td>\n",
       "    </tr>\n",
       "    <tr>\n",
       "      <th>2271</th>\n",
       "      <td>The Walt Disney Company</td>\n",
       "      <td>28.00</td>\n",
       "      <td>NaN</td>\n",
       "      <td>None</td>\n",
       "    </tr>\n",
       "    <tr>\n",
       "      <th>2935</th>\n",
       "      <td>The Walt Disney Company</td>\n",
       "      <td>28.00</td>\n",
       "      <td>NaN</td>\n",
       "      <td>None</td>\n",
       "    </tr>\n",
       "    <tr>\n",
       "      <th>1018</th>\n",
       "      <td>Electronic Arts Inc.</td>\n",
       "      <td>31.00</td>\n",
       "      <td>NaN</td>\n",
       "      <td>Valve Corporation et al DerpTrolling DDoS Attack 2013-2014: Electronic Arts</td>\n",
       "    </tr>\n",
       "    <tr>\n",
       "      <th>2896</th>\n",
       "      <td>Google Inc.</td>\n",
       "      <td>120.00</td>\n",
       "      <td>120.00</td>\n",
       "      <td>Coronavirus pandemic (COVID-19)</td>\n",
       "    </tr>\n",
       "    <tr>\n",
       "      <th>4203</th>\n",
       "      <td>Hewlett Packard Enterprise Co</td>\n",
       "      <td>211.00</td>\n",
       "      <td>NaN</td>\n",
       "      <td>MegaFon OJSC et al, Cellular Network Outages, 2016-2017</td>\n",
       "    </tr>\n",
       "    <tr>\n",
       "      <th>3045</th>\n",
       "      <td>Global Payments Inc</td>\n",
       "      <td>240.00</td>\n",
       "      <td>NaN</td>\n",
       "      <td>None</td>\n",
       "    </tr>\n",
       "    <tr>\n",
       "      <th>1858</th>\n",
       "      <td>Global Payments Inc</td>\n",
       "      <td>240.00</td>\n",
       "      <td>NaN</td>\n",
       "      <td>None</td>\n",
       "    </tr>\n",
       "    <tr>\n",
       "      <th>1055</th>\n",
       "      <td>Fifth Third Bancorp</td>\n",
       "      <td>272.00</td>\n",
       "      <td>NaN</td>\n",
       "      <td>Izz ad-Din al-Qassam Cyber Fighters DDoS Attacks, 2011-2013</td>\n",
       "    </tr>\n",
       "    <tr>\n",
       "      <th>2585</th>\n",
       "      <td>Compass Bank</td>\n",
       "      <td>272.00</td>\n",
       "      <td>NaN</td>\n",
       "      <td>Izz ad-Din al-Qassam Cyber Fighters DDoS Attacks, 2011-2013</td>\n",
       "    </tr>\n",
       "    <tr>\n",
       "      <th>2438</th>\n",
       "      <td>State Street Corporation</td>\n",
       "      <td>272.00</td>\n",
       "      <td>NaN</td>\n",
       "      <td>Izz ad-Din al-Qassam Cyber Fighters DDoS Attacks, 2011-2013</td>\n",
       "    </tr>\n",
       "    <tr>\n",
       "      <th>790</th>\n",
       "      <td>Wal-Mart Stores, Inc.</td>\n",
       "      <td>305.00</td>\n",
       "      <td>305.00</td>\n",
       "      <td>Wal-Mart Stores, Inc. Skimming Incident 2012-2013</td>\n",
       "    </tr>\n",
       "    <tr>\n",
       "      <th>4177</th>\n",
       "      <td>Verizon Communications Inc</td>\n",
       "      <td>365.00</td>\n",
       "      <td>NaN</td>\n",
       "      <td>The National Crime Agency et. al. DDoS Attacks, 2015-2016</td>\n",
       "    </tr>\n",
       "    <tr>\n",
       "      <th>72</th>\n",
       "      <td>Netflix Inc</td>\n",
       "      <td>365.00</td>\n",
       "      <td>NaN</td>\n",
       "      <td>The National Crime Agency et. al. DDoS Attacks, 2015-2016</td>\n",
       "    </tr>\n",
       "    <tr>\n",
       "      <th>2659</th>\n",
       "      <td>Massachusetts Institute Of Technology</td>\n",
       "      <td>365.00</td>\n",
       "      <td>NaN</td>\n",
       "      <td>The National Crime Agency et. al. DDoS Attacks, 2015-2016</td>\n",
       "    </tr>\n",
       "    <tr>\n",
       "      <th>798</th>\n",
       "      <td>Fidelity National Information Services, Inc.</td>\n",
       "      <td>396.00</td>\n",
       "      <td>NaN</td>\n",
       "      <td>Izz ad-Din al-Qassam Cyber Fighters DDoS Attacks, 2011-2013</td>\n",
       "    </tr>\n",
       "    <tr>\n",
       "      <th>801</th>\n",
       "      <td>Nasdaq Inc</td>\n",
       "      <td>396.00</td>\n",
       "      <td>NaN</td>\n",
       "      <td>Izz ad-Din al-Qassam Cyber Fighters DDoS Attacks, 2011-2013</td>\n",
       "    </tr>\n",
       "    <tr>\n",
       "      <th>1133</th>\n",
       "      <td>Verizon Communications Inc</td>\n",
       "      <td>638.00</td>\n",
       "      <td>NaN</td>\n",
       "      <td>John Kelsey Gammell DDoS Attack, 2015-2017</td>\n",
       "    </tr>\n",
       "    <tr>\n",
       "      <th>1228</th>\n",
       "      <td>Twitter, Inc.</td>\n",
       "      <td>1,533.00</td>\n",
       "      <td>1,533.00</td>\n",
       "      <td>Twitter Inc., GDPR Violation 2014</td>\n",
       "    </tr>\n",
       "  </tbody>\n",
       "</table>\n",
       "</div>"
      ],
      "text/plain": [
       "                                      company_name  \\\n",
       "2275  Dell Inc.                                      \n",
       "2240  Dell Inc.                                      \n",
       "2267  The Methodist Hospital                         \n",
       "4303  Under Armour, Inc.                             \n",
       "2377  Autozone, Inc.                                 \n",
       "2403  Adobe Systems Incorporated                     \n",
       "2404  Northside Hospital, Inc.                       \n",
       "2708  Southwest Airlines Co.                         \n",
       "2932  Orlando Health                                 \n",
       "2934  Overstock.Com Inc                              \n",
       "3048  Verizon Communications Inc                     \n",
       "3067  Adobe Systems Incorporated                     \n",
       "3068  Humana Inc.                                    \n",
       "3074  Mondelez International, Inc.                   \n",
       "3154  Merck & Co., Inc.                              \n",
       "1863  Overstock.Com Inc                              \n",
       "3187  Crown Castle International Corp                \n",
       "3463  The Methodist Hospital                         \n",
       "3468  Electronic Arts Inc.                           \n",
       "3471  Bio-Rad Laboratories Inc                       \n",
       "3494  Ameriprise Financial Inc                       \n",
       "3664  Euronet Worldwide Inc                          \n",
       "3665  Northside Hospital, Inc.                       \n",
       "3675  Mondelez International, Inc.                   \n",
       "4006  Adobe Systems Incorporated                     \n",
       "4032  Southwest Airlines Co.                         \n",
       "4045  Fairview Health Services                       \n",
       "4051  Orlando Health                                 \n",
       "4055  Electronic Arts Inc.                           \n",
       "4078  Crown Castle International Corp                \n",
       "4302  Total System Services Inc.                     \n",
       "3346  Las Vegas Sands Corp.                          \n",
       "1595  Orlando Health                                 \n",
       "4305  Fairview Health Services                       \n",
       "1038  Pitney Bowes Inc.                              \n",
       "782   Pitney Bowes Inc.                              \n",
       "1291  Euronet Worldwide Inc                          \n",
       "1292  Verizon Communications Inc                     \n",
       "354   Electronic Arts Inc.                           \n",
       "343   Amedisys, Inc.                                 \n",
       "235   Amedisys, Inc.                                 \n",
       "232   Orlando Health                                 \n",
       "1021  Hasbro, Inc.                                   \n",
       "1431  Electronic Arts Inc.                           \n",
       "1467  Autozone, Inc.                                 \n",
       "231   Total System Services Inc.                     \n",
       "1468  Under Armour, Inc.                             \n",
       "1476  Centene Corporation                            \n",
       "220   Pitney Bowes Inc.                              \n",
       "1591  Centene Corporation                            \n",
       "189   Adobe Systems Incorporated                     \n",
       "1433  Humana Inc.                                    \n",
       "1593  Ameriprise Financial Inc                       \n",
       "768   Southwest Airlines Co.                         \n",
       "1843  Southwest Airlines Co.                         \n",
       "234   Sutter Health                                  \n",
       "3132  Roku Inc                                       \n",
       "3047  Sutter Health                                  \n",
       "912   The New York Times Company                     \n",
       "1384  Netflix Inc                                    \n",
       "2058  Mastercard Incorporated                        \n",
       "3247  International Business Machines Corporation    \n",
       "3632  Siteone Landscape Supply Inc                   \n",
       "1235  Bristol-Myers Squibb Company                   \n",
       "399   Paypal Holdings, Inc.                          \n",
       "2271  The Walt Disney Company                        \n",
       "2935  The Walt Disney Company                        \n",
       "1018  Electronic Arts Inc.                           \n",
       "2896  Google Inc.                                    \n",
       "4203  Hewlett Packard Enterprise Co                  \n",
       "3045  Global Payments Inc                            \n",
       "1858  Global Payments Inc                            \n",
       "1055  Fifth Third Bancorp                            \n",
       "2585  Compass Bank                                   \n",
       "2438  State Street Corporation                       \n",
       "790   Wal-Mart Stores, Inc.                          \n",
       "4177  Verizon Communications Inc                     \n",
       "72    Netflix Inc                                    \n",
       "2659  Massachusetts Institute Of Technology          \n",
       "798   Fidelity National Information Services, Inc.   \n",
       "801   Nasdaq Inc                                     \n",
       "1133  Verizon Communications Inc                     \n",
       "1228  Twitter, Inc.                                  \n",
       "\n",
       "      availability_duration_days  breach_duration_days  \\\n",
       "2275 0.00                        NaN                     \n",
       "2240 0.00                        NaN                     \n",
       "2267 0.00                        NaN                     \n",
       "4303 0.00                        NaN                     \n",
       "2377 0.00                        NaN                     \n",
       "2403 0.00                        NaN                     \n",
       "2404 0.00                        NaN                     \n",
       "2708 0.00                        NaN                     \n",
       "2932 0.00                        NaN                     \n",
       "2934 0.00                        NaN                     \n",
       "3048 0.00                        NaN                     \n",
       "3067 0.00                        NaN                     \n",
       "3068 0.00                        NaN                     \n",
       "3074 0.00                        NaN                     \n",
       "3154 0.00                        0.00                    \n",
       "1863 0.00                        NaN                     \n",
       "3187 0.00                        NaN                     \n",
       "3463 0.00                        NaN                     \n",
       "3468 0.00                        NaN                     \n",
       "3471 0.00                        0.00                    \n",
       "3494 0.00                        NaN                     \n",
       "3664 0.00                        NaN                     \n",
       "3665 0.00                        NaN                     \n",
       "3675 0.00                        NaN                     \n",
       "4006 0.00                        NaN                     \n",
       "4032 0.00                        NaN                     \n",
       "4045 0.00                        NaN                     \n",
       "4051 0.00                        NaN                     \n",
       "4055 0.00                        NaN                     \n",
       "4078 0.00                        NaN                     \n",
       "4302 0.00                        NaN                     \n",
       "3346 0.00                        NaN                     \n",
       "1595 0.00                        NaN                     \n",
       "4305 0.00                        NaN                     \n",
       "1038 0.00                        NaN                     \n",
       "782  0.00                        NaN                     \n",
       "1291 0.00                        NaN                     \n",
       "1292 0.00                        NaN                     \n",
       "354  0.00                        NaN                     \n",
       "343  0.00                        NaN                     \n",
       "235  0.00                        NaN                     \n",
       "232  0.00                        NaN                     \n",
       "1021 0.00                        NaN                     \n",
       "1431 0.00                        NaN                     \n",
       "1467 0.00                        NaN                     \n",
       "231  0.00                        NaN                     \n",
       "1468 0.00                        NaN                     \n",
       "1476 0.00                        NaN                     \n",
       "220  0.00                        NaN                     \n",
       "1591 0.00                        NaN                     \n",
       "189  0.00                        NaN                     \n",
       "1433 0.00                        NaN                     \n",
       "1593 0.00                        NaN                     \n",
       "768  0.12                        NaN                     \n",
       "1843 0.12                        NaN                     \n",
       "234  1.00                        NaN                     \n",
       "3132 1.00                        NaN                     \n",
       "3047 1.00                        NaN                     \n",
       "912  1.00                        NaN                     \n",
       "1384 1.00                        NaN                     \n",
       "2058 3.00                        NaN                     \n",
       "3247 6.00                        NaN                     \n",
       "3632 12.00                       12.00                   \n",
       "1235 14.00                       NaN                     \n",
       "399  23.00                       NaN                     \n",
       "2271 28.00                       NaN                     \n",
       "2935 28.00                       NaN                     \n",
       "1018 31.00                       NaN                     \n",
       "2896 120.00                      120.00                  \n",
       "4203 211.00                      NaN                     \n",
       "3045 240.00                      NaN                     \n",
       "1858 240.00                      NaN                     \n",
       "1055 272.00                      NaN                     \n",
       "2585 272.00                      NaN                     \n",
       "2438 272.00                      NaN                     \n",
       "790  305.00                      305.00                  \n",
       "4177 365.00                      NaN                     \n",
       "72   365.00                      NaN                     \n",
       "2659 365.00                      NaN                     \n",
       "798  396.00                      NaN                     \n",
       "801  396.00                      NaN                     \n",
       "1133 638.00                      NaN                     \n",
       "1228 1,533.00                    1,533.00                \n",
       "\n",
       "                                                                       event_name  \n",
       "2275  None                                                                         \n",
       "2240  None                                                                         \n",
       "2267  None                                                                         \n",
       "4303  None                                                                         \n",
       "2377  None                                                                         \n",
       "2403  None                                                                         \n",
       "2404  None                                                                         \n",
       "2708  Cyber - Southwest Airlines Co.                                               \n",
       "2932  None                                                                         \n",
       "2934  None                                                                         \n",
       "3048  None                                                                         \n",
       "3067  None                                                                         \n",
       "3068  None                                                                         \n",
       "3074  None                                                                         \n",
       "3154  Cyber - Merck & Co., Inc.                                                    \n",
       "1863  None                                                                         \n",
       "3187  None                                                                         \n",
       "3463  None                                                                         \n",
       "3468  None                                                                         \n",
       "3471  Bio-Rad Laboratories Inc Ransomware Incident 2019                            \n",
       "3494  None                                                                         \n",
       "3664  None                                                                         \n",
       "3665  None                                                                         \n",
       "3675  None                                                                         \n",
       "4006  None                                                                         \n",
       "4032  Cyber - Southwest Airlines Co.                                               \n",
       "4045  None                                                                         \n",
       "4051  None                                                                         \n",
       "4055  None                                                                         \n",
       "4078  None                                                                         \n",
       "4302  None                                                                         \n",
       "3346  Las Vegas Sands Corp Data Breach 2014: Las Vegas Sands Corp.                 \n",
       "1595  None                                                                         \n",
       "4305  None                                                                         \n",
       "1038  Cyber - Pitney Bowes                                                         \n",
       "782   Cyber - Pitney Bowes                                                         \n",
       "1291  None                                                                         \n",
       "1292  None                                                                         \n",
       "354   None                                                                         \n",
       "343   None                                                                         \n",
       "235   None                                                                         \n",
       "232   None                                                                         \n",
       "1021  None                                                                         \n",
       "1431  None                                                                         \n",
       "1467  None                                                                         \n",
       "231   None                                                                         \n",
       "1468  None                                                                         \n",
       "1476  None                                                                         \n",
       "220   Cyber - Pitney Bowes                                                         \n",
       "1591  None                                                                         \n",
       "189   None                                                                         \n",
       "1433  None                                                                         \n",
       "1593  None                                                                         \n",
       "768   None                                                                         \n",
       "1843  None                                                                         \n",
       "234   None                                                                         \n",
       "3132  Amazon AWS Service Outage, 2012                                              \n",
       "3047  None                                                                         \n",
       "912   Syrian Electronic Army Attack 2013-2014                                      \n",
       "1384  Amazon AWS Service Outage, 2012                                              \n",
       "2058  Anonymous Operation Payback 2010                                             \n",
       "3247  National Agricultural Cooperative Federation, Computer Glitch, 2011          \n",
       "3632  SiteOne Landscape Supply, Inc. Ransomware Attack, 2020                       \n",
       "1235  eResearchTechnology Inc Ransomware Attack, 2020                              \n",
       "399   Anonymous Operation Payback 2010                                             \n",
       "2271  None                                                                         \n",
       "2935  None                                                                         \n",
       "1018  Valve Corporation et al DerpTrolling DDoS Attack 2013-2014: Electronic Arts  \n",
       "2896  Coronavirus pandemic (COVID-19)                                              \n",
       "4203  MegaFon OJSC et al, Cellular Network Outages, 2016-2017                      \n",
       "3045  None                                                                         \n",
       "1858  None                                                                         \n",
       "1055  Izz ad-Din al-Qassam Cyber Fighters DDoS Attacks, 2011-2013                  \n",
       "2585  Izz ad-Din al-Qassam Cyber Fighters DDoS Attacks, 2011-2013                  \n",
       "2438  Izz ad-Din al-Qassam Cyber Fighters DDoS Attacks, 2011-2013                  \n",
       "790   Wal-Mart Stores, Inc. Skimming Incident 2012-2013                            \n",
       "4177  The National Crime Agency et. al. DDoS Attacks, 2015-2016                    \n",
       "72    The National Crime Agency et. al. DDoS Attacks, 2015-2016                    \n",
       "2659  The National Crime Agency et. al. DDoS Attacks, 2015-2016                    \n",
       "798   Izz ad-Din al-Qassam Cyber Fighters DDoS Attacks, 2011-2013                  \n",
       "801   Izz ad-Din al-Qassam Cyber Fighters DDoS Attacks, 2011-2013                  \n",
       "1133  John Kelsey Gammell DDoS Attack, 2015-2017                                   \n",
       "1228  Twitter Inc., GDPR Violation 2014                                            "
      ]
     },
     "execution_count": 13,
     "metadata": {},
     "output_type": "execute_result"
    }
   ],
   "source": [
    "#non-availability events with an availability duration populated\n",
    "predicted_events.loc[(predicted_events['predictions']==0) & (predicted_events['availability_duration_days'].notnull()),['company_name','availability_duration_days','breach_duration_days','event_name']].sort_values('availability_duration_days')"
   ]
  },
  {
   "cell_type": "code",
   "execution_count": 14,
   "metadata": {},
   "outputs": [],
   "source": [
    "#fix the availability_duration_days - 0 day values calculated instead on nan\n",
    "predicted_events['availability_duration_days_fixed'] = predicted_events['event_end_date'] - predicted_events['event_start_date']\n",
    "predicted_events['availability_duration_days_fixed'] = predicted_events['availability_duration_days_fixed'].dt.days"
   ]
  },
  {
   "cell_type": "code",
   "execution_count": 28,
   "metadata": {},
   "outputs": [],
   "source": [
    "#curated-events - advisen events that are likely availability events - manual annotation\n",
    "availability_event_ids = [36744,3439,28762,8299,44321,47261,27619, 12681,54226,16055,15842,1398,21726,21729,15850,47715,3997,51734,16060,46479,16549,63570,13826,27620,16724,14498,33910,8211,7663,63814,48399,63898,23300]\n",
    "predicted_events.loc[predicted_events['event_id'].isin(availability_event_ids),'annotated_availability_events'] = True\n",
    "predicted_events['source'] = 'Advisen'"
   ]
  },
  {
   "cell_type": "code",
   "execution_count": 29,
   "metadata": {},
   "outputs": [],
   "source": [
    "#Advisen data\n",
    "advisen_events = predicted_events.loc[predicted_events['annotated_availability_events']==True,['availability_duration_days_fixed','source']]"
   ]
  },
  {
   "cell_type": "code",
   "execution_count": 59,
   "metadata": {},
   "outputs": [
    {
     "data": {
      "text/html": [
       "<div>\n",
       "<style scoped>\n",
       "    .dataframe tbody tr th:only-of-type {\n",
       "        vertical-align: middle;\n",
       "    }\n",
       "\n",
       "    .dataframe tbody tr th {\n",
       "        vertical-align: top;\n",
       "    }\n",
       "\n",
       "    .dataframe thead th {\n",
       "        text-align: right;\n",
       "    }\n",
       "</style>\n",
       "<table border=\"1\" class=\"dataframe\">\n",
       "  <thead>\n",
       "    <tr style=\"text-align: right;\">\n",
       "      <th></th>\n",
       "      <th>dedup_id</th>\n",
       "      <th>event_id</th>\n",
       "      <th>source_name</th>\n",
       "      <th>source_id</th>\n",
       "      <th>company_instance_id</th>\n",
       "      <th>insured_exposure</th>\n",
       "      <th>uninsured_exposure</th>\n",
       "      <th>event_type</th>\n",
       "      <th>event_name</th>\n",
       "      <th>event_start_date</th>\n",
       "      <th>is_event_start_date_estimated</th>\n",
       "      <th>event_end_date</th>\n",
       "      <th>breach_duration_days</th>\n",
       "      <th>availability_duration_days</th>\n",
       "      <th>event_aware_date</th>\n",
       "      <th>event_disclosure_date</th>\n",
       "      <th>affected_products</th>\n",
       "      <th>compromised_data_types</th>\n",
       "      <th>compromised_data_amount</th>\n",
       "      <th>attack_vector</th>\n",
       "      <th>mitre_attack_techniques</th>\n",
       "      <th>cve</th>\n",
       "      <th>malware_name</th>\n",
       "      <th>actor_name</th>\n",
       "      <th>actor_mitre_id</th>\n",
       "      <th>actor_type</th>\n",
       "      <th>impact_type_confidentiality</th>\n",
       "      <th>impact_type_integrity</th>\n",
       "      <th>impact_type_availability</th>\n",
       "      <th>impact_type_extortion</th>\n",
       "      <th>number_of_companies_affected</th>\n",
       "      <th>lost_income_cost_millions_usd</th>\n",
       "      <th>liability_third_party_cost_millions_usd</th>\n",
       "      <th>liability_first_party_cost_millions_usd</th>\n",
       "      <th>injury_cost_millions_usd</th>\n",
       "      <th>property_cost_millions_usd</th>\n",
       "      <th>response_cost_millions_usd</th>\n",
       "      <th>regulatory_costs_millions_usd</th>\n",
       "      <th>total_cost_millions_usd</th>\n",
       "      <th>extortion_amount_millions_usd</th>\n",
       "      <th>extortion_paid_millions_usd</th>\n",
       "      <th>extortion_paid</th>\n",
       "      <th>other_costs_millions_usd</th>\n",
       "      <th>settlement_amount_paid_millions_usd</th>\n",
       "      <th>created_at</th>\n",
       "      <th>company_instance_id</th>\n",
       "      <th>company_unique_id</th>\n",
       "      <th>company_name</th>\n",
       "      <th>company_name_aliases</th>\n",
       "      <th>company_domain</th>\n",
       "      <th>company_domain_aliases</th>\n",
       "      <th>company_employee_number</th>\n",
       "      <th>company_employee_range</th>\n",
       "      <th>company_revenue_millions_usd</th>\n",
       "      <th>company_revenue_range</th>\n",
       "      <th>company_country</th>\n",
       "      <th>company_country_code</th>\n",
       "      <th>company_state</th>\n",
       "      <th>company_city</th>\n",
       "      <th>company_zip</th>\n",
       "      <th>company_address</th>\n",
       "      <th>company_type</th>\n",
       "      <th>company_naics</th>\n",
       "      <th>company_sic</th>\n",
       "      <th>company_industry</th>\n",
       "      <th>company_greynoise_results</th>\n",
       "      <th>company_parent_name</th>\n",
       "      <th>company_parent_domain</th>\n",
       "      <th>company_ultimate_parent_name</th>\n",
       "      <th>company_ultimate_parent_domain</th>\n",
       "      <th>created_at</th>\n",
       "      <th>predictions</th>\n",
       "      <th>availability_duration_days_fixed</th>\n",
       "      <th>annotated_availability_events</th>\n",
       "      <th>source</th>\n",
       "      <th>event_id_modified</th>\n",
       "    </tr>\n",
       "  </thead>\n",
       "  <tbody>\n",
       "    <tr>\n",
       "      <th>831</th>\n",
       "      <td>13370</td>\n",
       "      <td>[16549]</td>\n",
       "      <td>['advisen']</td>\n",
       "      <td>['50465' '50463']</td>\n",
       "      <td>16549</td>\n",
       "      <td>NaN</td>\n",
       "      <td>NaN</td>\n",
       "      <td>['Data Breach']</td>\n",
       "      <td>Compass Bank FCRA Violation 2012</td>\n",
       "      <td>2012-02-27</td>\n",
       "      <td>False</td>\n",
       "      <td>NaT</td>\n",
       "      <td>NaN</td>\n",
       "      <td>NaN</td>\n",
       "      <td>2013-01-08</td>\n",
       "      <td>NaT</td>\n",
       "      <td>None</td>\n",
       "      <td>['PII']</td>\n",
       "      <td>None</td>\n",
       "      <td>None</td>\n",
       "      <td>None</td>\n",
       "      <td>None</td>\n",
       "      <td>None</td>\n",
       "      <td>None</td>\n",
       "      <td>None</td>\n",
       "      <td>['Internal - Organization']</td>\n",
       "      <td>True</td>\n",
       "      <td>None</td>\n",
       "      <td>None</td>\n",
       "      <td>None</td>\n",
       "      <td>1.00</td>\n",
       "      <td>NaN</td>\n",
       "      <td>0.00</td>\n",
       "      <td>0.00</td>\n",
       "      <td>0.00</td>\n",
       "      <td>0.00</td>\n",
       "      <td>NaN</td>\n",
       "      <td>0.00</td>\n",
       "      <td>NaN</td>\n",
       "      <td>NaN</td>\n",
       "      <td>NaN</td>\n",
       "      <td>None</td>\n",
       "      <td>NaN</td>\n",
       "      <td>NaN</td>\n",
       "      <td>2022-06-22 16:14:09.951025</td>\n",
       "      <td>16549</td>\n",
       "      <td>1235</td>\n",
       "      <td>Compass Bank</td>\n",
       "      <td>None</td>\n",
       "      <td>www.bbva.com</td>\n",
       "      <td>None</td>\n",
       "      <td>8,000.00</td>\n",
       "      <td>5001 to 10000</td>\n",
       "      <td>4,041.45</td>\n",
       "      <td>$2B-$10B</td>\n",
       "      <td>USA</td>\n",
       "      <td>US</td>\n",
       "      <td>AL</td>\n",
       "      <td>Birmingham</td>\n",
       "      <td>35233-2011</td>\n",
       "      <td>15 20th St S Ste 100</td>\n",
       "      <td>None</td>\n",
       "      <td>522,110.00</td>\n",
       "      <td>6,029.00</td>\n",
       "      <td>Commercial banks, nec</td>\n",
       "      <td>0</td>\n",
       "      <td>None</td>\n",
       "      <td>None</td>\n",
       "      <td>None</td>\n",
       "      <td>None</td>\n",
       "      <td>2022-06-20 21:01:09.567272</td>\n",
       "      <td>0</td>\n",
       "      <td>NaN</td>\n",
       "      <td>NaN</td>\n",
       "      <td>Advisen</td>\n",
       "      <td>16549</td>\n",
       "    </tr>\n",
       "  </tbody>\n",
       "</table>\n",
       "</div>"
      ],
      "text/plain": [
       "     dedup_id event_id  source_name          source_id  company_instance_id  \\\n",
       "831  13370     [16549]  ['advisen']  ['50465' '50463']  16549                 \n",
       "\n",
       "     insured_exposure  uninsured_exposure       event_type  \\\n",
       "831 NaN               NaN                  ['Data Breach']   \n",
       "\n",
       "                           event_name event_start_date  \\\n",
       "831  Compass Bank FCRA Violation 2012 2012-02-27         \n",
       "\n",
       "     is_event_start_date_estimated event_end_date  breach_duration_days  \\\n",
       "831  False                         NaT            NaN                     \n",
       "\n",
       "     availability_duration_days event_aware_date event_disclosure_date  \\\n",
       "831 NaN                         2013-01-08       NaT                     \n",
       "\n",
       "    affected_products compromised_data_types compromised_data_amount  \\\n",
       "831  None              ['PII']                None                     \n",
       "\n",
       "    attack_vector mitre_attack_techniques   cve malware_name actor_name  \\\n",
       "831  None          None                    None  None         None        \n",
       "\n",
       "    actor_mitre_id                   actor_type impact_type_confidentiality  \\\n",
       "831  None           ['Internal - Organization']  True                         \n",
       "\n",
       "    impact_type_integrity impact_type_availability impact_type_extortion  \\\n",
       "831  None                  None                     None                   \n",
       "\n",
       "     number_of_companies_affected  lost_income_cost_millions_usd  \\\n",
       "831 1.00                          NaN                              \n",
       "\n",
       "     liability_third_party_cost_millions_usd  \\\n",
       "831 0.00                                       \n",
       "\n",
       "     liability_first_party_cost_millions_usd  injury_cost_millions_usd  \\\n",
       "831 0.00                                     0.00                        \n",
       "\n",
       "     property_cost_millions_usd  response_cost_millions_usd  \\\n",
       "831 0.00                        NaN                           \n",
       "\n",
       "     regulatory_costs_millions_usd  total_cost_millions_usd  \\\n",
       "831 0.00                           NaN                        \n",
       "\n",
       "     extortion_amount_millions_usd  extortion_paid_millions_usd  \\\n",
       "831 NaN                            NaN                            \n",
       "\n",
       "    extortion_paid  other_costs_millions_usd  \\\n",
       "831  None          NaN                         \n",
       "\n",
       "     settlement_amount_paid_millions_usd                 created_at  \\\n",
       "831 NaN                                  2022-06-22 16:14:09.951025   \n",
       "\n",
       "     company_instance_id  company_unique_id  company_name  \\\n",
       "831  16549                1235               Compass Bank   \n",
       "\n",
       "    company_name_aliases company_domain company_domain_aliases  \\\n",
       "831  None                 www.bbva.com   None                    \n",
       "\n",
       "     company_employee_number company_employee_range  \\\n",
       "831 8,000.00                  5001 to 10000           \n",
       "\n",
       "     company_revenue_millions_usd company_revenue_range company_country  \\\n",
       "831 4,041.45                       $2B-$10B              USA              \n",
       "\n",
       "    company_country_code company_state company_city company_zip  \\\n",
       "831  US                   AL            Birmingham   35233-2011   \n",
       "\n",
       "          company_address company_type  company_naics  company_sic  \\\n",
       "831  15 20th St S Ste 100  None        522,110.00     6,029.00       \n",
       "\n",
       "          company_industry  company_greynoise_results company_parent_name  \\\n",
       "831  Commercial banks, nec  0                          None                 \n",
       "\n",
       "    company_parent_domain company_ultimate_parent_name  \\\n",
       "831  None                  None                          \n",
       "\n",
       "    company_ultimate_parent_domain                 created_at  predictions  \\\n",
       "831  None                          2022-06-20 21:01:09.567272  0             \n",
       "\n",
       "     availability_duration_days_fixed annotated_availability_events   source  \\\n",
       "831 NaN                                NaN                           Advisen   \n",
       "\n",
       "    event_id_modified  \n",
       "831  16549             "
      ]
     },
     "execution_count": 59,
     "metadata": {},
     "output_type": "execute_result"
    }
   ],
   "source": [
    "annotated_event_ids=['36744','3439','28762','8299','44321','47261','27619', '12681','54226','16055','15842','1398','21726','21729','15850','47715','3997','51734','16060','46479','16549','63570','13826','27620','16724','14498','33910','8211','7663','63814','48399','63898','23300']\n",
    "predicted_events['event_id_modified']=predicted_events['event_id'].str.replace('\\[|\\]','')\n",
    "predicted_events[predicted_events['event_id_modified'].isin(annotated_event_ids)]"
   ]
  },
  {
   "cell_type": "markdown",
   "metadata": {},
   "source": [
    "### vcdb data"
   ]
  },
  {
   "cell_type": "code",
   "execution_count": 60,
   "metadata": {},
   "outputs": [
    {
     "name": "stdout",
     "output_type": "stream",
     "text": [
      "server connected\n"
     ]
    }
   ],
   "source": [
    "vcdb_availability = read_vcdb_events()"
   ]
  },
  {
   "cell_type": "code",
   "execution_count": 61,
   "metadata": {},
   "outputs": [
    {
     "data": {
      "application/vnd.jupyter.widget-view+json": {
       "model_id": "745574e6c55340b8a4868ebe8c336a0a",
       "version_major": 2,
       "version_minor": 0
      },
      "text/plain": [
       "Summarize dataset:   0%|          | 0/5 [00:00<?, ?it/s]"
      ]
     },
     "metadata": {},
     "output_type": "display_data"
    },
    {
     "data": {
      "application/vnd.jupyter.widget-view+json": {
       "model_id": "498127b771124d65a80e339eca2606fd",
       "version_major": 2,
       "version_minor": 0
      },
      "text/plain": [
       "Generate report structure:   0%|          | 0/1 [00:00<?, ?it/s]"
      ]
     },
     "metadata": {},
     "output_type": "display_data"
    },
    {
     "data": {
      "application/vnd.jupyter.widget-view+json": {
       "model_id": "8aeeff40b11448de85a6cb349dc81998",
       "version_major": 2,
       "version_minor": 0
      },
      "text/plain": [
       "Render HTML:   0%|          | 0/1 [00:00<?, ?it/s]"
      ]
     },
     "metadata": {},
     "output_type": "display_data"
    },
    {
     "data": {
      "application/vnd.jupyter.widget-view+json": {
       "model_id": "1593700dc57f4ccc9d8b8f4f48b3276e",
       "version_major": 2,
       "version_minor": 0
      },
      "text/plain": [
       "Export report to file:   0%|          | 0/1 [00:00<?, ?it/s]"
      ]
     },
     "metadata": {},
     "output_type": "display_data"
    }
   ],
   "source": [
    "profile_vcdb_events = ProfileReport(vcdb_availability, title='vcdb_events_EDA',minimal=True)\n",
    "profile_vcdb_events.to_file('data/vcdb_events_EDA.html')"
   ]
  },
  {
   "cell_type": "code",
   "execution_count": 62,
   "metadata": {},
   "outputs": [],
   "source": [
    "def convert_duration_to_days(df, unit_col, val_col, create_col):\n",
    "    \"\"\"convert duration to days based on unit column\"\"\"\n",
    "    df = df.copy()\n",
    "    mapping = {'Days':1, 'Hours':1/24, 'Weeks':7, 'Minutes':1/(24*60), 'Months':30, 'Years':365, 'Never':np.nan}\n",
    "    for units,values in mapping.items():\n",
    "        df.loc[df[unit_col]==units,create_col]=df[val_col]*values\n",
    "    return df"
   ]
  },
  {
   "cell_type": "code",
   "execution_count": 63,
   "metadata": {},
   "outputs": [],
   "source": [
    "vcdb_availability_duration_fixed = convert_duration_to_days(df = vcdb_availability, unit_col='attribute_availability_duration_unit',val_col='attribute_availability_duration_value',create_col='availability_duration_days')"
   ]
  },
  {
   "cell_type": "code",
   "execution_count": 64,
   "metadata": {},
   "outputs": [
    {
     "data": {
      "application/vnd.jupyter.widget-view+json": {
       "model_id": "0ecb2127ff364f57b56cff6566ac751d",
       "version_major": 2,
       "version_minor": 0
      },
      "text/plain": [
       "  0%|          | 0/125 [00:00<?, ?it/s]"
      ]
     },
     "metadata": {},
     "output_type": "display_data"
    }
   ],
   "source": [
    "predicted_vcdb_events =  event_classifier(df=vcdb_availability_duration_fixed, event_column='summary',path_to_model='data/description_classifying_model.sav')"
   ]
  },
  {
   "cell_type": "code",
   "execution_count": 65,
   "metadata": {},
   "outputs": [],
   "source": [
    "#curated-events - vcdb events that are likely availability events - manual annotation\n",
    "availability_event_ids = [ \"B040AF5E-E527-4193-A95D-01592F7B6FA1\" , \"48789bf0-c8f4-11e9-9c16-3f32faecab86\" , \"7C360C78-68FA-483D-B354-1A74E994F692\" , \"9D6229B5-D8F4-4B6B-91FF-BBF8A9B7061D\" , \"f82ee030-de12-11e9-92e6-b7a271e742aa\" , \"2DE6C6B9-260C-4F42-B870-0D30BB87962A\" , \"90778723-9EEB-42D3-A3C1-1E45360B926C\" , \"C2440E4F-0A77-429D-9F19-3390D484C01E\" , \"B1232E61-68AC-4B75-897E-20961AE49E6C\" , \"5EC74643-0F36-4F2A-BEBD-98A0110162C2\" , \"9C2C2351-AC07-4EFD-9964-2EB451C8654D\" , \"10b98c60-15de-11ea-ba54-075d8b11bbd2\" , \"AEF76670-CA82-469B-BE0A-B5EFA2381D0F\" , \"66650162-DAB0-4C82-A32A-0DEC83735370\" , \"1EF9CAD4-E31D-4506-83FD-7DC218929CB3\" , \"E8D5A222-6138-4997-A50D-127DC7A4963D\" , \"13188709-C0E4-43C8-881F-F00F330353E1\" , \"B4883BFB-38A6-49FE-9766-5E53C020D1BA\" , \"7710424D-5278-4C35-857F-732E8F0BF30F\" , \"A4146679-35A9-45C5-A788-5E58E49C331E\" , \"61BCDB75-75F7-4B2D-9BEB-53E126E667DD\" , \"59CA466B-70E9-4F28-A6D8-4102BBE87197\" , \"89B5C0FB-ED32-46D4-911C-8370B9EA4549\" , \"48B10AED-D009-43FE-A6EC-43347E2CFE14\" , \"9242C268-4AB8-4B18-B3B6-316FEED63778\" , \"B64B656E-64EA-46DD-A7BC-8BAAB6595E8B\" , \"98C6344E-7D1A-42B8-9F06-76D5643B15A6\" , \"A695E842-89AD-4547-B767-076CF8EE6205\" , \"F68EF982-454F-46D2-8545-85FE1E908CD7\" , \"7866B7EE-A40E-463B-A4BD-B0DEC7A3DB94\" , \"973575F9-F725-4B3F-B497-AE648836756E\" , \"E5D427C6-B22B-47E8-8A3A-9FF7B99C07EC\" , \"19E55526-D875-4A1A-9E6D-D454DD72508F\" , \"15561EDD-EE92-4866-BDFC-6548969EC5BA\" , \"18bfa490-07e5-11eb-9be5-67f56bbd8cb4\" , \"12679140-8aae-11e8-874b-dd84fb61b260\" , \"B356D3E7-A041-427F-9477-D25AF2F6E9C6\" , \"E68565A5-6CB5-411B-A952-4EA430D4531C\" , \"e4d7cfc0-761c-11e7-9d88-ab89f89c69db\" , \"950bc800-de09-11e9-92e6-b7a271e742aa\" , \"16618345-9E76-4D8E-9674-BF1E07C3C56F\" , \"AE0AF7D6-B863-4605-A5D3-8087ACD7CA56\" , \"78ee4940-6c82-11e7-8419-7d473c8dcba3\" , \"F47262C8-EADB-4358-8282-A2A0AFAA7FE9\" , \"fce9a620-85f6-11e8-ae9b-a1b647b0d464\" , \"AE263091-A728-4455-88D5-4EBD1F8B480E\" , \"6fbb5ec0-ce65-11e9-b4e5-4769cce343a0\" , \"376F9AAD-7EA1-4B15-8BDC-EE457BFCF152\" , \"AE327DA0-FFE9-4577-A894-F7C972E401A0\" , \"FCA43278-6D87-4ABF-A918-3FA416F7551C\" , \"553E7277-4C8B-4210-A3C0-8FE8FEEE5B65\" , \"2DFBAD24-12AD-4256-85FC-D8EC2D8C71FB\" , \"07c93380-1061-11ea-9257-5f79bcff5761\" , \"2640A6B4-7F2D-43AF-93E6-DD9CBE19658F\" , \"B81E60C1-5020-4DEA-9CF4-BABF44C3D1DF\" , \"ef191cc0-9748-11e8-8342-0f8f10fcd812\" , \"91A96A06-599D-4F10-8A43-909D1EC7D0F0\" , \"5BC06D9F-21C1-4725-AE20-B27355CAEB72\" , \"01468660-8ea4-11e8-8003-e3ff5269fee2\" , \"E2CFF8F0-7478-497A-B0FE-07D97E8BBA9E\" , \"504ff4e0-0fc6-11ea-997d-ff527b87f439\" , \"DC18C7D0-E10A-4F1F-A242-D95572D5AF8C\" , \"1F3704A1-771D-4E77-9B71-2C76DA743381\" , \"4F2D1D4A-3FD6-46DC-B2B8-D296DEE0463D\" , \"24CDDAD9-E931-44F8-8AF8-21AE8ACC426C\" , \"268E0C6F-BA8B-43F4-B980-BB135AF9F98D\" , \"38c01350-72f7-11e7-a859-bd14321ac1c3\" , \"438607BB-8961-417E-B895-F68F9A396569\" , \"BD71EF22-F735-4AE9-A9A4-3F39DABF6169\" , \"9281EA6E-9A68-4074-8F31-9FE98076972E\" , \"AF108731-F2F5-4B1E-B75E-0FC9FFFDE9D9\" , \"E7A11807-6EE6-47AB-88BD-0C56682BABEC\" , \"BB7833CC-EA6B-47C5-864B-62D775458F45\" , \"BAF6581E-08D3-4AAB-9757-0C1CA854F4EF\" , \"E6F5FEBB-A2A3-43B0-8283-AED0F67A9841\" , \"CBC156D3-9481-4E80-8A80-B77FD64F1F5A\" , \"cb5f7460-89a1-11e7-bf1d-81579668407a\" , \"CACCA87D-8FC7-4722-81D7-C84BC9F45C88\" , \"788C3B36-0C11-4398-AA3C-F8E70787DEF3\" , \"4D630A26-B2FC-4A39-BD6E-7D7DA968B17C\" , \"4AFFBDC8-59BE-46A8-B9B9-EA4337770B8D\" , \"C108305E-4753-4279-A5AA-BB5F11C0F9B8\" , \"f17d2ad0-c55a-11e7-8460-859aaa890f03\" , \"0385F25B-DDEF-4838-AAA4-8539F6462DBE\" , \"88409FC9-A75B-4F77-959F-04CDB4EE179B\" , \"a2d88230-0c70-11ea-bb2f-edf349509116\" , \"5B4505C3-A9DD-453D-92DC-EA1AA8AA2996\" , \"8b0b0b80-c335-11e8-be54-d7fc81504f5e\" , \"43702e60-2385-11eb-b77f-316b5c5dd5eb\" , \"aca94ed0-8116-11e7-9cfb-2f8f443557c3\" , \"2B6D006F-BE4B-4240-B011-226DB23247E5\"]\n",
    "vcdb_availability_duration_fixed.loc[vcdb_availability_duration_fixed['incident_id'].isin(availability_event_ids),'annotated_availability_events'] = True\n",
    "vcdb_availability_duration_fixed['source'] = 'VCDB'"
   ]
  },
  {
   "cell_type": "code",
   "execution_count": 66,
   "metadata": {},
   "outputs": [],
   "source": [
    "#aggregate event data from Advisen and VCDB\n",
    "advisen_events = predicted_events.loc[predicted_events['annotated_availability_events']==True,['availability_duration_days_fixed','source']].rename(columns={'availability_duration_days_fixed':'availability_duration_days'})\n",
    "vcdb_events = vcdb_availability_duration_fixed.loc[(vcdb_availability_duration_fixed['annotated_availability_events']==True) & (vcdb_availability_duration_fixed['timeline_incident_year'].between(left=2010, right=2020,inclusive='both')),['availability_duration_days','source']]\n",
    "events_data = pd.concat([advisen_events, vcdb_events],ignore_index=True).rename(columns={'availability_duration_days':'duration'})"
   ]
  },
  {
   "cell_type": "code",
   "execution_count": 67,
   "metadata": {
    "collapsed": false,
    "gather": {
     "logged": 1653583487614
    },
    "jupyter": {
     "outputs_hidden": false
    },
    "nteract": {
     "transient": {
      "deleting": false
     }
    }
   },
   "outputs": [],
   "source": [
    "model_data = df_model[['duration','source']]\n",
    "plot_data = pd.concat([model_data, events_data],ignore_index=True)"
   ]
  },
  {
   "cell_type": "markdown",
   "metadata": {
    "nteract": {
     "transient": {
      "deleting": false
     }
    }
   },
   "source": [
    "### Compare Duration\n"
   ]
  },
  {
   "cell_type": "code",
   "execution_count": 68,
   "metadata": {
    "gather": {
     "logged": 1653583506262
    }
   },
   "outputs": [
    {
     "data": {
      "text/html": [
       "<div>\n",
       "<style scoped>\n",
       "    .dataframe tbody tr th:only-of-type {\n",
       "        vertical-align: middle;\n",
       "    }\n",
       "\n",
       "    .dataframe tbody tr th {\n",
       "        vertical-align: top;\n",
       "    }\n",
       "\n",
       "    .dataframe thead tr th {\n",
       "        text-align: left;\n",
       "    }\n",
       "\n",
       "    .dataframe thead tr:last-of-type th {\n",
       "        text-align: right;\n",
       "    }\n",
       "</style>\n",
       "<table border=\"1\" class=\"dataframe\">\n",
       "  <thead>\n",
       "    <tr>\n",
       "      <th></th>\n",
       "      <th colspan=\"8\" halign=\"left\">duration</th>\n",
       "    </tr>\n",
       "    <tr>\n",
       "      <th></th>\n",
       "      <th>count</th>\n",
       "      <th>mean</th>\n",
       "      <th>std</th>\n",
       "      <th>min</th>\n",
       "      <th>25%</th>\n",
       "      <th>50%</th>\n",
       "      <th>75%</th>\n",
       "      <th>max</th>\n",
       "    </tr>\n",
       "    <tr>\n",
       "      <th>source</th>\n",
       "      <th></th>\n",
       "      <th></th>\n",
       "      <th></th>\n",
       "      <th></th>\n",
       "      <th></th>\n",
       "      <th></th>\n",
       "      <th></th>\n",
       "      <th></th>\n",
       "    </tr>\n",
       "  </thead>\n",
       "  <tbody>\n",
       "    <tr>\n",
       "      <th>VCDB</th>\n",
       "      <td>88.00</td>\n",
       "      <td>4.18</td>\n",
       "      <td>7.69</td>\n",
       "      <td>0.00</td>\n",
       "      <td>0.17</td>\n",
       "      <td>1.50</td>\n",
       "      <td>4.25</td>\n",
       "      <td>49.00</td>\n",
       "    </tr>\n",
       "    <tr>\n",
       "      <th>model</th>\n",
       "      <td>5,694,068.00</td>\n",
       "      <td>3.01</td>\n",
       "      <td>4.70</td>\n",
       "      <td>0.00</td>\n",
       "      <td>0.07</td>\n",
       "      <td>1.22</td>\n",
       "      <td>3.65</td>\n",
       "      <td>35.43</td>\n",
       "    </tr>\n",
       "  </tbody>\n",
       "</table>\n",
       "</div>"
      ],
      "text/plain": [
       "           duration                                    \n",
       "              count mean  std  min  25%  50%  75%   max\n",
       "source                                                 \n",
       "VCDB   88.00        4.18 7.69 0.00 0.17 1.50 4.25 49.00\n",
       "model  5,694,068.00 3.01 4.70 0.00 0.07 1.22 3.65 35.43"
      ]
     },
     "execution_count": 68,
     "metadata": {},
     "output_type": "execute_result"
    }
   ],
   "source": [
    "plot_data.groupby('source').describe()"
   ]
  },
  {
   "cell_type": "code",
   "execution_count": 69,
   "metadata": {
    "gather": {
     "logged": 1653583512813
    }
   },
   "outputs": [
    {
     "data": {
      "image/png": "[encoded data removed]",
      "text/plain": [
       "<Figure size 576x360 with 1 Axes>"
      ]
     },
     "metadata": {
      "needs_background": "light"
     },
     "output_type": "display_data"
    }
   ],
   "source": [
    "fig, ax = plt.subplots(1,1, figsize=(8,5))\n",
    "sns.boxplot(data=plot_data, x='duration', y='source', orient='h',ax=ax)\n",
    "ax.set_xlabel('duration(days)')\n",
    "fig.savefig('img/duration_box_plot.png')"
   ]
  },
  {
   "cell_type": "code",
   "execution_count": 29,
   "metadata": {
    "gather": {
     "logged": 1653583551835
    }
   },
   "outputs": [
    {
     "data": {
      "image/png": "[encoded data removed]",
      "text/plain": [
       "<Figure size 576x360 with 1 Axes>"
      ]
     },
     "metadata": {
      "needs_background": "light"
     },
     "output_type": "display_data"
    }
   ],
   "source": [
    "fig, ax = plt.subplots(1,1, figsize=(8,5))\n",
    "sns.ecdfplot(data=plot_data, x='duration',hue='source',stat='proportion',ax=ax)\n",
    "ax.xaxis.set_major_formatter(mpl.ticker.StrMethodFormatter('{x:,.0f}'))\n",
    "ax.set_xlabel('duration(days)')\n",
    "ax.set_ylabel('probability')\n",
    "# ax.axvspan(xmin=15,xmax=23,alpha=0.2,color='grey',linestyle='dashed',lw=1)\n",
    "# ax.annotate('avg duration of downtime after ransomware attack(statista): 15-23 days', xy=(23, 0.4), xytext=(30, 0.4),xycoords='data',bbox=dict(boxstyle=\"round\", fc=\"none\", ec=\"gray\"),\n",
    "#             arrowprops=dict(arrowstyle=\"->\"))\n",
    "fig.savefig('img/duration_ecdf_plot.png')"
   ]
  },
  {
   "cell_type": "code",
   "execution_count": 30,
   "metadata": {
    "gather": {
     "logged": 1653583560284
    }
   },
   "outputs": [
    {
     "data": {
      "image/png": "[encoded data removed]",
      "text/plain": [
       "<Figure size 576x360 with 1 Axes>"
      ]
     },
     "metadata": {
      "needs_background": "light"
     },
     "output_type": "display_data"
    }
   ],
   "source": [
    "fig, ax = plt.subplots(1,1, figsize=(8,5))\n",
    "sns.histplot(data=plot_data, x='duration', hue='source', stat='probability', binwidth=5, alpha=0.2, common_norm=False, ax=ax)\n",
    "ax.axvspan(xmin=15,xmax=23,alpha=0.2,color='grey',linestyle='dashed',lw=1)\n",
    "ax.annotate('avg duration of downtime after a ransomware attack(Coveware): 15-23 days', xy=(23, 0.4), xytext=(30, 0.4),xycoords='data',bbox=dict(boxstyle=\"round\", fc=\"none\", ec=\"gray\"),\n",
    "            arrowprops=dict(arrowstyle=\"->\"))\n",
    "ax.set_xlabel('duration(days)')\n",
    "ax.xaxis.set_major_formatter(mpl.ticker.StrMethodFormatter('{x:,.0f}'))\n",
    "fig.savefig('img/duration_histogram.png', bbox_inches='tight')"
   ]
  }
 ],
 "metadata": {
  "interpreter": {
   "hash": "a7fdb59529bf9513c90480c893080bc664f77d140d7aa50da3567b9bf13732f6"
  },
  "kernel_info": {
   "name": "python3-azureml"
  },
  "kernelspec": {
   "display_name": "Python 3 (ipykernel)",
   "language": "python",
   "name": "python3"
  },
  "language_info": {
   "codemirror_mode": {
    "name": "ipython",
    "version": 3
   },
   "file_extension": ".py",
   "mimetype": "text/x-python",
   "name": "python",
   "nbconvert_exporter": "python",
   "pygments_lexer": "ipython3",
   "version": "3.8.5"
  },
  "microsoft": {
   "host": {
    "AzureML": {
     "notebookHasBeenCompleted": true
    }
   }
  },
  "nteract": {
   "version": "nteract-front-end@1.0.0"
  }
 },
 "nbformat": 4,
 "nbformat_minor": 4
}
