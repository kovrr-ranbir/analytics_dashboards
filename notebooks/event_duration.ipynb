{
  "cells": [
    {
      "cell_type": "markdown",
      "metadata": {},
      "source": [
        "## Context\n",
        "KOV-4205 - Incident Impact - Duration\n",
        "\n",
        "- Comparison of the overall distribution from the model with real events\n"
      ]
    },
    {
      "cell_type": "markdown",
      "metadata": {},
      "source": [
        "## Limitations\n",
        "\n",
        "1. Scope: only covers F1000 companies\n",
        "2. Availabiliy model data: only available for companies where a `financial_quantification_input.json` file is generated (currently 948/1000)\n",
        "3. Data quality \n",
        "    - the classification of availability events in both the `model_events` and `vcdb` tables was not reliable and these events had to be manually annotated prior to use. \n",
        "    - the field `availability_duration_days` in the `model_events` table had values that were not correctly calculated. A correction had to made in the analysis to account for this. "
      ]
    },
    {
      "cell_type": "markdown",
      "metadata": {},
      "source": [
        "## Data\n",
        "\n",
        "1. F1000 model data - table - `dna-db.postgres.model_events`\n",
        "    - model version: v2022.2.3 FQ model\n",
        "    - run date: 2022-04-20\n",
        "2. Events data \n",
        "    - table - `dna-db.postgres.data_sources_events`\n",
        "    - table - `dna-db.postgres.data_sources_entities`\n",
        "    - table - `dna-db.data_sources.vcdb`"
      ]
    },
    {
      "cell_type": "markdown",
      "metadata": {},
      "source": [
        "## Conclusion\n",
        "1. Advisen data is from a similar population to the model data is quite sparse for interruption events (with a duration).\n",
        "Separating availability duration from campaign duration can be challenging.\n",
        "2. Veris VCDB contains broader range of companies within the same timeframe (2010-2020), and more availability events.\n",
        "3. Mean duration of interruption (days) - F1OOO Kovrr model (3.01), Advisen (5.14), VCDB (4.18)\n",
        "4. Coveware’s Ransomware report highlights a mean time of 15-23 days. The time to ‘completely resolve’ a ransomware incident.The model mean time as it represents the time to be able to transact again"
      ]
    },
    {
      "cell_type": "markdown",
      "metadata": {},
      "source": [
        "## Testing Detail"
      ]
    },
    {
      "cell_type": "markdown",
      "metadata": {
        "nteract": {
          "transient": {
            "deleting": false
          }
        }
      },
      "source": [
        "### Duration\n",
        "\n"
      ]
    },
    {
      "cell_type": "code",
      "execution_count": 1,
      "metadata": {
        "collapsed": false,
        "gather": {
          "logged": 1653583451847
        },
        "jupyter": {
          "outputs_hidden": false,
          "source_hidden": false
        },
        "nteract": {
          "transient": {
            "deleting": false
          }
        }
      },
      "outputs": [],
      "source": [
        "# builds the connection to azure:\n",
        "%matplotlib inline\n",
        "\n",
        "import os\n",
        "import sys\n",
        "import numpy as np\n",
        "import matplotlib as mpl\n",
        "import seaborn as sns\n",
        "from pandas_profiling import ProfileReport\n",
        "from sentence_transformers import SentenceTransformer\n",
        "from tqdm.notebook import tqdm\n",
        "from sklearn.decomposition import PCA\n",
        "import joblib\n",
        "import xgboost\n",
        "# import custom modules:\n",
        "module_path = os.path.abspath(os.path.join('..'))\n",
        "if module_path not in sys.path:\n",
        "    sys.path.append(module_path)\n",
        "from lib._get_data import *\n",
        "\n",
        "#set colour palette for seaborn\n",
        "colors = set_colours()\n",
        "sns.set_palette(sns.color_palette(colors))\n",
        "#get engine for sql queries\n",
        "engine=get_engine()\n"
      ]
    },
    {
      "cell_type": "code",
      "execution_count": 2,
      "metadata": {
        "gather": {
          "logged": 1653583455307
        }
      },
      "outputs": [],
      "source": [
        "pd.set_option('display.precision',3)\n",
        "pd.set_option('display.max_rows',100)\n",
        "pd.set_option('display.max_columns',100)\n",
        "pd.set_option('display.max_info_rows',100)\n",
        "pd.set_option('display.max_info_columns',50)\n",
        "pd.set_option('display.max_colwidth',0)\n",
        "pd.options.display.float_format='{:,.2f}'.format"
      ]
    },
    {
      "cell_type": "code",
      "execution_count": 3,
      "metadata": {
        "gather": {
          "logged": 1653583457047
        }
      },
      "outputs": [
        {
          "data": {
            "text/plain": [
              "'v2022.2.3'"
            ]
          },
          "execution_count": 3,
          "metadata": {},
          "output_type": "execute_result"
        }
      ],
      "source": [
        "# get model_version\n",
        "model_version = pd.read_sql_query('''select value from model_metadata where item = 'model_version' ''', engine)\n",
        "model_version = model_version.iloc[0][0]\n",
        "model_version"
      ]
    },
    {
      "cell_type": "markdown",
      "metadata": {
        "nteract": {
          "transient": {
            "deleting": false
          }
        }
      },
      "source": [
        "### Get model data"
      ]
    },
    {
      "cell_type": "code",
      "execution_count": 4,
      "metadata": {
        "collapsed": false,
        "gather": {
          "logged": 1653583486642
        },
        "jupyter": {
          "outputs_hidden": false,
          "source_hidden": false
        },
        "nteract": {
          "transient": {
            "deleting": false
          }
        }
      },
      "outputs": [],
      "source": [
        "# get model_data\n",
        "df_model = pd.read_sql_query('''\n",
        "    select\n",
        "        run_id::text as entity,\n",
        "        event_duration/(60*24) as duration,\n",
        "        event_type as event_type\n",
        "    from\n",
        "        model_events\n",
        "''', engine)\n",
        "df_model.pop('entity')\n",
        "df_model['source'] = 'model'\n"
      ]
    },
    {
      "cell_type": "markdown",
      "metadata": {
        "nteract": {
          "transient": {
            "deleting": false
          }
        }
      },
      "source": [
        "### Get Events data"
      ]
    },
    {
      "cell_type": "markdown",
      "metadata": {},
      "source": [
        "#### Investigate Advisen events - including events with availability duration >31 days"
      ]
    },
    {
      "cell_type": "code",
      "execution_count": 5,
      "metadata": {
        "gather": {
          "logged": 1653583560680
        }
      },
      "outputs": [],
      "source": [
        "events = read_f1k_table()"
      ]
    },
    {
      "cell_type": "code",
      "execution_count": 6,
      "metadata": {},
      "outputs": [],
      "source": [
        "#fill missing event names with 'None' - cannot create embeddings for null values\n",
        "events['event_name'] = events['event_name'].fillna('None')"
      ]
    },
    {
      "cell_type": "code",
      "execution_count": 7,
      "metadata": {},
      "outputs": [],
      "source": [
        "def event_classifier(df, event_column, path_to_model):\n",
        "    \"\"\"classify events as availability[1] or non-availability[0] based on pre-trained model\"\"\"\n",
        "    df = df.copy()\n",
        "    model = SentenceTransformer('sentence-transformers/stsb-distilbert-base')\n",
        "    embeddings = [model.encode(x) for x in tqdm(df[event_column].tolist())]\n",
        "    pca = PCA(n_components = 20)\n",
        "    X = pca.fit_transform(embeddings)\n",
        "    best_clf = joblib.load(path_to_model)\n",
        "    y_pred = best_clf.predict(X)\n",
        "    df['predictions'] = y_pred\n",
        "    return df"
      ]
    },
    {
      "cell_type": "code",
      "execution_count": 8,
      "metadata": {},
      "outputs": [
        {
          "data": {
            "application/vnd.jupyter.widget-view+json": {
              "model_id": "e3b20297aa8b49baba6f4a722b7b7790",
              "version_major": 2,
              "version_minor": 0
            },
            "text/plain": [
              "  0%|          | 0/3707 [00:00<?, ?it/s]"
            ]
          },
          "metadata": {},
          "output_type": "display_data"
        },
        {
          "name": "stdout",
          "output_type": "stream",
          "text": [
            "huggingface/tokenizers: The current process just got forked, after parallelism has already been used. Disabling parallelism to avoid deadlocks...\n",
            "To disable this warning, you can either:\n",
            "\t- Avoid using `tokenizers` before the fork if possible\n",
            "\t- Explicitly set the environment variable TOKENIZERS_PARALLELISM=(true | false)\n",
            "huggingface/tokenizers: The current process just got forked, after parallelism has already been used. Disabling parallelism to avoid deadlocks...\n",
            "To disable this warning, you can either:\n",
            "\t- Avoid using `tokenizers` before the fork if possible\n",
            "\t- Explicitly set the environment variable TOKENIZERS_PARALLELISM=(true | false)\n",
            "huggingface/tokenizers: The current process just got forked, after parallelism has already been used. Disabling parallelism to avoid deadlocks...\n",
            "To disable this warning, you can either:\n",
            "\t- Avoid using `tokenizers` before the fork if possible\n",
            "\t- Explicitly set the environment variable TOKENIZERS_PARALLELISM=(true | false)\n",
            "huggingface/tokenizers: The current process just got forked, after parallelism has already been used. Disabling parallelism to avoid deadlocks...\n",
            "To disable this warning, you can either:\n",
            "\t- Avoid using `tokenizers` before the fork if possible\n",
            "\t- Explicitly set the environment variable TOKENIZERS_PARALLELISM=(true | false)\n",
            "huggingface/tokenizers: The current process just got forked, after parallelism has already been used. Disabling parallelism to avoid deadlocks...\n",
            "To disable this warning, you can either:\n",
            "\t- Avoid using `tokenizers` before the fork if possible\n",
            "\t- Explicitly set the environment variable TOKENIZERS_PARALLELISM=(true | false)\n",
            "huggingface/tokenizers: The current process just got forked, after parallelism has already been used. Disabling parallelism to avoid deadlocks...\n",
            "To disable this warning, you can either:\n",
            "\t- Avoid using `tokenizers` before the fork if possible\n",
            "\t- Explicitly set the environment variable TOKENIZERS_PARALLELISM=(true | false)\n",
            "huggingface/tokenizers: The current process just got forked, after parallelism has already been used. Disabling parallelism to avoid deadlocks...\n",
            "To disable this warning, you can either:\n",
            "\t- Avoid using `tokenizers` before the fork if possible\n",
            "\t- Explicitly set the environment variable TOKENIZERS_PARALLELISM=(true | false)\n",
            "huggingface/tokenizers: The current process just got forked, after parallelism has already been used. Disabling parallelism to avoid deadlocks...\n",
            "To disable this warning, you can either:\n",
            "\t- Avoid using `tokenizers` before the fork if possible\n",
            "\t- Explicitly set the environment variable TOKENIZERS_PARALLELISM=(true | false)\n",
            "huggingface/tokenizers: The current process just got forked, after parallelism has already been used. Disabling parallelism to avoid deadlocks...\n",
            "To disable this warning, you can either:\n",
            "\t- Avoid using `tokenizers` before the fork if possible\n",
            "\t- Explicitly set the environment variable TOKENIZERS_PARALLELISM=(true | false)\n",
            "huggingface/tokenizers: The current process just got forked, after parallelism has already been used. Disabling parallelism to avoid deadlocks...\n",
            "To disable this warning, you can either:\n",
            "\t- Avoid using `tokenizers` before the fork if possible\n",
            "\t- Explicitly set the environment variable TOKENIZERS_PARALLELISM=(true | false)\n",
            "huggingface/tokenizers: The current process just got forked, after parallelism has already been used. Disabling parallelism to avoid deadlocks...\n",
            "To disable this warning, you can either:\n",
            "\t- Avoid using `tokenizers` before the fork if possible\n",
            "\t- Explicitly set the environment variable TOKENIZERS_PARALLELISM=(true | false)\n",
            "huggingface/tokenizers: The current process just got forked, after parallelism has already been used. Disabling parallelism to avoid deadlocks...\n",
            "To disable this warning, you can either:\n",
            "\t- Avoid using `tokenizers` before the fork if possible\n",
            "\t- Explicitly set the environment variable TOKENIZERS_PARALLELISM=(true | false)\n",
            "huggingface/tokenizers: The current process just got forked, after parallelism has already been used. Disabling parallelism to avoid deadlocks...\n",
            "To disable this warning, you can either:\n",
            "\t- Avoid using `tokenizers` before the fork if possible\n",
            "\t- Explicitly set the environment variable TOKENIZERS_PARALLELISM=(true | false)\n"
          ]
        },
        {
          "name": "stderr",
          "output_type": "stream",
          "text": [
            "/home/azureuser/virtualenvs/analytics_pipeline_results/lib/python3.8/site-packages/sklearn/base.py:329: UserWarning: Trying to unpickle estimator LabelEncoder from version 1.0.2 when using version 1.1.1. This might lead to breaking code or invalid results. Use at your own risk. For more info please refer to:\n",
            "https://scikit-learn.org/stable/model_persistence.html#security-maintainability-limitations\n",
            "  warnings.warn(\n"
          ]
        }
      ],
      "source": [
        "predicted_events =  event_classifier(df=events, event_column='event_name',path_to_model='data/description_classifying_model.sav')"
      ]
    },
    {
      "cell_type": "code",
      "execution_count": 9,
      "metadata": {},
      "outputs": [
        {
          "data": {
            "text/plain": [
              "0    3686\n",
              "1    21  \n",
              "Name: predictions, dtype: int64"
            ]
          },
          "execution_count": 9,
          "metadata": {},
          "output_type": "execute_result"
        }
      ],
      "source": [
        "predicted_events['predictions'].value_counts()"
      ]
    },
    {
      "cell_type": "code",
      "execution_count": 10,
      "metadata": {},
      "outputs": [
        {
          "data": {
            "text/html": [
              "<div>\n",
              "<style scoped>\n",
              "    .dataframe tbody tr th:only-of-type {\n",
              "        vertical-align: middle;\n",
              "    }\n",
              "\n",
              "    .dataframe tbody tr th {\n",
              "        vertical-align: top;\n",
              "    }\n",
              "\n",
              "    .dataframe thead th {\n",
              "        text-align: right;\n",
              "    }\n",
              "</style>\n",
              "<table border=\"1\" class=\"dataframe\">\n",
              "  <thead>\n",
              "    <tr style=\"text-align: right;\">\n",
              "      <th></th>\n",
              "      <th>availability_duration_days</th>\n",
              "      <th>breach_duration_days</th>\n",
              "      <th>event_name</th>\n",
              "    </tr>\n",
              "  </thead>\n",
              "  <tbody>\n",
              "    <tr>\n",
              "      <th>202</th>\n",
              "      <td>NaN</td>\n",
              "      <td>354.00</td>\n",
              "      <td>American Express Co., PECR Violation 2021</td>\n",
              "    </tr>\n",
              "    <tr>\n",
              "      <th>211</th>\n",
              "      <td>NaN</td>\n",
              "      <td>NaN</td>\n",
              "      <td>Cerner Corporation Inadvertent Disclosure, 2019</td>\n",
              "    </tr>\n",
              "    <tr>\n",
              "      <th>465</th>\n",
              "      <td>NaN</td>\n",
              "      <td>NaN</td>\n",
              "      <td>Fidelity National Information Services, Inc. 2011</td>\n",
              "    </tr>\n",
              "    <tr>\n",
              "      <th>614</th>\n",
              "      <td>NaN</td>\n",
              "      <td>NaN</td>\n",
              "      <td>Attunity Leaked Data 2019</td>\n",
              "    </tr>\n",
              "    <tr>\n",
              "      <th>1007</th>\n",
              "      <td>NaN</td>\n",
              "      <td>NaN</td>\n",
              "      <td>Centene Corporation et al Unauthorized Contact, 2020</td>\n",
              "    </tr>\n",
              "    <tr>\n",
              "      <th>1181</th>\n",
              "      <td>NaN</td>\n",
              "      <td>55.00</td>\n",
              "      <td>Verizon Communications, Inc. TCPA &amp; FCCPA violations, 2019</td>\n",
              "    </tr>\n",
              "    <tr>\n",
              "      <th>1196</th>\n",
              "      <td>NaN</td>\n",
              "      <td>NaN</td>\n",
              "      <td>Synchrony Financial, TCPA Violatio, 2019</td>\n",
              "    </tr>\n",
              "    <tr>\n",
              "      <th>1202</th>\n",
              "      <td>NaN</td>\n",
              "      <td>NaN</td>\n",
              "      <td>Johns Manville Corp. and Automatic Data Processing, Inc., Unintentional Disclosure, 2019</td>\n",
              "    </tr>\n",
              "    <tr>\n",
              "      <th>1209</th>\n",
              "      <td>NaN</td>\n",
              "      <td>NaN</td>\n",
              "      <td>NYC Health Hospitals Loss of Device, 2019</td>\n",
              "    </tr>\n",
              "    <tr>\n",
              "      <th>1306</th>\n",
              "      <td>NaN</td>\n",
              "      <td>NaN</td>\n",
              "      <td>ExamOne Lost Printed Records, 2019</td>\n",
              "    </tr>\n",
              "    <tr>\n",
              "      <th>1553</th>\n",
              "      <td>NaN</td>\n",
              "      <td>NaN</td>\n",
              "      <td>Charter Communications, Inc. TCPA &amp; MTCCCA Violations, 2019</td>\n",
              "    </tr>\n",
              "    <tr>\n",
              "      <th>1771</th>\n",
              "      <td>NaN</td>\n",
              "      <td>NaN</td>\n",
              "      <td>Abercrombie &amp; Fitch Co., TCPA Violation, 2019</td>\n",
              "    </tr>\n",
              "    <tr>\n",
              "      <th>1789</th>\n",
              "      <td>NaN</td>\n",
              "      <td>NaN</td>\n",
              "      <td>Costco Website Down, 2019</td>\n",
              "    </tr>\n",
              "    <tr>\n",
              "      <th>1971</th>\n",
              "      <td>NaN</td>\n",
              "      <td>NaN</td>\n",
              "      <td>Alphabet GDRP Violation, 2019</td>\n",
              "    </tr>\n",
              "    <tr>\n",
              "      <th>2274</th>\n",
              "      <td>NaN</td>\n",
              "      <td>6.00</td>\n",
              "      <td>Target Enterprise, Inc. MCPA &amp; MDCRA Violations, 2018</td>\n",
              "    </tr>\n",
              "    <tr>\n",
              "      <th>2511</th>\n",
              "      <td>NaN</td>\n",
              "      <td>NaN</td>\n",
              "      <td>Equifax Information Services, LLC, et al, FCRA &amp; FDCPA Violations 2019</td>\n",
              "    </tr>\n",
              "    <tr>\n",
              "      <th>2720</th>\n",
              "      <td>NaN</td>\n",
              "      <td>NaN</td>\n",
              "      <td>Health Care Service Corporation Unintentional Disclosure, 2019</td>\n",
              "    </tr>\n",
              "    <tr>\n",
              "      <th>2975</th>\n",
              "      <td>NaN</td>\n",
              "      <td>122.00</td>\n",
              "      <td>H&amp;R Block, Inc. et al TCPA Violation, 2020 - 2021</td>\n",
              "    </tr>\n",
              "    <tr>\n",
              "      <th>3076</th>\n",
              "      <td>NaN</td>\n",
              "      <td>NaN</td>\n",
              "      <td>Equifax Information Services LLC FDCPA &amp; FCRA Violations 2010</td>\n",
              "    </tr>\n",
              "    <tr>\n",
              "      <th>3432</th>\n",
              "      <td>NaN</td>\n",
              "      <td>NaN</td>\n",
              "      <td>Bose Corporation FSCA Violation, 2020-2021</td>\n",
              "    </tr>\n",
              "    <tr>\n",
              "      <th>3694</th>\n",
              "      <td>NaN</td>\n",
              "      <td>171.00</td>\n",
              "      <td>Equifax, Inc. et al, FCRA Violation, 2013</td>\n",
              "    </tr>\n",
              "  </tbody>\n",
              "</table>\n",
              "</div>"
            ],
            "text/plain": [
              "      availability_duration_days  breach_duration_days  \\\n",
              "202  NaN                         354.00                  \n",
              "211  NaN                         NaN                     \n",
              "465  NaN                         NaN                     \n",
              "614  NaN                         NaN                     \n",
              "1007 NaN                         NaN                     \n",
              "1181 NaN                         55.00                   \n",
              "1196 NaN                         NaN                     \n",
              "1202 NaN                         NaN                     \n",
              "1209 NaN                         NaN                     \n",
              "1306 NaN                         NaN                     \n",
              "1553 NaN                         NaN                     \n",
              "1771 NaN                         NaN                     \n",
              "1789 NaN                         NaN                     \n",
              "1971 NaN                         NaN                     \n",
              "2274 NaN                         6.00                    \n",
              "2511 NaN                         NaN                     \n",
              "2720 NaN                         NaN                     \n",
              "2975 NaN                         122.00                  \n",
              "3076 NaN                         NaN                     \n",
              "3432 NaN                         NaN                     \n",
              "3694 NaN                         171.00                  \n",
              "\n",
              "                                                                                    event_name  \n",
              "202   American Express Co., PECR Violation 2021                                                 \n",
              "211   Cerner Corporation Inadvertent Disclosure, 2019                                           \n",
              "465   Fidelity National Information Services, Inc. 2011                                         \n",
              "614   Attunity Leaked Data 2019                                                                 \n",
              "1007  Centene Corporation et al Unauthorized Contact, 2020                                      \n",
              "1181  Verizon Communications, Inc. TCPA & FCCPA violations, 2019                                \n",
              "1196  Synchrony Financial, TCPA Violatio, 2019                                                  \n",
              "1202  Johns Manville Corp. and Automatic Data Processing, Inc., Unintentional Disclosure, 2019  \n",
              "1209  NYC Health Hospitals Loss of Device, 2019                                                 \n",
              "1306  ExamOne Lost Printed Records, 2019                                                        \n",
              "1553  Charter Communications, Inc. TCPA & MTCCCA Violations, 2019                               \n",
              "1771  Abercrombie & Fitch Co., TCPA Violation, 2019                                             \n",
              "1789  Costco Website Down, 2019                                                                 \n",
              "1971  Alphabet GDRP Violation, 2019                                                             \n",
              "2274  Target Enterprise, Inc. MCPA & MDCRA Violations, 2018                                     \n",
              "2511  Equifax Information Services, LLC, et al, FCRA & FDCPA Violations 2019                    \n",
              "2720  Health Care Service Corporation Unintentional Disclosure, 2019                            \n",
              "2975  H&R Block, Inc. et al TCPA Violation, 2020 - 2021                                         \n",
              "3076  Equifax Information Services LLC FDCPA & FCRA Violations 2010                             \n",
              "3432  Bose Corporation FSCA Violation, 2020-2021                                                \n",
              "3694  Equifax, Inc. et al, FCRA Violation, 2013                                                 "
            ]
          },
          "execution_count": 10,
          "metadata": {},
          "output_type": "execute_result"
        }
      ],
      "source": [
        "#availability events\n",
        "predicted_events.loc[predicted_events['predictions']==1,['availability_duration_days','breach_duration_days','event_name']]"
      ]
    },
    {
      "cell_type": "code",
      "execution_count": 11,
      "metadata": {},
      "outputs": [
        {
          "data": {
            "text/html": [
              "<div>\n",
              "<style scoped>\n",
              "    .dataframe tbody tr th:only-of-type {\n",
              "        vertical-align: middle;\n",
              "    }\n",
              "\n",
              "    .dataframe tbody tr th {\n",
              "        vertical-align: top;\n",
              "    }\n",
              "\n",
              "    .dataframe thead th {\n",
              "        text-align: right;\n",
              "    }\n",
              "</style>\n",
              "<table border=\"1\" class=\"dataframe\">\n",
              "  <thead>\n",
              "    <tr style=\"text-align: right;\">\n",
              "      <th></th>\n",
              "      <th>company_name</th>\n",
              "      <th>availability_duration_days</th>\n",
              "      <th>breach_duration_days</th>\n",
              "      <th>event_name</th>\n",
              "    </tr>\n",
              "  </thead>\n",
              "  <tbody>\n",
              "    <tr>\n",
              "      <th>2043</th>\n",
              "      <td>Total System Services Inc.</td>\n",
              "      <td>0.00</td>\n",
              "      <td>NaN</td>\n",
              "      <td>None</td>\n",
              "    </tr>\n",
              "    <tr>\n",
              "      <th>3451</th>\n",
              "      <td>Northside Hospital, Inc.</td>\n",
              "      <td>0.00</td>\n",
              "      <td>NaN</td>\n",
              "      <td>None</td>\n",
              "    </tr>\n",
              "    <tr>\n",
              "      <th>3240</th>\n",
              "      <td>Hasbro, Inc.</td>\n",
              "      <td>0.00</td>\n",
              "      <td>NaN</td>\n",
              "      <td>None</td>\n",
              "    </tr>\n",
              "    <tr>\n",
              "      <th>3233</th>\n",
              "      <td>The Methodist Hospital</td>\n",
              "      <td>0.00</td>\n",
              "      <td>NaN</td>\n",
              "      <td>None</td>\n",
              "    </tr>\n",
              "    <tr>\n",
              "      <th>2993</th>\n",
              "      <td>Mondelez International, Inc.</td>\n",
              "      <td>0.00</td>\n",
              "      <td>NaN</td>\n",
              "      <td>None</td>\n",
              "    </tr>\n",
              "    <tr>\n",
              "      <th>2990</th>\n",
              "      <td>Humana Inc.</td>\n",
              "      <td>0.00</td>\n",
              "      <td>NaN</td>\n",
              "      <td>None</td>\n",
              "    </tr>\n",
              "    <tr>\n",
              "      <th>2988</th>\n",
              "      <td>Electronic Arts Inc.</td>\n",
              "      <td>0.00</td>\n",
              "      <td>NaN</td>\n",
              "      <td>None</td>\n",
              "    </tr>\n",
              "    <tr>\n",
              "      <th>2768</th>\n",
              "      <td>Under Armour, Inc.</td>\n",
              "      <td>0.00</td>\n",
              "      <td>NaN</td>\n",
              "      <td>None</td>\n",
              "    </tr>\n",
              "    <tr>\n",
              "      <th>2552</th>\n",
              "      <td>Dell Inc.</td>\n",
              "      <td>0.00</td>\n",
              "      <td>NaN</td>\n",
              "      <td>None</td>\n",
              "    </tr>\n",
              "    <tr>\n",
              "      <th>2551</th>\n",
              "      <td>Crown Castle International Corp</td>\n",
              "      <td>0.00</td>\n",
              "      <td>NaN</td>\n",
              "      <td>None</td>\n",
              "    </tr>\n",
              "    <tr>\n",
              "      <th>2549</th>\n",
              "      <td>Amedisys, Inc.</td>\n",
              "      <td>0.00</td>\n",
              "      <td>NaN</td>\n",
              "      <td>None</td>\n",
              "    </tr>\n",
              "    <tr>\n",
              "      <th>2310</th>\n",
              "      <td>Adobe Systems Incorporated</td>\n",
              "      <td>0.00</td>\n",
              "      <td>NaN</td>\n",
              "      <td>None</td>\n",
              "    </tr>\n",
              "    <tr>\n",
              "      <th>2056</th>\n",
              "      <td>Bio-Rad Laboratories Inc</td>\n",
              "      <td>0.00</td>\n",
              "      <td>0.00</td>\n",
              "      <td>Bio-Rad Laboratories Inc Ransomware Incident 2019</td>\n",
              "    </tr>\n",
              "    <tr>\n",
              "      <th>3458</th>\n",
              "      <td>Ameriprise Financial Inc</td>\n",
              "      <td>0.00</td>\n",
              "      <td>NaN</td>\n",
              "      <td>None</td>\n",
              "    </tr>\n",
              "    <tr>\n",
              "      <th>1605</th>\n",
              "      <td>Orlando Health</td>\n",
              "      <td>0.00</td>\n",
              "      <td>NaN</td>\n",
              "      <td>None</td>\n",
              "    </tr>\n",
              "    <tr>\n",
              "      <th>1597</th>\n",
              "      <td>Orlando Health</td>\n",
              "      <td>0.00</td>\n",
              "      <td>NaN</td>\n",
              "      <td>None</td>\n",
              "    </tr>\n",
              "    <tr>\n",
              "      <th>3704</th>\n",
              "      <td>Las Vegas Sands Corp.</td>\n",
              "      <td>0.00</td>\n",
              "      <td>NaN</td>\n",
              "      <td>Las Vegas Sands Corp Data Breach 2014: Las Vegas Sands Corp.</td>\n",
              "    </tr>\n",
              "    <tr>\n",
              "      <th>666</th>\n",
              "      <td>Overstock.Com Inc</td>\n",
              "      <td>0.00</td>\n",
              "      <td>NaN</td>\n",
              "      <td>None</td>\n",
              "    </tr>\n",
              "    <tr>\n",
              "      <th>222</th>\n",
              "      <td>Verizon Communications Inc</td>\n",
              "      <td>0.00</td>\n",
              "      <td>NaN</td>\n",
              "      <td>None</td>\n",
              "    </tr>\n",
              "    <tr>\n",
              "      <th>1330</th>\n",
              "      <td>Centene Corporation</td>\n",
              "      <td>0.00</td>\n",
              "      <td>NaN</td>\n",
              "      <td>None</td>\n",
              "    </tr>\n",
              "    <tr>\n",
              "      <th>1322</th>\n",
              "      <td>Adobe Systems Incorporated</td>\n",
              "      <td>0.00</td>\n",
              "      <td>NaN</td>\n",
              "      <td>None</td>\n",
              "    </tr>\n",
              "    <tr>\n",
              "      <th>445</th>\n",
              "      <td>Euronet Worldwide Inc</td>\n",
              "      <td>0.00</td>\n",
              "      <td>NaN</td>\n",
              "      <td>None</td>\n",
              "    </tr>\n",
              "    <tr>\n",
              "      <th>663</th>\n",
              "      <td>Autozone, Inc.</td>\n",
              "      <td>0.00</td>\n",
              "      <td>NaN</td>\n",
              "      <td>None</td>\n",
              "    </tr>\n",
              "    <tr>\n",
              "      <th>1027</th>\n",
              "      <td>Fairview Health Services</td>\n",
              "      <td>0.00</td>\n",
              "      <td>NaN</td>\n",
              "      <td>None</td>\n",
              "    </tr>\n",
              "    <tr>\n",
              "      <th>1340</th>\n",
              "      <td>Electronic Arts Inc.</td>\n",
              "      <td>0.00</td>\n",
              "      <td>NaN</td>\n",
              "      <td>None</td>\n",
              "    </tr>\n",
              "    <tr>\n",
              "      <th>2550</th>\n",
              "      <td>Southwest Airlines Co.</td>\n",
              "      <td>0.12</td>\n",
              "      <td>NaN</td>\n",
              "      <td>None</td>\n",
              "    </tr>\n",
              "    <tr>\n",
              "      <th>3192</th>\n",
              "      <td>Netflix Inc</td>\n",
              "      <td>1.00</td>\n",
              "      <td>NaN</td>\n",
              "      <td>Amazon AWS Service Outage, 2012</td>\n",
              "    </tr>\n",
              "    <tr>\n",
              "      <th>221</th>\n",
              "      <td>Sutter Health</td>\n",
              "      <td>1.00</td>\n",
              "      <td>NaN</td>\n",
              "      <td>None</td>\n",
              "    </tr>\n",
              "    <tr>\n",
              "      <th>1425</th>\n",
              "      <td>Mastercard Incorporated</td>\n",
              "      <td>3.00</td>\n",
              "      <td>NaN</td>\n",
              "      <td>Anonymous Operation Payback 2010</td>\n",
              "    </tr>\n",
              "    <tr>\n",
              "      <th>2803</th>\n",
              "      <td>International Business Machines Corporation</td>\n",
              "      <td>6.00</td>\n",
              "      <td>NaN</td>\n",
              "      <td>National Agricultural Cooperative Federation, Computer Glitch, 2011</td>\n",
              "    </tr>\n",
              "    <tr>\n",
              "      <th>636</th>\n",
              "      <td>Siteone Landscape Supply Inc</td>\n",
              "      <td>12.00</td>\n",
              "      <td>12.00</td>\n",
              "      <td>SiteOne Landscape Supply, Inc. Ransomware Attack, 2020</td>\n",
              "    </tr>\n",
              "    <tr>\n",
              "      <th>425</th>\n",
              "      <td>Bristol-Myers Squibb Company</td>\n",
              "      <td>14.00</td>\n",
              "      <td>NaN</td>\n",
              "      <td>eResearchTechnology Inc Ransomware Attack, 2020</td>\n",
              "    </tr>\n",
              "    <tr>\n",
              "      <th>3043</th>\n",
              "      <td>Paypal Holdings, Inc.</td>\n",
              "      <td>23.00</td>\n",
              "      <td>NaN</td>\n",
              "      <td>Anonymous Operation Payback 2010</td>\n",
              "    </tr>\n",
              "    <tr>\n",
              "      <th>2772</th>\n",
              "      <td>The Walt Disney Company</td>\n",
              "      <td>28.00</td>\n",
              "      <td>NaN</td>\n",
              "      <td>None</td>\n",
              "    </tr>\n",
              "    <tr>\n",
              "      <th>359</th>\n",
              "      <td>Electronic Arts Inc.</td>\n",
              "      <td>31.00</td>\n",
              "      <td>NaN</td>\n",
              "      <td>Valve Corporation et al DerpTrolling DDoS Attack 2013-2014: Electronic Arts</td>\n",
              "    </tr>\n",
              "    <tr>\n",
              "      <th>399</th>\n",
              "      <td>Google Inc.</td>\n",
              "      <td>120.00</td>\n",
              "      <td>120.00</td>\n",
              "      <td>Coronavirus pandemic (COVID-19)</td>\n",
              "    </tr>\n",
              "    <tr>\n",
              "      <th>3358</th>\n",
              "      <td>Hewlett Packard Enterprise Co</td>\n",
              "      <td>211.00</td>\n",
              "      <td>NaN</td>\n",
              "      <td>MegaFon OJSC et al, Cellular Network Outages, 2016-2017</td>\n",
              "    </tr>\n",
              "    <tr>\n",
              "      <th>2047</th>\n",
              "      <td>Global Payments Inc</td>\n",
              "      <td>240.00</td>\n",
              "      <td>NaN</td>\n",
              "      <td>None</td>\n",
              "    </tr>\n",
              "    <tr>\n",
              "      <th>2342</th>\n",
              "      <td>State Street Corporation</td>\n",
              "      <td>272.00</td>\n",
              "      <td>NaN</td>\n",
              "      <td>Izz ad-Din al-Qassam Cyber Fighters DDoS Attacks, 2011-2013</td>\n",
              "    </tr>\n",
              "    <tr>\n",
              "      <th>1643</th>\n",
              "      <td>Compass Bank</td>\n",
              "      <td>272.00</td>\n",
              "      <td>NaN</td>\n",
              "      <td>Izz ad-Din al-Qassam Cyber Fighters DDoS Attacks, 2011-2013</td>\n",
              "    </tr>\n",
              "    <tr>\n",
              "      <th>833</th>\n",
              "      <td>Fifth Third Bancorp</td>\n",
              "      <td>272.00</td>\n",
              "      <td>NaN</td>\n",
              "      <td>Izz ad-Din al-Qassam Cyber Fighters DDoS Attacks, 2011-2013</td>\n",
              "    </tr>\n",
              "    <tr>\n",
              "      <th>1409</th>\n",
              "      <td>Wal-Mart Stores, Inc.</td>\n",
              "      <td>305.00</td>\n",
              "      <td>305.00</td>\n",
              "      <td>Wal-Mart Stores, Inc. Skimming Incident 2012-2013</td>\n",
              "    </tr>\n",
              "    <tr>\n",
              "      <th>550</th>\n",
              "      <td>Netflix Inc</td>\n",
              "      <td>365.00</td>\n",
              "      <td>NaN</td>\n",
              "      <td>The National Crime Agency et. al. DDoS Attacks, 2015-2016</td>\n",
              "    </tr>\n",
              "    <tr>\n",
              "      <th>904</th>\n",
              "      <td>Verizon Communications Inc</td>\n",
              "      <td>365.00</td>\n",
              "      <td>NaN</td>\n",
              "      <td>The National Crime Agency et. al. DDoS Attacks, 2015-2016</td>\n",
              "    </tr>\n",
              "    <tr>\n",
              "      <th>3113</th>\n",
              "      <td>Massachusetts Institute Of Technology</td>\n",
              "      <td>365.00</td>\n",
              "      <td>NaN</td>\n",
              "      <td>The National Crime Agency et. al. DDoS Attacks, 2015-2016</td>\n",
              "    </tr>\n",
              "    <tr>\n",
              "      <th>704</th>\n",
              "      <td>Fidelity National Information Services, Inc.</td>\n",
              "      <td>396.00</td>\n",
              "      <td>NaN</td>\n",
              "      <td>Izz ad-Din al-Qassam Cyber Fighters DDoS Attacks, 2011-2013</td>\n",
              "    </tr>\n",
              "    <tr>\n",
              "      <th>1866</th>\n",
              "      <td>Nasdaq Inc</td>\n",
              "      <td>396.00</td>\n",
              "      <td>NaN</td>\n",
              "      <td>Izz ad-Din al-Qassam Cyber Fighters DDoS Attacks, 2011-2013</td>\n",
              "    </tr>\n",
              "    <tr>\n",
              "      <th>1939</th>\n",
              "      <td>Verizon Communications Inc</td>\n",
              "      <td>638.00</td>\n",
              "      <td>NaN</td>\n",
              "      <td>John Kelsey Gammell DDoS Attack, 2015-2017</td>\n",
              "    </tr>\n",
              "    <tr>\n",
              "      <th>2514</th>\n",
              "      <td>Twitter, Inc.</td>\n",
              "      <td>1,533.00</td>\n",
              "      <td>1,533.00</td>\n",
              "      <td>Twitter Inc., GDPR Violation 2014</td>\n",
              "    </tr>\n",
              "  </tbody>\n",
              "</table>\n",
              "</div>"
            ],
            "text/plain": [
              "                                      company_name  \\\n",
              "2043  Total System Services Inc.                     \n",
              "3451  Northside Hospital, Inc.                       \n",
              "3240  Hasbro, Inc.                                   \n",
              "3233  The Methodist Hospital                         \n",
              "2993  Mondelez International, Inc.                   \n",
              "2990  Humana Inc.                                    \n",
              "2988  Electronic Arts Inc.                           \n",
              "2768  Under Armour, Inc.                             \n",
              "2552  Dell Inc.                                      \n",
              "2551  Crown Castle International Corp                \n",
              "2549  Amedisys, Inc.                                 \n",
              "2310  Adobe Systems Incorporated                     \n",
              "2056  Bio-Rad Laboratories Inc                       \n",
              "3458  Ameriprise Financial Inc                       \n",
              "1605  Orlando Health                                 \n",
              "1597  Orlando Health                                 \n",
              "3704  Las Vegas Sands Corp.                          \n",
              "666   Overstock.Com Inc                              \n",
              "222   Verizon Communications Inc                     \n",
              "1330  Centene Corporation                            \n",
              "1322  Adobe Systems Incorporated                     \n",
              "445   Euronet Worldwide Inc                          \n",
              "663   Autozone, Inc.                                 \n",
              "1027  Fairview Health Services                       \n",
              "1340  Electronic Arts Inc.                           \n",
              "2550  Southwest Airlines Co.                         \n",
              "3192  Netflix Inc                                    \n",
              "221   Sutter Health                                  \n",
              "1425  Mastercard Incorporated                        \n",
              "2803  International Business Machines Corporation    \n",
              "636   Siteone Landscape Supply Inc                   \n",
              "425   Bristol-Myers Squibb Company                   \n",
              "3043  Paypal Holdings, Inc.                          \n",
              "2772  The Walt Disney Company                        \n",
              "359   Electronic Arts Inc.                           \n",
              "399   Google Inc.                                    \n",
              "3358  Hewlett Packard Enterprise Co                  \n",
              "2047  Global Payments Inc                            \n",
              "2342  State Street Corporation                       \n",
              "1643  Compass Bank                                   \n",
              "833   Fifth Third Bancorp                            \n",
              "1409  Wal-Mart Stores, Inc.                          \n",
              "550   Netflix Inc                                    \n",
              "904   Verizon Communications Inc                     \n",
              "3113  Massachusetts Institute Of Technology          \n",
              "704   Fidelity National Information Services, Inc.   \n",
              "1866  Nasdaq Inc                                     \n",
              "1939  Verizon Communications Inc                     \n",
              "2514  Twitter, Inc.                                  \n",
              "\n",
              "      availability_duration_days  breach_duration_days  \\\n",
              "2043 0.00                        NaN                     \n",
              "3451 0.00                        NaN                     \n",
              "3240 0.00                        NaN                     \n",
              "3233 0.00                        NaN                     \n",
              "2993 0.00                        NaN                     \n",
              "2990 0.00                        NaN                     \n",
              "2988 0.00                        NaN                     \n",
              "2768 0.00                        NaN                     \n",
              "2552 0.00                        NaN                     \n",
              "2551 0.00                        NaN                     \n",
              "2549 0.00                        NaN                     \n",
              "2310 0.00                        NaN                     \n",
              "2056 0.00                        0.00                    \n",
              "3458 0.00                        NaN                     \n",
              "1605 0.00                        NaN                     \n",
              "1597 0.00                        NaN                     \n",
              "3704 0.00                        NaN                     \n",
              "666  0.00                        NaN                     \n",
              "222  0.00                        NaN                     \n",
              "1330 0.00                        NaN                     \n",
              "1322 0.00                        NaN                     \n",
              "445  0.00                        NaN                     \n",
              "663  0.00                        NaN                     \n",
              "1027 0.00                        NaN                     \n",
              "1340 0.00                        NaN                     \n",
              "2550 0.12                        NaN                     \n",
              "3192 1.00                        NaN                     \n",
              "221  1.00                        NaN                     \n",
              "1425 3.00                        NaN                     \n",
              "2803 6.00                        NaN                     \n",
              "636  12.00                       12.00                   \n",
              "425  14.00                       NaN                     \n",
              "3043 23.00                       NaN                     \n",
              "2772 28.00                       NaN                     \n",
              "359  31.00                       NaN                     \n",
              "399  120.00                      120.00                  \n",
              "3358 211.00                      NaN                     \n",
              "2047 240.00                      NaN                     \n",
              "2342 272.00                      NaN                     \n",
              "1643 272.00                      NaN                     \n",
              "833  272.00                      NaN                     \n",
              "1409 305.00                      305.00                  \n",
              "550  365.00                      NaN                     \n",
              "904  365.00                      NaN                     \n",
              "3113 365.00                      NaN                     \n",
              "704  396.00                      NaN                     \n",
              "1866 396.00                      NaN                     \n",
              "1939 638.00                      NaN                     \n",
              "2514 1,533.00                    1,533.00                \n",
              "\n",
              "                                                                       event_name  \n",
              "2043  None                                                                         \n",
              "3451  None                                                                         \n",
              "3240  None                                                                         \n",
              "3233  None                                                                         \n",
              "2993  None                                                                         \n",
              "2990  None                                                                         \n",
              "2988  None                                                                         \n",
              "2768  None                                                                         \n",
              "2552  None                                                                         \n",
              "2551  None                                                                         \n",
              "2549  None                                                                         \n",
              "2310  None                                                                         \n",
              "2056  Bio-Rad Laboratories Inc Ransomware Incident 2019                            \n",
              "3458  None                                                                         \n",
              "1605  None                                                                         \n",
              "1597  None                                                                         \n",
              "3704  Las Vegas Sands Corp Data Breach 2014: Las Vegas Sands Corp.                 \n",
              "666   None                                                                         \n",
              "222   None                                                                         \n",
              "1330  None                                                                         \n",
              "1322  None                                                                         \n",
              "445   None                                                                         \n",
              "663   None                                                                         \n",
              "1027  None                                                                         \n",
              "1340  None                                                                         \n",
              "2550  None                                                                         \n",
              "3192  Amazon AWS Service Outage, 2012                                              \n",
              "221   None                                                                         \n",
              "1425  Anonymous Operation Payback 2010                                             \n",
              "2803  National Agricultural Cooperative Federation, Computer Glitch, 2011          \n",
              "636   SiteOne Landscape Supply, Inc. Ransomware Attack, 2020                       \n",
              "425   eResearchTechnology Inc Ransomware Attack, 2020                              \n",
              "3043  Anonymous Operation Payback 2010                                             \n",
              "2772  None                                                                         \n",
              "359   Valve Corporation et al DerpTrolling DDoS Attack 2013-2014: Electronic Arts  \n",
              "399   Coronavirus pandemic (COVID-19)                                              \n",
              "3358  MegaFon OJSC et al, Cellular Network Outages, 2016-2017                      \n",
              "2047  None                                                                         \n",
              "2342  Izz ad-Din al-Qassam Cyber Fighters DDoS Attacks, 2011-2013                  \n",
              "1643  Izz ad-Din al-Qassam Cyber Fighters DDoS Attacks, 2011-2013                  \n",
              "833   Izz ad-Din al-Qassam Cyber Fighters DDoS Attacks, 2011-2013                  \n",
              "1409  Wal-Mart Stores, Inc. Skimming Incident 2012-2013                            \n",
              "550   The National Crime Agency et. al. DDoS Attacks, 2015-2016                    \n",
              "904   The National Crime Agency et. al. DDoS Attacks, 2015-2016                    \n",
              "3113  The National Crime Agency et. al. DDoS Attacks, 2015-2016                    \n",
              "704   Izz ad-Din al-Qassam Cyber Fighters DDoS Attacks, 2011-2013                  \n",
              "1866  Izz ad-Din al-Qassam Cyber Fighters DDoS Attacks, 2011-2013                  \n",
              "1939  John Kelsey Gammell DDoS Attack, 2015-2017                                   \n",
              "2514  Twitter Inc., GDPR Violation 2014                                            "
            ]
          },
          "execution_count": 11,
          "metadata": {},
          "output_type": "execute_result"
        }
      ],
      "source": [
        "#non-availability events with an availability duration populated\n",
        "predicted_events.loc[(predicted_events['predictions']==0) & (predicted_events['availability_duration_days'].notnull()),['company_name','availability_duration_days','breach_duration_days','event_name']].sort_values('availability_duration_days')"
      ]
    },
    {
      "cell_type": "code",
      "execution_count": 12,
      "metadata": {},
      "outputs": [],
      "source": [
        "#fix the availability_duration_days - 0 day values calculated instead on nan\n",
        "predicted_events['availability_duration_days_fixed'] = predicted_events['event_end_date'] - predicted_events['event_start_date']\n",
        "predicted_events['availability_duration_days_fixed'] = predicted_events['availability_duration_days_fixed'].dt.days"
      ]
    },
    {
      "cell_type": "code",
      "execution_count": 17,
      "metadata": {},
      "outputs": [],
      "source": [
        "#curated-events - advisen events that are likely availability events - manual annotation\n",
        "availability_event_ids = [36744,3439,28762,8299,44321,47261,27619, 12681,54226,16055,15842,1398,21726,21729,15850,47715,3997,51734,16060,46479,16549,63570,13826,27620,16724,14498,33910,8211,7663,63814,48399,63898,23300]\n",
        "predicted_events.loc[predicted_events['event_id'].isin(availability_event_ids),'annotated_availability_events'] = True\n",
        "predicted_events['source'] = 'Advisen'"
      ]
    },
    {
      "cell_type": "code",
      "execution_count": 18,
      "metadata": {},
      "outputs": [],
      "source": [
        "#Advisen data\n",
        "advisen_events = predicted_events.loc[predicted_events['annotated_availability_events']==True,['availability_duration_days_fixed','source']]"
      ]
    },
    {
      "cell_type": "markdown",
      "metadata": {},
      "source": [
        "### vcdb data"
      ]
    },
    {
      "cell_type": "code",
      "execution_count": 20,
      "metadata": {},
      "outputs": [],
      "source": [
        "vcdb_availability = read_vcdb_events()"
      ]
    },
    {
      "cell_type": "code",
      "execution_count": 21,
      "metadata": {},
      "outputs": [
        {
          "data": {
            "application/vnd.jupyter.widget-view+json": {
              "model_id": "bacaa5d5509545e3a196a3e72ae70fb8",
              "version_major": 2,
              "version_minor": 0
            },
            "text/plain": [
              "Summarize dataset:   0%|          | 0/5 [00:00<?, ?it/s]"
            ]
          },
          "metadata": {},
          "output_type": "display_data"
        },
        {
          "data": {
            "application/vnd.jupyter.widget-view+json": {
              "model_id": "56a57687367244c2b1c9b1d227ac4178",
              "version_major": 2,
              "version_minor": 0
            },
            "text/plain": [
              "Generate report structure:   0%|          | 0/1 [00:00<?, ?it/s]"
            ]
          },
          "metadata": {},
          "output_type": "display_data"
        },
        {
          "data": {
            "application/vnd.jupyter.widget-view+json": {
              "model_id": "e9e89b2601b942b7ac84a26ed66232d4",
              "version_major": 2,
              "version_minor": 0
            },
            "text/plain": [
              "Render HTML:   0%|          | 0/1 [00:00<?, ?it/s]"
            ]
          },
          "metadata": {},
          "output_type": "display_data"
        },
        {
          "data": {
            "application/vnd.jupyter.widget-view+json": {
              "model_id": "6302197f4e42468d8ac20b7bca624c2b",
              "version_major": 2,
              "version_minor": 0
            },
            "text/plain": [
              "Export report to file:   0%|          | 0/1 [00:00<?, ?it/s]"
            ]
          },
          "metadata": {},
          "output_type": "display_data"
        }
      ],
      "source": [
        "profile_vcdb_events = ProfileReport(vcdb_availability, title='vcdb_events_EDA',minimal=True)\n",
        "profile_vcdb_events.to_file('data/vcdb_events_EDA.html')"
      ]
    },
    {
      "cell_type": "code",
      "execution_count": 26,
      "metadata": {},
      "outputs": [],
      "source": [
        "def convert_duration_to_days(df, unit_col, val_col, create_col):\n",
        "    \"\"\"convert duration to days based on unit column\"\"\"\n",
        "    df = df.copy()\n",
        "    mapping = {'Days':1, 'Hours':1/24, 'Weeks':7, 'Minutes':1/(24*60), 'Months':30, 'Years':365, 'Never':np.nan}\n",
        "    for units,values in mapping.items():\n",
        "        df.loc[df[unit_col]==units,create_col]=df[val_col]*values\n",
        "    return df"
      ]
    },
    {
      "cell_type": "code",
      "execution_count": 27,
      "metadata": {},
      "outputs": [],
      "source": [
        "vcdb_availability_duration_fixed = convert_duration_to_days(df = vcdb_availability, unit_col='attribute_availability_duration_unit',val_col='attribute_availability_duration_value',create_col='availability_duration_days')"
      ]
    },
    {
      "cell_type": "code",
      "execution_count": 29,
      "metadata": {},
      "outputs": [
        {
          "data": {
            "application/vnd.jupyter.widget-view+json": {
              "model_id": "d69504bead724f9bbd29b1cbcbdee024",
              "version_major": 2,
              "version_minor": 0
            },
            "text/plain": [
              "  0%|          | 0/125 [00:00<?, ?it/s]"
            ]
          },
          "metadata": {},
          "output_type": "display_data"
        },
        {
          "name": "stderr",
          "output_type": "stream",
          "text": [
            "/home/azureuser/virtualenvs/analytics_pipeline_results/lib/python3.8/site-packages/sklearn/base.py:329: UserWarning: Trying to unpickle estimator LabelEncoder from version 1.0.2 when using version 1.1.1. This might lead to breaking code or invalid results. Use at your own risk. For more info please refer to:\n",
            "https://scikit-learn.org/stable/model_persistence.html#security-maintainability-limitations\n",
            "  warnings.warn(\n"
          ]
        }
      ],
      "source": [
        "\n",
        "predicted_vcdb_events =  event_classifier(df=vcdb_availability_duration_fixed, event_column='summary',path_to_model='data/description_classifying_model.sav')"
      ]
    },
    {
      "cell_type": "code",
      "execution_count": 30,
      "metadata": {},
      "outputs": [],
      "source": [
        "#curated-events - vcdb events that are likely availability events - manual annotation\n",
        "availability_event_ids = [ \"B040AF5E-E527-4193-A95D-01592F7B6FA1\" , \"48789bf0-c8f4-11e9-9c16-3f32faecab86\" , \"7C360C78-68FA-483D-B354-1A74E994F692\" , \"9D6229B5-D8F4-4B6B-91FF-BBF8A9B7061D\" , \"f82ee030-de12-11e9-92e6-b7a271e742aa\" , \"2DE6C6B9-260C-4F42-B870-0D30BB87962A\" , \"90778723-9EEB-42D3-A3C1-1E45360B926C\" , \"C2440E4F-0A77-429D-9F19-3390D484C01E\" , \"B1232E61-68AC-4B75-897E-20961AE49E6C\" , \"5EC74643-0F36-4F2A-BEBD-98A0110162C2\" , \"9C2C2351-AC07-4EFD-9964-2EB451C8654D\" , \"10b98c60-15de-11ea-ba54-075d8b11bbd2\" , \"AEF76670-CA82-469B-BE0A-B5EFA2381D0F\" , \"66650162-DAB0-4C82-A32A-0DEC83735370\" , \"1EF9CAD4-E31D-4506-83FD-7DC218929CB3\" , \"E8D5A222-6138-4997-A50D-127DC7A4963D\" , \"13188709-C0E4-43C8-881F-F00F330353E1\" , \"B4883BFB-38A6-49FE-9766-5E53C020D1BA\" , \"7710424D-5278-4C35-857F-732E8F0BF30F\" , \"A4146679-35A9-45C5-A788-5E58E49C331E\" , \"61BCDB75-75F7-4B2D-9BEB-53E126E667DD\" , \"59CA466B-70E9-4F28-A6D8-4102BBE87197\" , \"89B5C0FB-ED32-46D4-911C-8370B9EA4549\" , \"48B10AED-D009-43FE-A6EC-43347E2CFE14\" , \"9242C268-4AB8-4B18-B3B6-316FEED63778\" , \"B64B656E-64EA-46DD-A7BC-8BAAB6595E8B\" , \"98C6344E-7D1A-42B8-9F06-76D5643B15A6\" , \"A695E842-89AD-4547-B767-076CF8EE6205\" , \"F68EF982-454F-46D2-8545-85FE1E908CD7\" , \"7866B7EE-A40E-463B-A4BD-B0DEC7A3DB94\" , \"973575F9-F725-4B3F-B497-AE648836756E\" , \"E5D427C6-B22B-47E8-8A3A-9FF7B99C07EC\" , \"19E55526-D875-4A1A-9E6D-D454DD72508F\" , \"15561EDD-EE92-4866-BDFC-6548969EC5BA\" , \"18bfa490-07e5-11eb-9be5-67f56bbd8cb4\" , \"12679140-8aae-11e8-874b-dd84fb61b260\" , \"B356D3E7-A041-427F-9477-D25AF2F6E9C6\" , \"E68565A5-6CB5-411B-A952-4EA430D4531C\" , \"e4d7cfc0-761c-11e7-9d88-ab89f89c69db\" , \"950bc800-de09-11e9-92e6-b7a271e742aa\" , \"16618345-9E76-4D8E-9674-BF1E07C3C56F\" , \"AE0AF7D6-B863-4605-A5D3-8087ACD7CA56\" , \"78ee4940-6c82-11e7-8419-7d473c8dcba3\" , \"F47262C8-EADB-4358-8282-A2A0AFAA7FE9\" , \"fce9a620-85f6-11e8-ae9b-a1b647b0d464\" , \"AE263091-A728-4455-88D5-4EBD1F8B480E\" , \"6fbb5ec0-ce65-11e9-b4e5-4769cce343a0\" , \"376F9AAD-7EA1-4B15-8BDC-EE457BFCF152\" , \"AE327DA0-FFE9-4577-A894-F7C972E401A0\" , \"FCA43278-6D87-4ABF-A918-3FA416F7551C\" , \"553E7277-4C8B-4210-A3C0-8FE8FEEE5B65\" , \"2DFBAD24-12AD-4256-85FC-D8EC2D8C71FB\" , \"07c93380-1061-11ea-9257-5f79bcff5761\" , \"2640A6B4-7F2D-43AF-93E6-DD9CBE19658F\" , \"B81E60C1-5020-4DEA-9CF4-BABF44C3D1DF\" , \"ef191cc0-9748-11e8-8342-0f8f10fcd812\" , \"91A96A06-599D-4F10-8A43-909D1EC7D0F0\" , \"5BC06D9F-21C1-4725-AE20-B27355CAEB72\" , \"01468660-8ea4-11e8-8003-e3ff5269fee2\" , \"E2CFF8F0-7478-497A-B0FE-07D97E8BBA9E\" , \"504ff4e0-0fc6-11ea-997d-ff527b87f439\" , \"DC18C7D0-E10A-4F1F-A242-D95572D5AF8C\" , \"1F3704A1-771D-4E77-9B71-2C76DA743381\" , \"4F2D1D4A-3FD6-46DC-B2B8-D296DEE0463D\" , \"24CDDAD9-E931-44F8-8AF8-21AE8ACC426C\" , \"268E0C6F-BA8B-43F4-B980-BB135AF9F98D\" , \"38c01350-72f7-11e7-a859-bd14321ac1c3\" , \"438607BB-8961-417E-B895-F68F9A396569\" , \"BD71EF22-F735-4AE9-A9A4-3F39DABF6169\" , \"9281EA6E-9A68-4074-8F31-9FE98076972E\" , \"AF108731-F2F5-4B1E-B75E-0FC9FFFDE9D9\" , \"E7A11807-6EE6-47AB-88BD-0C56682BABEC\" , \"BB7833CC-EA6B-47C5-864B-62D775458F45\" , \"BAF6581E-08D3-4AAB-9757-0C1CA854F4EF\" , \"E6F5FEBB-A2A3-43B0-8283-AED0F67A9841\" , \"CBC156D3-9481-4E80-8A80-B77FD64F1F5A\" , \"cb5f7460-89a1-11e7-bf1d-81579668407a\" , \"CACCA87D-8FC7-4722-81D7-C84BC9F45C88\" , \"788C3B36-0C11-4398-AA3C-F8E70787DEF3\" , \"4D630A26-B2FC-4A39-BD6E-7D7DA968B17C\" , \"4AFFBDC8-59BE-46A8-B9B9-EA4337770B8D\" , \"C108305E-4753-4279-A5AA-BB5F11C0F9B8\" , \"f17d2ad0-c55a-11e7-8460-859aaa890f03\" , \"0385F25B-DDEF-4838-AAA4-8539F6462DBE\" , \"88409FC9-A75B-4F77-959F-04CDB4EE179B\" , \"a2d88230-0c70-11ea-bb2f-edf349509116\" , \"5B4505C3-A9DD-453D-92DC-EA1AA8AA2996\" , \"8b0b0b80-c335-11e8-be54-d7fc81504f5e\" , \"43702e60-2385-11eb-b77f-316b5c5dd5eb\" , \"aca94ed0-8116-11e7-9cfb-2f8f443557c3\" , \"2B6D006F-BE4B-4240-B011-226DB23247E5\"]\n",
        "vcdb_availability_duration_fixed.loc[vcdb_availability_duration_fixed['incident_id'].isin(availability_event_ids),'annotated_availability_events'] = True\n",
        "vcdb_availability_duration_fixed['source'] = 'VCDB'"
      ]
    },
    {
      "cell_type": "code",
      "execution_count": 35,
      "metadata": {},
      "outputs": [],
      "source": [
        "#aggregate event data from Advisen and VCDB\n",
        "advisen_events = predicted_events.loc[predicted_events['annotated_availability_events']==True,['availability_duration_days_fixed','source']].rename(columns={'availability_duration_days_fixed':'availability_duration_days'})\n",
        "vcdb_events = vcdb_availability_duration_fixed.loc[(vcdb_availability_duration_fixed['annotated_availability_events']==True) & (vcdb_availability_duration_fixed['timeline_incident_year'].between(left=2010, right=2020,inclusive='both')),['availability_duration_days','source']]\n",
        "events_data = pd.concat([advisen_events, vcdb_events],ignore_index=True).rename(columns={'availability_duration_days':'duration'})"
      ]
    },
    {
      "cell_type": "code",
      "execution_count": 37,
      "metadata": {
        "collapsed": false,
        "gather": {
          "logged": 1653583487614
        },
        "jupyter": {
          "outputs_hidden": false,
          "source_hidden": false
        },
        "nteract": {
          "transient": {
            "deleting": false
          }
        }
      },
      "outputs": [],
      "source": [
        "model_data = df_model[['duration','source']]\n",
        "plot_data = pd.concat([model_data, events_data],ignore_index=True)"
      ]
    },
    {
      "cell_type": "markdown",
      "metadata": {
        "nteract": {
          "transient": {
            "deleting": false
          }
        }
      },
      "source": [
        "### Compare Duration\n"
      ]
    },
    {
      "cell_type": "code",
      "execution_count": 39,
      "metadata": {
        "gather": {
          "logged": 1653583506262
        }
      },
      "outputs": [
        {
          "data": {
            "text/html": [
              "<div>\n",
              "<style scoped>\n",
              "    .dataframe tbody tr th:only-of-type {\n",
              "        vertical-align: middle;\n",
              "    }\n",
              "\n",
              "    .dataframe tbody tr th {\n",
              "        vertical-align: top;\n",
              "    }\n",
              "\n",
              "    .dataframe thead tr th {\n",
              "        text-align: left;\n",
              "    }\n",
              "\n",
              "    .dataframe thead tr:last-of-type th {\n",
              "        text-align: right;\n",
              "    }\n",
              "</style>\n",
              "<table border=\"1\" class=\"dataframe\">\n",
              "  <thead>\n",
              "    <tr>\n",
              "      <th></th>\n",
              "      <th colspan=\"8\" halign=\"left\">duration</th>\n",
              "    </tr>\n",
              "    <tr>\n",
              "      <th></th>\n",
              "      <th>count</th>\n",
              "      <th>mean</th>\n",
              "      <th>std</th>\n",
              "      <th>min</th>\n",
              "      <th>25%</th>\n",
              "      <th>50%</th>\n",
              "      <th>75%</th>\n",
              "      <th>max</th>\n",
              "    </tr>\n",
              "    <tr>\n",
              "      <th>source</th>\n",
              "      <th></th>\n",
              "      <th></th>\n",
              "      <th></th>\n",
              "      <th></th>\n",
              "      <th></th>\n",
              "      <th></th>\n",
              "      <th></th>\n",
              "      <th></th>\n",
              "    </tr>\n",
              "  </thead>\n",
              "  <tbody>\n",
              "    <tr>\n",
              "      <th>Advisen</th>\n",
              "      <td>7.00</td>\n",
              "      <td>5.14</td>\n",
              "      <td>5.79</td>\n",
              "      <td>0.00</td>\n",
              "      <td>0.50</td>\n",
              "      <td>3.00</td>\n",
              "      <td>9.00</td>\n",
              "      <td>14.00</td>\n",
              "    </tr>\n",
              "    <tr>\n",
              "      <th>VCDB</th>\n",
              "      <td>88.00</td>\n",
              "      <td>4.18</td>\n",
              "      <td>7.69</td>\n",
              "      <td>0.00</td>\n",
              "      <td>0.17</td>\n",
              "      <td>1.50</td>\n",
              "      <td>4.25</td>\n",
              "      <td>49.00</td>\n",
              "    </tr>\n",
              "    <tr>\n",
              "      <th>model</th>\n",
              "      <td>5,694,068.00</td>\n",
              "      <td>3.01</td>\n",
              "      <td>4.70</td>\n",
              "      <td>0.00</td>\n",
              "      <td>0.07</td>\n",
              "      <td>1.22</td>\n",
              "      <td>3.65</td>\n",
              "      <td>35.43</td>\n",
              "    </tr>\n",
              "  </tbody>\n",
              "</table>\n",
              "</div>"
            ],
            "text/plain": [
              "            duration                                    \n",
              "               count mean  std  min  25%  50%  75%   max\n",
              "source                                                  \n",
              "Advisen 7.00         5.14 5.79 0.00 0.50 3.00 9.00 14.00\n",
              "VCDB    88.00        4.18 7.69 0.00 0.17 1.50 4.25 49.00\n",
              "model   5,694,068.00 3.01 4.70 0.00 0.07 1.22 3.65 35.43"
            ]
          },
          "execution_count": 39,
          "metadata": {},
          "output_type": "execute_result"
        }
      ],
      "source": [
        "plot_data.groupby('source').describe()"
      ]
    },
    {
      "cell_type": "code",
      "execution_count": 40,
      "metadata": {
        "gather": {
          "logged": 1653583512813
        }
      },
      "outputs": [
        {
          "data": {
            "image/png": "[encoded data removed]",
            "text/plain": [
              "<Figure size 576x360 with 1 Axes>"
            ]
          },
          "metadata": {
            "needs_background": "light"
          },
          "output_type": "display_data"
        }
      ],
      "source": [
        "fig, ax = plt.subplots(1,1, figsize=(8,5))\n",
        "sns.boxplot(data=plot_data, x='duration', y='source', orient='h',ax=ax)\n",
        "ax.set_xlabel('duration(days)')\n",
        "fig.savefig('img/duration_box_plot.png')"
      ]
    },
    {
      "cell_type": "code",
      "execution_count": 41,
      "metadata": {
        "gather": {
          "logged": 1653583551835
        }
      },
      "outputs": [
        {
          "data": {
            "image/png": "[encoded data removed]",
            "text/plain": [
              "<Figure size 576x360 with 1 Axes>"
            ]
          },
          "metadata": {
            "needs_background": "light"
          },
          "output_type": "display_data"
        }
      ],
      "source": [
        "fig, ax = plt.subplots(1,1, figsize=(8,5))\n",
        "sns.ecdfplot(data=plot_data, x='duration',hue='source',stat='proportion',ax=ax)\n",
        "ax.xaxis.set_major_formatter(mpl.ticker.StrMethodFormatter('{x:,.0f}'))\n",
        "ax.set_xlabel('duration(days)')\n",
        "ax.set_ylabel('probability')\n",
        "# ax.axvspan(xmin=15,xmax=23,alpha=0.2,color='grey',linestyle='dashed',lw=1)\n",
        "# ax.annotate('avg duration of downtime after ransomware attack(statista): 15-23 days', xy=(23, 0.4), xytext=(30, 0.4),xycoords='data',bbox=dict(boxstyle=\"round\", fc=\"none\", ec=\"gray\"),\n",
        "#             arrowprops=dict(arrowstyle=\"->\"))\n",
        "fig.savefig('img/duration_ecdf_plot.png')"
      ]
    },
    {
      "cell_type": "code",
      "execution_count": 43,
      "metadata": {
        "gather": {
          "logged": 1653583560284
        }
      },
      "outputs": [
        {
          "data": {
            "image/png": "[encoded data removed]",
            "text/plain": [
              "<Figure size 576x360 with 1 Axes>"
            ]
          },
          "metadata": {
            "needs_background": "light"
          },
          "output_type": "display_data"
        }
      ],
      "source": [
        "fig, ax = plt.subplots(1,1, figsize=(8,5))\n",
        "sns.histplot(data=plot_data, x='duration', hue='source', stat='probability', binwidth=5, alpha=0.2, common_norm=False, ax=ax)\n",
        "ax.axvspan(xmin=15,xmax=23,alpha=0.2,color='grey',linestyle='dashed',lw=1)\n",
        "ax.annotate('avg duration of downtime after a ransomware attack(Coveware): 15-23 days', xy=(23, 0.4), xytext=(30, 0.4),xycoords='data',bbox=dict(boxstyle=\"round\", fc=\"none\", ec=\"gray\"),\n",
        "            arrowprops=dict(arrowstyle=\"->\"))\n",
        "ax.set_xlabel('duration(days)')\n",
        "ax.xaxis.set_major_formatter(mpl.ticker.StrMethodFormatter('{x:,.0f}'))\n",
        "fig.savefig('img/duration_histogram.png', bbox_inches='tight')"
      ]
    }
  ],
  "metadata": {
    "interpreter": {
      "hash": "a7fdb59529bf9513c90480c893080bc664f77d140d7aa50da3567b9bf13732f6"
    },
    "kernel_info": {
      "name": "python3-azureml"
    },
    "kernelspec": {
      "display_name": "Python 3.8.5 ('analytics_pipeline_results')",
      "language": "python",
      "name": "python3"
    },
    "language_info": {
      "codemirror_mode": {
        "name": "ipython",
        "version": 3
      },
      "file_extension": ".py",
      "mimetype": "text/x-python",
      "name": "python",
      "nbconvert_exporter": "python",
      "pygments_lexer": "ipython3",
      "version": "3.8.5"
    },
    "microsoft": {
      "host": {
        "AzureML": {
          "notebookHasBeenCompleted": true
        }
      }
    },
    "nteract": {
      "version": "nteract-front-end@1.0.0"
    }
  },
  "nbformat": 4,
  "nbformat_minor": 4
}
